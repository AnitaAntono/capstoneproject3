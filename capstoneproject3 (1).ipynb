{
 "cells": [
  {
   "cell_type": "markdown",
   "metadata": {},
   "source": [
    "# Capstone Project 3\n"
   ]
  },
  {
   "cell_type": "markdown",
   "metadata": {},
   "source": [
    "![California Housing](https://miro.medium.com/max/1400/1*DD_mzNoCNBFI01yvv-B-zw.png)"
   ]
  },
  {
   "cell_type": "markdown",
   "metadata": {},
   "source": [
    "By [Anita Antono](https://github.com/AnitaAntono)\n"
   ]
  },
  {
   "cell_type": "markdown",
   "metadata": {},
   "source": [
    "Pada project ini dataset yang saya gunakan adalah California Housing, Dataset ini adalah versi modifikasi dari dataset California Housing yang tersedia dari halaman Luís Torgo (University of Porto). Luís Torgo memperolehnya dari repositori StatLib (yang sekarang ditutup).\n",
    "\n",
    "Dataset ini muncul dalam makalah 1997 berjudul Sparse Spatial Autoregressions oleh Pace, R. Kelley dan Ronald Barry, yang diterbitkan dalam jurnal Statistics and Probability Letters. Mereka membangunnya menggunakan data sensus California 1990. Ini berisi satu baris per kelompok blok sensus. Grup blok adalah unit geografis terkecil tempat Biro Sensus AS menerbitkan data sampel (grup blok biasanya memiliki populasi 600 hingga 3.000 orang).\n",
    "\n",
    "Dataset dalam direktori ini hampir identik dengan aslinya, dengan dua perbedaan:\n",
    "137 nilai dihapus secara acak dari kolom total_bedrooms, ocean_proximity telah ditambahkan, yang menunjukkan apakah setiap cluster blok berada di dekat laut, dekat area Teluk, pedalaman atau di sebuah pulau? apa yang harus dilakukan dengan data kategorikal?\n",
    "\n",
    "Data set terdiri dari 14448 baris dan 10 kolom, dengan dua tipe data, float64 sebanyak 9 kolom dan object 1 kolom.. \n",
    "\n",
    "Keterangan Dataset sebagai berikut:\n",
    "\n",
    "1. longitude: A measure of how far west a house is; a higher value is farther west\n",
    "\n",
    "2. latitude: A measure of how far north a house is; a higher value is farther north\n",
    "\n",
    "3. housingMedianAge: Median age of a house within a block; a lower number is a newer building\n",
    "\n",
    "4. totalRooms: Total number of rooms within a block\n",
    "\n",
    "5. totalBedrooms: Total number of bedrooms within a block\n",
    "\n",
    "6. population: Total number of people residing within a block\n",
    "\n",
    "7. households: Total number of households, a group of people residing within a home unit, for a block\n",
    "\n",
    "8. medianIncome: Median income for households within a block of houses (measured in tens of thousands of US Dollars)\n",
    "\n",
    "9. oceanProximity: Location of the house w.r.t ocean/sea\n",
    "\n",
    "10. medianHouseValue: Median house value for households within a block (measured in US Dollars)\n"
   ]
  },
  {
   "cell_type": "markdown",
   "metadata": {},
   "source": [
    "### <strong>Import Libraries<strong>\n",
    "\n",
    "#####  Bagian ini berisi semua library yang akan digunakan dalam project.\n",
    "---"
   ]
  },
  {
   "cell_type": "code",
   "execution_count": 1,
   "metadata": {},
   "outputs": [],
   "source": [
    "import pandas as pd \n",
    "import numpy as np\n",
    "import matplotlib.pyplot as plt\n",
    "import seaborn as sns\n",
    "import xgboost as xgb\n",
    "\n",
    "import warnings\n",
    "warnings.filterwarnings('ignore')\n",
    "\n",
    "from sklearn.model_selection import train_test_split, cross_val_score, RandomizedSearchCV, GridSearchCV, KFold\n",
    "\n",
    "import category_encoders as ce\n",
    "from sklearn.preprocessing import OneHotEncoder\n",
    "from sklearn.compose import ColumnTransformer\n",
    "from sklearn.pipeline import Pipeline\n",
    "\n",
    "from sklearn.linear_model import LinearRegression\n",
    "from sklearn.neighbors import KNeighborsRegressor\n",
    "from sklearn.tree import DecisionTreeRegressor\n",
    "from sklearn.ensemble import RandomForestRegressor\n",
    "from xgboost import XGBRegressor\n",
    "from sklearn.compose import TransformedTargetRegressor\n",
    "from sklearn.preprocessing import StandardScaler\n",
    "\n",
    "from sklearn.metrics import r2_score, mean_squared_error, mean_absolute_error, mean_absolute_percentage_error"
   ]
  },
  {
   "cell_type": "markdown",
   "metadata": {},
   "source": [
    "### <strong>Data Loading<strong>\n",
    "\n",
    "##### Bagian ini berisi proses penyiapan data sebelum dilakukan eksplorasi data lebih lanjut. Proses Data Loading dapat berupa memberi nama baru untuk setiap kolom, mengecek ukuran dataset, dll.\n",
    "---"
   ]
  },
  {
   "cell_type": "code",
   "execution_count": 76,
   "metadata": {},
   "outputs": [],
   "source": [
    "df = pd.read_csv('data_california_house (1).csv')"
   ]
  },
  {
   "cell_type": "code",
   "execution_count": 77,
   "metadata": {},
   "outputs": [
    {
     "data": {
      "text/html": [
       "<div>\n",
       "<style scoped>\n",
       "    .dataframe tbody tr th:only-of-type {\n",
       "        vertical-align: middle;\n",
       "    }\n",
       "\n",
       "    .dataframe tbody tr th {\n",
       "        vertical-align: top;\n",
       "    }\n",
       "\n",
       "    .dataframe thead th {\n",
       "        text-align: right;\n",
       "    }\n",
       "</style>\n",
       "<table border=\"1\" class=\"dataframe\">\n",
       "  <thead>\n",
       "    <tr style=\"text-align: right;\">\n",
       "      <th></th>\n",
       "      <th>longitude</th>\n",
       "      <th>latitude</th>\n",
       "      <th>housing_median_age</th>\n",
       "      <th>total_rooms</th>\n",
       "      <th>total_bedrooms</th>\n",
       "      <th>population</th>\n",
       "      <th>households</th>\n",
       "      <th>median_income</th>\n",
       "      <th>ocean_proximity</th>\n",
       "      <th>median_house_value</th>\n",
       "    </tr>\n",
       "  </thead>\n",
       "  <tbody>\n",
       "    <tr>\n",
       "      <th>0</th>\n",
       "      <td>-119.79</td>\n",
       "      <td>36.73</td>\n",
       "      <td>52.0</td>\n",
       "      <td>112.0</td>\n",
       "      <td>28.0</td>\n",
       "      <td>193.0</td>\n",
       "      <td>40.0</td>\n",
       "      <td>1.9750</td>\n",
       "      <td>INLAND</td>\n",
       "      <td>47500.0</td>\n",
       "    </tr>\n",
       "    <tr>\n",
       "      <th>1</th>\n",
       "      <td>-122.21</td>\n",
       "      <td>37.77</td>\n",
       "      <td>43.0</td>\n",
       "      <td>1017.0</td>\n",
       "      <td>328.0</td>\n",
       "      <td>836.0</td>\n",
       "      <td>277.0</td>\n",
       "      <td>2.2604</td>\n",
       "      <td>NEAR BAY</td>\n",
       "      <td>100000.0</td>\n",
       "    </tr>\n",
       "    <tr>\n",
       "      <th>2</th>\n",
       "      <td>-118.04</td>\n",
       "      <td>33.87</td>\n",
       "      <td>17.0</td>\n",
       "      <td>2358.0</td>\n",
       "      <td>396.0</td>\n",
       "      <td>1387.0</td>\n",
       "      <td>364.0</td>\n",
       "      <td>6.2990</td>\n",
       "      <td>&lt;1H OCEAN</td>\n",
       "      <td>285800.0</td>\n",
       "    </tr>\n",
       "    <tr>\n",
       "      <th>3</th>\n",
       "      <td>-118.28</td>\n",
       "      <td>34.06</td>\n",
       "      <td>17.0</td>\n",
       "      <td>2518.0</td>\n",
       "      <td>1196.0</td>\n",
       "      <td>3051.0</td>\n",
       "      <td>1000.0</td>\n",
       "      <td>1.7199</td>\n",
       "      <td>&lt;1H OCEAN</td>\n",
       "      <td>175000.0</td>\n",
       "    </tr>\n",
       "    <tr>\n",
       "      <th>4</th>\n",
       "      <td>-119.81</td>\n",
       "      <td>36.73</td>\n",
       "      <td>50.0</td>\n",
       "      <td>772.0</td>\n",
       "      <td>194.0</td>\n",
       "      <td>606.0</td>\n",
       "      <td>167.0</td>\n",
       "      <td>2.2206</td>\n",
       "      <td>INLAND</td>\n",
       "      <td>59200.0</td>\n",
       "    </tr>\n",
       "    <tr>\n",
       "      <th>...</th>\n",
       "      <td>...</td>\n",
       "      <td>...</td>\n",
       "      <td>...</td>\n",
       "      <td>...</td>\n",
       "      <td>...</td>\n",
       "      <td>...</td>\n",
       "      <td>...</td>\n",
       "      <td>...</td>\n",
       "      <td>...</td>\n",
       "      <td>...</td>\n",
       "    </tr>\n",
       "    <tr>\n",
       "      <th>14443</th>\n",
       "      <td>-121.26</td>\n",
       "      <td>38.27</td>\n",
       "      <td>20.0</td>\n",
       "      <td>1314.0</td>\n",
       "      <td>229.0</td>\n",
       "      <td>712.0</td>\n",
       "      <td>219.0</td>\n",
       "      <td>4.4125</td>\n",
       "      <td>INLAND</td>\n",
       "      <td>144600.0</td>\n",
       "    </tr>\n",
       "    <tr>\n",
       "      <th>14444</th>\n",
       "      <td>-120.89</td>\n",
       "      <td>37.48</td>\n",
       "      <td>27.0</td>\n",
       "      <td>1118.0</td>\n",
       "      <td>195.0</td>\n",
       "      <td>647.0</td>\n",
       "      <td>209.0</td>\n",
       "      <td>2.9135</td>\n",
       "      <td>INLAND</td>\n",
       "      <td>159400.0</td>\n",
       "    </tr>\n",
       "    <tr>\n",
       "      <th>14445</th>\n",
       "      <td>-121.90</td>\n",
       "      <td>36.58</td>\n",
       "      <td>31.0</td>\n",
       "      <td>1431.0</td>\n",
       "      <td>NaN</td>\n",
       "      <td>704.0</td>\n",
       "      <td>393.0</td>\n",
       "      <td>3.1977</td>\n",
       "      <td>NEAR OCEAN</td>\n",
       "      <td>289300.0</td>\n",
       "    </tr>\n",
       "    <tr>\n",
       "      <th>14446</th>\n",
       "      <td>-117.93</td>\n",
       "      <td>33.62</td>\n",
       "      <td>34.0</td>\n",
       "      <td>2125.0</td>\n",
       "      <td>498.0</td>\n",
       "      <td>1052.0</td>\n",
       "      <td>468.0</td>\n",
       "      <td>5.6315</td>\n",
       "      <td>&lt;1H OCEAN</td>\n",
       "      <td>484600.0</td>\n",
       "    </tr>\n",
       "    <tr>\n",
       "      <th>14447</th>\n",
       "      <td>-115.56</td>\n",
       "      <td>32.80</td>\n",
       "      <td>15.0</td>\n",
       "      <td>1171.0</td>\n",
       "      <td>328.0</td>\n",
       "      <td>1024.0</td>\n",
       "      <td>298.0</td>\n",
       "      <td>1.3882</td>\n",
       "      <td>INLAND</td>\n",
       "      <td>69400.0</td>\n",
       "    </tr>\n",
       "  </tbody>\n",
       "</table>\n",
       "<p>14448 rows × 10 columns</p>\n",
       "</div>"
      ],
      "text/plain": [
       "       longitude  latitude  housing_median_age  total_rooms  total_bedrooms  \\\n",
       "0        -119.79     36.73                52.0        112.0            28.0   \n",
       "1        -122.21     37.77                43.0       1017.0           328.0   \n",
       "2        -118.04     33.87                17.0       2358.0           396.0   \n",
       "3        -118.28     34.06                17.0       2518.0          1196.0   \n",
       "4        -119.81     36.73                50.0        772.0           194.0   \n",
       "...          ...       ...                 ...          ...             ...   \n",
       "14443    -121.26     38.27                20.0       1314.0           229.0   \n",
       "14444    -120.89     37.48                27.0       1118.0           195.0   \n",
       "14445    -121.90     36.58                31.0       1431.0             NaN   \n",
       "14446    -117.93     33.62                34.0       2125.0           498.0   \n",
       "14447    -115.56     32.80                15.0       1171.0           328.0   \n",
       "\n",
       "       population  households  median_income ocean_proximity  \\\n",
       "0           193.0        40.0         1.9750          INLAND   \n",
       "1           836.0       277.0         2.2604        NEAR BAY   \n",
       "2          1387.0       364.0         6.2990       <1H OCEAN   \n",
       "3          3051.0      1000.0         1.7199       <1H OCEAN   \n",
       "4           606.0       167.0         2.2206          INLAND   \n",
       "...           ...         ...            ...             ...   \n",
       "14443       712.0       219.0         4.4125          INLAND   \n",
       "14444       647.0       209.0         2.9135          INLAND   \n",
       "14445       704.0       393.0         3.1977      NEAR OCEAN   \n",
       "14446      1052.0       468.0         5.6315       <1H OCEAN   \n",
       "14447      1024.0       298.0         1.3882          INLAND   \n",
       "\n",
       "       median_house_value  \n",
       "0                 47500.0  \n",
       "1                100000.0  \n",
       "2                285800.0  \n",
       "3                175000.0  \n",
       "4                 59200.0  \n",
       "...                   ...  \n",
       "14443            144600.0  \n",
       "14444            159400.0  \n",
       "14445            289300.0  \n",
       "14446            484600.0  \n",
       "14447             69400.0  \n",
       "\n",
       "[14448 rows x 10 columns]"
      ]
     },
     "execution_count": 77,
     "metadata": {},
     "output_type": "execute_result"
    }
   ],
   "source": [
    "df"
   ]
  },
  {
   "cell_type": "code",
   "execution_count": 4,
   "metadata": {},
   "outputs": [
    {
     "name": "stdout",
     "output_type": "stream",
     "text": [
      "Number of rows: 14448\n",
      "Number of columns: 10\n"
     ]
    }
   ],
   "source": [
    "print(f'Number of rows: {df.shape[0]}')\n",
    "print(f'Number of columns: {df.shape[1]}')"
   ]
  },
  {
   "cell_type": "code",
   "execution_count": 5,
   "metadata": {},
   "outputs": [
    {
     "name": "stdout",
     "output_type": "stream",
     "text": [
      "<class 'pandas.core.frame.DataFrame'>\n",
      "RangeIndex: 14448 entries, 0 to 14447\n",
      "Data columns (total 10 columns):\n",
      " #   Column              Non-Null Count  Dtype  \n",
      "---  ------              --------------  -----  \n",
      " 0   longitude           14448 non-null  float64\n",
      " 1   latitude            14448 non-null  float64\n",
      " 2   housing_median_age  14448 non-null  float64\n",
      " 3   total_rooms         14448 non-null  float64\n",
      " 4   total_bedrooms      14311 non-null  float64\n",
      " 5   population          14448 non-null  float64\n",
      " 6   households          14448 non-null  float64\n",
      " 7   median_income       14448 non-null  float64\n",
      " 8   ocean_proximity     14448 non-null  object \n",
      " 9   median_house_value  14448 non-null  float64\n",
      "dtypes: float64(9), object(1)\n",
      "memory usage: 1.1+ MB\n"
     ]
    }
   ],
   "source": [
    "df.info()"
   ]
  },
  {
   "cell_type": "code",
   "execution_count": 6,
   "metadata": {},
   "outputs": [
    {
     "data": {
      "text/html": [
       "<div>\n",
       "<style scoped>\n",
       "    .dataframe tbody tr th:only-of-type {\n",
       "        vertical-align: middle;\n",
       "    }\n",
       "\n",
       "    .dataframe tbody tr th {\n",
       "        vertical-align: top;\n",
       "    }\n",
       "\n",
       "    .dataframe thead th {\n",
       "        text-align: right;\n",
       "    }\n",
       "</style>\n",
       "<table border=\"1\" class=\"dataframe\">\n",
       "  <thead>\n",
       "    <tr style=\"text-align: right;\">\n",
       "      <th></th>\n",
       "      <th>count</th>\n",
       "      <th>mean</th>\n",
       "      <th>std</th>\n",
       "      <th>min</th>\n",
       "      <th>25%</th>\n",
       "      <th>50%</th>\n",
       "      <th>75%</th>\n",
       "      <th>max</th>\n",
       "    </tr>\n",
       "  </thead>\n",
       "  <tbody>\n",
       "    <tr>\n",
       "      <th>longitude</th>\n",
       "      <td>14448.0</td>\n",
       "      <td>-119.566647</td>\n",
       "      <td>2.006587</td>\n",
       "      <td>-124.3500</td>\n",
       "      <td>-121.8000</td>\n",
       "      <td>-118.4900</td>\n",
       "      <td>-118.0000</td>\n",
       "      <td>-114.3100</td>\n",
       "    </tr>\n",
       "    <tr>\n",
       "      <th>latitude</th>\n",
       "      <td>14448.0</td>\n",
       "      <td>35.630093</td>\n",
       "      <td>2.140121</td>\n",
       "      <td>32.5400</td>\n",
       "      <td>33.9300</td>\n",
       "      <td>34.2600</td>\n",
       "      <td>37.7100</td>\n",
       "      <td>41.9500</td>\n",
       "    </tr>\n",
       "    <tr>\n",
       "      <th>housing_median_age</th>\n",
       "      <td>14448.0</td>\n",
       "      <td>28.618702</td>\n",
       "      <td>12.596694</td>\n",
       "      <td>1.0000</td>\n",
       "      <td>18.0000</td>\n",
       "      <td>29.0000</td>\n",
       "      <td>37.0000</td>\n",
       "      <td>52.0000</td>\n",
       "    </tr>\n",
       "    <tr>\n",
       "      <th>total_rooms</th>\n",
       "      <td>14448.0</td>\n",
       "      <td>2640.132683</td>\n",
       "      <td>2191.612441</td>\n",
       "      <td>2.0000</td>\n",
       "      <td>1451.0000</td>\n",
       "      <td>2125.0000</td>\n",
       "      <td>3148.0000</td>\n",
       "      <td>32627.0000</td>\n",
       "    </tr>\n",
       "    <tr>\n",
       "      <th>total_bedrooms</th>\n",
       "      <td>14311.0</td>\n",
       "      <td>538.260709</td>\n",
       "      <td>423.577544</td>\n",
       "      <td>1.0000</td>\n",
       "      <td>295.0000</td>\n",
       "      <td>435.0000</td>\n",
       "      <td>647.0000</td>\n",
       "      <td>6445.0000</td>\n",
       "    </tr>\n",
       "    <tr>\n",
       "      <th>population</th>\n",
       "      <td>14448.0</td>\n",
       "      <td>1425.157323</td>\n",
       "      <td>1149.580157</td>\n",
       "      <td>3.0000</td>\n",
       "      <td>784.0000</td>\n",
       "      <td>1165.0000</td>\n",
       "      <td>1724.0000</td>\n",
       "      <td>35682.0000</td>\n",
       "    </tr>\n",
       "    <tr>\n",
       "      <th>households</th>\n",
       "      <td>14448.0</td>\n",
       "      <td>499.508929</td>\n",
       "      <td>383.098390</td>\n",
       "      <td>1.0000</td>\n",
       "      <td>279.0000</td>\n",
       "      <td>410.0000</td>\n",
       "      <td>604.0000</td>\n",
       "      <td>6082.0000</td>\n",
       "    </tr>\n",
       "    <tr>\n",
       "      <th>median_income</th>\n",
       "      <td>14448.0</td>\n",
       "      <td>3.866667</td>\n",
       "      <td>1.891158</td>\n",
       "      <td>0.4999</td>\n",
       "      <td>2.5706</td>\n",
       "      <td>3.5391</td>\n",
       "      <td>4.7361</td>\n",
       "      <td>15.0001</td>\n",
       "    </tr>\n",
       "    <tr>\n",
       "      <th>median_house_value</th>\n",
       "      <td>14448.0</td>\n",
       "      <td>206824.624516</td>\n",
       "      <td>115365.476182</td>\n",
       "      <td>14999.0000</td>\n",
       "      <td>119600.0000</td>\n",
       "      <td>180000.0000</td>\n",
       "      <td>263900.0000</td>\n",
       "      <td>500001.0000</td>\n",
       "    </tr>\n",
       "  </tbody>\n",
       "</table>\n",
       "</div>"
      ],
      "text/plain": [
       "                      count           mean            std         min  \\\n",
       "longitude           14448.0    -119.566647       2.006587   -124.3500   \n",
       "latitude            14448.0      35.630093       2.140121     32.5400   \n",
       "housing_median_age  14448.0      28.618702      12.596694      1.0000   \n",
       "total_rooms         14448.0    2640.132683    2191.612441      2.0000   \n",
       "total_bedrooms      14311.0     538.260709     423.577544      1.0000   \n",
       "population          14448.0    1425.157323    1149.580157      3.0000   \n",
       "households          14448.0     499.508929     383.098390      1.0000   \n",
       "median_income       14448.0       3.866667       1.891158      0.4999   \n",
       "median_house_value  14448.0  206824.624516  115365.476182  14999.0000   \n",
       "\n",
       "                            25%          50%          75%          max  \n",
       "longitude             -121.8000    -118.4900    -118.0000    -114.3100  \n",
       "latitude                33.9300      34.2600      37.7100      41.9500  \n",
       "housing_median_age      18.0000      29.0000      37.0000      52.0000  \n",
       "total_rooms           1451.0000    2125.0000    3148.0000   32627.0000  \n",
       "total_bedrooms         295.0000     435.0000     647.0000    6445.0000  \n",
       "population             784.0000    1165.0000    1724.0000   35682.0000  \n",
       "households             279.0000     410.0000     604.0000    6082.0000  \n",
       "median_income            2.5706       3.5391       4.7361      15.0001  \n",
       "median_house_value  119600.0000  180000.0000  263900.0000  500001.0000  "
      ]
     },
     "execution_count": 6,
     "metadata": {},
     "output_type": "execute_result"
    }
   ],
   "source": [
    "#Melihat data secara statistik\n",
    "df.describe().T"
   ]
  },
  {
   "cell_type": "code",
   "execution_count": 7,
   "metadata": {},
   "outputs": [
    {
     "name": "stdout",
     "output_type": "stream",
     "text": [
      "Total missing value on the dataset  : 137\n"
     ]
    },
    {
     "data": {
      "text/html": [
       "<div>\n",
       "<style scoped>\n",
       "    .dataframe tbody tr th:only-of-type {\n",
       "        vertical-align: middle;\n",
       "    }\n",
       "\n",
       "    .dataframe tbody tr th {\n",
       "        vertical-align: top;\n",
       "    }\n",
       "\n",
       "    .dataframe thead th {\n",
       "        text-align: right;\n",
       "    }\n",
       "</style>\n",
       "<table border=\"1\" class=\"dataframe\">\n",
       "  <thead>\n",
       "    <tr style=\"text-align: right;\">\n",
       "      <th></th>\n",
       "      <th>missing value</th>\n",
       "    </tr>\n",
       "  </thead>\n",
       "  <tbody>\n",
       "    <tr>\n",
       "      <th>longitude</th>\n",
       "      <td>0</td>\n",
       "    </tr>\n",
       "    <tr>\n",
       "      <th>latitude</th>\n",
       "      <td>0</td>\n",
       "    </tr>\n",
       "    <tr>\n",
       "      <th>housing_median_age</th>\n",
       "      <td>0</td>\n",
       "    </tr>\n",
       "    <tr>\n",
       "      <th>total_rooms</th>\n",
       "      <td>0</td>\n",
       "    </tr>\n",
       "    <tr>\n",
       "      <th>total_bedrooms</th>\n",
       "      <td>137</td>\n",
       "    </tr>\n",
       "    <tr>\n",
       "      <th>population</th>\n",
       "      <td>0</td>\n",
       "    </tr>\n",
       "    <tr>\n",
       "      <th>households</th>\n",
       "      <td>0</td>\n",
       "    </tr>\n",
       "    <tr>\n",
       "      <th>median_income</th>\n",
       "      <td>0</td>\n",
       "    </tr>\n",
       "    <tr>\n",
       "      <th>ocean_proximity</th>\n",
       "      <td>0</td>\n",
       "    </tr>\n",
       "    <tr>\n",
       "      <th>median_house_value</th>\n",
       "      <td>0</td>\n",
       "    </tr>\n",
       "  </tbody>\n",
       "</table>\n",
       "</div>"
      ],
      "text/plain": [
       "                    missing value\n",
       "longitude                       0\n",
       "latitude                        0\n",
       "housing_median_age              0\n",
       "total_rooms                     0\n",
       "total_bedrooms                137\n",
       "population                      0\n",
       "households                      0\n",
       "median_income                   0\n",
       "ocean_proximity                 0\n",
       "median_house_value              0"
      ]
     },
     "execution_count": 7,
     "metadata": {},
     "output_type": "execute_result"
    }
   ],
   "source": [
    "print(\"Total missing value on the dataset  :\" , df.isnull().sum().sum())\n",
    "\n",
    "pd.DataFrame({'missing value' : df.isnull().sum()})"
   ]
  },
  {
   "cell_type": "markdown",
   "metadata": {},
   "source": [
    "*Note: Missing Value terdapat pada kolom 'total_bedrooms' sebanyak [137] pada tahapan ini saya hanya mengecheck Missing Value terdapat di kolom apa, tidak akan saya drop / melakukan handling apapun."
   ]
  },
  {
   "cell_type": "code",
   "execution_count": 74,
   "metadata": {},
   "outputs": [
    {
     "name": "stdout",
     "output_type": "stream",
     "text": [
      "Percentage of missing values in total_bedrooms column: 0.95%\n"
     ]
    }
   ],
   "source": [
    "print(f'Percentage of missing values in total_bedrooms column: {(df.total_bedrooms.isna().sum()/len(df)*100):.2f}%')"
   ]
  },
  {
   "cell_type": "markdown",
   "metadata": {},
   "source": [
    "### <strong>Exploratory Data Analysis / EDA<strong>\n",
    "\n",
    "##### Bagian ini berisi eksplorasi data pada dataset diatas dengan menggunakan query, grouping, visualisasi sederhana, dan lain sebagainya.\n",
    "---"
   ]
  },
  {
   "cell_type": "code",
   "execution_count": 9,
   "metadata": {},
   "outputs": [
    {
     "data": {
      "text/html": [
       "<div>\n",
       "<style scoped>\n",
       "    .dataframe tbody tr th:only-of-type {\n",
       "        vertical-align: middle;\n",
       "    }\n",
       "\n",
       "    .dataframe tbody tr th {\n",
       "        vertical-align: top;\n",
       "    }\n",
       "\n",
       "    .dataframe thead th {\n",
       "        text-align: right;\n",
       "    }\n",
       "</style>\n",
       "<table border=\"1\" class=\"dataframe\">\n",
       "  <thead>\n",
       "    <tr style=\"text-align: right;\">\n",
       "      <th></th>\n",
       "      <th>longitude</th>\n",
       "      <th>latitude</th>\n",
       "      <th>housing_median_age</th>\n",
       "      <th>total_rooms</th>\n",
       "      <th>total_bedrooms</th>\n",
       "      <th>population</th>\n",
       "      <th>households</th>\n",
       "      <th>median_income</th>\n",
       "      <th>median_house_value</th>\n",
       "    </tr>\n",
       "  </thead>\n",
       "  <tbody>\n",
       "    <tr>\n",
       "      <th>longitude</th>\n",
       "      <td>1.0</td>\n",
       "      <td>-0.9251580725207723</td>\n",
       "      <td>-0.11750102930657781</td>\n",
       "      <td>low</td>\n",
       "      <td>low</td>\n",
       "      <td>0.10816097687410561</td>\n",
       "      <td>low</td>\n",
       "      <td>low</td>\n",
       "      <td>low</td>\n",
       "    </tr>\n",
       "    <tr>\n",
       "      <th>latitude</th>\n",
       "      <td>-0.9251580725207723</td>\n",
       "      <td>1.0</td>\n",
       "      <td>low</td>\n",
       "      <td>low</td>\n",
       "      <td>low</td>\n",
       "      <td>-0.11770417275360634</td>\n",
       "      <td>low</td>\n",
       "      <td>low</td>\n",
       "      <td>-0.1439567232840117</td>\n",
       "    </tr>\n",
       "    <tr>\n",
       "      <th>housing_median_age</th>\n",
       "      <td>-0.11750102930657781</td>\n",
       "      <td>low</td>\n",
       "      <td>1.0</td>\n",
       "      <td>-0.3678679024721588</td>\n",
       "      <td>-0.3294475697817316</td>\n",
       "      <td>-0.2997356936857166</td>\n",
       "      <td>-0.31239388305887167</td>\n",
       "      <td>-0.12039579860967592</td>\n",
       "      <td>0.10386295309055153</td>\n",
       "    </tr>\n",
       "    <tr>\n",
       "      <th>total_rooms</th>\n",
       "      <td>low</td>\n",
       "      <td>low</td>\n",
       "      <td>-0.3678679024721588</td>\n",
       "      <td>1.0</td>\n",
       "      <td>0.9319927113799279</td>\n",
       "      <td>0.8534601648100695</td>\n",
       "      <td>0.9192919984895209</td>\n",
       "      <td>0.19954874053590513</td>\n",
       "      <td>0.13197160188863588</td>\n",
       "    </tr>\n",
       "    <tr>\n",
       "      <th>total_bedrooms</th>\n",
       "      <td>low</td>\n",
       "      <td>low</td>\n",
       "      <td>-0.3294475697817316</td>\n",
       "      <td>0.9319927113799279</td>\n",
       "      <td>1.0</td>\n",
       "      <td>0.8746178152507962</td>\n",
       "      <td>0.9785614721478274</td>\n",
       "      <td>low</td>\n",
       "      <td>low</td>\n",
       "    </tr>\n",
       "    <tr>\n",
       "      <th>population</th>\n",
       "      <td>0.10816097687410561</td>\n",
       "      <td>-0.11770417275360634</td>\n",
       "      <td>-0.2997356936857166</td>\n",
       "      <td>0.8534601648100695</td>\n",
       "      <td>0.8746178152507962</td>\n",
       "      <td>1.0</td>\n",
       "      <td>0.9050613414876479</td>\n",
       "      <td>low</td>\n",
       "      <td>low</td>\n",
       "    </tr>\n",
       "    <tr>\n",
       "      <th>households</th>\n",
       "      <td>low</td>\n",
       "      <td>low</td>\n",
       "      <td>-0.31239388305887167</td>\n",
       "      <td>0.9192919984895209</td>\n",
       "      <td>0.9785614721478274</td>\n",
       "      <td>0.9050613414876479</td>\n",
       "      <td>1.0</td>\n",
       "      <td>low</td>\n",
       "      <td>low</td>\n",
       "    </tr>\n",
       "    <tr>\n",
       "      <th>median_income</th>\n",
       "      <td>low</td>\n",
       "      <td>low</td>\n",
       "      <td>-0.12039579860967592</td>\n",
       "      <td>0.19954874053590513</td>\n",
       "      <td>low</td>\n",
       "      <td>low</td>\n",
       "      <td>low</td>\n",
       "      <td>1.0</td>\n",
       "      <td>0.6932728173501709</td>\n",
       "    </tr>\n",
       "    <tr>\n",
       "      <th>median_house_value</th>\n",
       "      <td>low</td>\n",
       "      <td>-0.1439567232840117</td>\n",
       "      <td>0.10386295309055153</td>\n",
       "      <td>0.13197160188863588</td>\n",
       "      <td>low</td>\n",
       "      <td>low</td>\n",
       "      <td>low</td>\n",
       "      <td>0.6932728173501709</td>\n",
       "      <td>1.0</td>\n",
       "    </tr>\n",
       "  </tbody>\n",
       "</table>\n",
       "</div>"
      ],
      "text/plain": [
       "                               longitude              latitude  \\\n",
       "longitude                            1.0   -0.9251580725207723   \n",
       "latitude             -0.9251580725207723                   1.0   \n",
       "housing_median_age  -0.11750102930657781                   low   \n",
       "total_rooms                          low                   low   \n",
       "total_bedrooms                       low                   low   \n",
       "population           0.10816097687410561  -0.11770417275360634   \n",
       "households                           low                   low   \n",
       "median_income                        low                   low   \n",
       "median_house_value                   low   -0.1439567232840117   \n",
       "\n",
       "                      housing_median_age          total_rooms  \\\n",
       "longitude           -0.11750102930657781                  low   \n",
       "latitude                             low                  low   \n",
       "housing_median_age                   1.0  -0.3678679024721588   \n",
       "total_rooms          -0.3678679024721588                  1.0   \n",
       "total_bedrooms       -0.3294475697817316   0.9319927113799279   \n",
       "population           -0.2997356936857166   0.8534601648100695   \n",
       "households          -0.31239388305887167   0.9192919984895209   \n",
       "median_income       -0.12039579860967592  0.19954874053590513   \n",
       "median_house_value   0.10386295309055153  0.13197160188863588   \n",
       "\n",
       "                         total_bedrooms            population  \\\n",
       "longitude                           low   0.10816097687410561   \n",
       "latitude                            low  -0.11770417275360634   \n",
       "housing_median_age  -0.3294475697817316   -0.2997356936857166   \n",
       "total_rooms          0.9319927113799279    0.8534601648100695   \n",
       "total_bedrooms                      1.0    0.8746178152507962   \n",
       "population           0.8746178152507962                   1.0   \n",
       "households           0.9785614721478274    0.9050613414876479   \n",
       "median_income                       low                   low   \n",
       "median_house_value                  low                   low   \n",
       "\n",
       "                              households         median_income  \\\n",
       "longitude                            low                   low   \n",
       "latitude                             low                   low   \n",
       "housing_median_age  -0.31239388305887167  -0.12039579860967592   \n",
       "total_rooms           0.9192919984895209   0.19954874053590513   \n",
       "total_bedrooms        0.9785614721478274                   low   \n",
       "population            0.9050613414876479                   low   \n",
       "households                           1.0                   low   \n",
       "median_income                        low                   1.0   \n",
       "median_house_value                   low    0.6932728173501709   \n",
       "\n",
       "                     median_house_value  \n",
       "longitude                           low  \n",
       "latitude            -0.1439567232840117  \n",
       "housing_median_age  0.10386295309055153  \n",
       "total_rooms         0.13197160188863588  \n",
       "total_bedrooms                      low  \n",
       "population                          low  \n",
       "households                          low  \n",
       "median_income        0.6932728173501709  \n",
       "median_house_value                  1.0  "
      ]
     },
     "execution_count": 9,
     "metadata": {},
     "output_type": "execute_result"
    }
   ],
   "source": [
    "df_cor = df.corr()\n",
    "\n",
    "for i in df_cor:\n",
    "    h = 0\n",
    "    df_cor[i] = np.where(df_cor[i].abs()>0.1, df_cor[i], 'low')\n",
    "\n",
    "df_cor\n",
    "    "
   ]
  },
  {
   "cell_type": "code",
   "execution_count": 73,
   "metadata": {},
   "outputs": [
    {
     "data": {
      "text/html": [
       "<div>\n",
       "<style scoped>\n",
       "    .dataframe tbody tr th:only-of-type {\n",
       "        vertical-align: middle;\n",
       "    }\n",
       "\n",
       "    .dataframe tbody tr th {\n",
       "        vertical-align: top;\n",
       "    }\n",
       "\n",
       "    .dataframe thead th {\n",
       "        text-align: right;\n",
       "    }\n",
       "</style>\n",
       "<table border=\"1\" class=\"dataframe\">\n",
       "  <thead>\n",
       "    <tr style=\"text-align: right;\">\n",
       "      <th></th>\n",
       "      <th>longitude</th>\n",
       "      <th>latitude</th>\n",
       "      <th>housing_median_age</th>\n",
       "      <th>total_rooms</th>\n",
       "      <th>total_bedrooms</th>\n",
       "      <th>population</th>\n",
       "      <th>households</th>\n",
       "      <th>median_income</th>\n",
       "      <th>median_house_value</th>\n",
       "    </tr>\n",
       "  </thead>\n",
       "  <tbody>\n",
       "    <tr>\n",
       "      <th>longitude</th>\n",
       "      <td>1.000000</td>\n",
       "      <td>-0.925158</td>\n",
       "      <td>-0.117501</td>\n",
       "      <td>0.057288</td>\n",
       "      <td>0.079528</td>\n",
       "      <td>0.108161</td>\n",
       "      <td>0.064218</td>\n",
       "      <td>-0.010093</td>\n",
       "      <td>-0.045777</td>\n",
       "    </tr>\n",
       "    <tr>\n",
       "      <th>latitude</th>\n",
       "      <td>-0.925158</td>\n",
       "      <td>1.000000</td>\n",
       "      <td>0.020830</td>\n",
       "      <td>-0.048514</td>\n",
       "      <td>-0.076796</td>\n",
       "      <td>-0.117704</td>\n",
       "      <td>-0.080046</td>\n",
       "      <td>-0.085176</td>\n",
       "      <td>-0.143957</td>\n",
       "    </tr>\n",
       "    <tr>\n",
       "      <th>housing_median_age</th>\n",
       "      <td>-0.117501</td>\n",
       "      <td>0.020830</td>\n",
       "      <td>1.000000</td>\n",
       "      <td>-0.367868</td>\n",
       "      <td>-0.329448</td>\n",
       "      <td>-0.299736</td>\n",
       "      <td>-0.312394</td>\n",
       "      <td>-0.120396</td>\n",
       "      <td>0.103863</td>\n",
       "    </tr>\n",
       "    <tr>\n",
       "      <th>total_rooms</th>\n",
       "      <td>0.057288</td>\n",
       "      <td>-0.048514</td>\n",
       "      <td>-0.367868</td>\n",
       "      <td>1.000000</td>\n",
       "      <td>0.931993</td>\n",
       "      <td>0.853460</td>\n",
       "      <td>0.919292</td>\n",
       "      <td>0.199549</td>\n",
       "      <td>0.131972</td>\n",
       "    </tr>\n",
       "    <tr>\n",
       "      <th>total_bedrooms</th>\n",
       "      <td>0.079528</td>\n",
       "      <td>-0.076796</td>\n",
       "      <td>-0.329448</td>\n",
       "      <td>0.931993</td>\n",
       "      <td>1.000000</td>\n",
       "      <td>0.874618</td>\n",
       "      <td>0.978561</td>\n",
       "      <td>-0.004160</td>\n",
       "      <td>0.045915</td>\n",
       "    </tr>\n",
       "    <tr>\n",
       "      <th>population</th>\n",
       "      <td>0.108161</td>\n",
       "      <td>-0.117704</td>\n",
       "      <td>-0.299736</td>\n",
       "      <td>0.853460</td>\n",
       "      <td>0.874618</td>\n",
       "      <td>1.000000</td>\n",
       "      <td>0.905061</td>\n",
       "      <td>0.006284</td>\n",
       "      <td>-0.026183</td>\n",
       "    </tr>\n",
       "    <tr>\n",
       "      <th>households</th>\n",
       "      <td>0.064218</td>\n",
       "      <td>-0.080046</td>\n",
       "      <td>-0.312394</td>\n",
       "      <td>0.919292</td>\n",
       "      <td>0.978561</td>\n",
       "      <td>0.905061</td>\n",
       "      <td>1.000000</td>\n",
       "      <td>0.016365</td>\n",
       "      <td>0.061581</td>\n",
       "    </tr>\n",
       "    <tr>\n",
       "      <th>median_income</th>\n",
       "      <td>-0.010093</td>\n",
       "      <td>-0.085176</td>\n",
       "      <td>-0.120396</td>\n",
       "      <td>0.199549</td>\n",
       "      <td>-0.004160</td>\n",
       "      <td>0.006284</td>\n",
       "      <td>0.016365</td>\n",
       "      <td>1.000000</td>\n",
       "      <td>0.693273</td>\n",
       "    </tr>\n",
       "    <tr>\n",
       "      <th>median_house_value</th>\n",
       "      <td>-0.045777</td>\n",
       "      <td>-0.143957</td>\n",
       "      <td>0.103863</td>\n",
       "      <td>0.131972</td>\n",
       "      <td>0.045915</td>\n",
       "      <td>-0.026183</td>\n",
       "      <td>0.061581</td>\n",
       "      <td>0.693273</td>\n",
       "      <td>1.000000</td>\n",
       "    </tr>\n",
       "  </tbody>\n",
       "</table>\n",
       "</div>"
      ],
      "text/plain": [
       "                    longitude  latitude  housing_median_age  total_rooms  \\\n",
       "longitude            1.000000 -0.925158           -0.117501     0.057288   \n",
       "latitude            -0.925158  1.000000            0.020830    -0.048514   \n",
       "housing_median_age  -0.117501  0.020830            1.000000    -0.367868   \n",
       "total_rooms          0.057288 -0.048514           -0.367868     1.000000   \n",
       "total_bedrooms       0.079528 -0.076796           -0.329448     0.931993   \n",
       "population           0.108161 -0.117704           -0.299736     0.853460   \n",
       "households           0.064218 -0.080046           -0.312394     0.919292   \n",
       "median_income       -0.010093 -0.085176           -0.120396     0.199549   \n",
       "median_house_value  -0.045777 -0.143957            0.103863     0.131972   \n",
       "\n",
       "                    total_bedrooms  population  households  median_income  \\\n",
       "longitude                 0.079528    0.108161    0.064218      -0.010093   \n",
       "latitude                 -0.076796   -0.117704   -0.080046      -0.085176   \n",
       "housing_median_age       -0.329448   -0.299736   -0.312394      -0.120396   \n",
       "total_rooms               0.931993    0.853460    0.919292       0.199549   \n",
       "total_bedrooms            1.000000    0.874618    0.978561      -0.004160   \n",
       "population                0.874618    1.000000    0.905061       0.006284   \n",
       "households                0.978561    0.905061    1.000000       0.016365   \n",
       "median_income            -0.004160    0.006284    0.016365       1.000000   \n",
       "median_house_value        0.045915   -0.026183    0.061581       0.693273   \n",
       "\n",
       "                    median_house_value  \n",
       "longitude                    -0.045777  \n",
       "latitude                     -0.143957  \n",
       "housing_median_age            0.103863  \n",
       "total_rooms                   0.131972  \n",
       "total_bedrooms                0.045915  \n",
       "population                   -0.026183  \n",
       "households                    0.061581  \n",
       "median_income                 0.693273  \n",
       "median_house_value            1.000000  "
      ]
     },
     "execution_count": 73,
     "metadata": {},
     "output_type": "execute_result"
    }
   ],
   "source": [
    "df.corr()"
   ]
  },
  {
   "cell_type": "code",
   "execution_count": 10,
   "metadata": {},
   "outputs": [
    {
     "data": {
      "image/png": "[encoded data removed]",
      "text/plain": [
       "<Figure size 864x576 with 2 Axes>"
      ]
     },
     "metadata": {
      "needs_background": "light"
     },
     "output_type": "display_data"
    }
   ],
   "source": [
    "plt.figure(figsize=(12, 8))\n",
    "sns.heatmap(df.corr(),annot=True,fmt='.2f',cmap='Paired')\n",
    "\n",
    "plt.show()"
   ]
  },
  {
   "cell_type": "code",
   "execution_count": 11,
   "metadata": {},
   "outputs": [
    {
     "data": {
      "text/plain": [
       "<1H OCEAN     6369\n",
       "INLAND        4576\n",
       "NEAR OCEAN    1879\n",
       "NEAR BAY      1622\n",
       "ISLAND           2\n",
       "Name: ocean_proximity, dtype: int64"
      ]
     },
     "execution_count": 11,
     "metadata": {},
     "output_type": "execute_result"
    },
    {
     "data": {
      "image/png": "[encoded data removed]",
      "text/plain": [
       "<Figure size 432x432 with 1 Axes>"
      ]
     },
     "metadata": {
      "needs_background": "light"
     },
     "output_type": "display_data"
    }
   ],
   "source": [
    "df['ocean_proximity'].value_counts().plot(kind='bar', figsize=(6, 6), width=0.5, color=['green','red','blue','pink','yellow'])\n",
    "plt.xlabel('ocean_proximity')\n",
    "plt.title('Pict 1. Ocean Proximity')\n",
    "plt.ylabel('Amount')\n",
    "\n",
    "df['ocean_proximity'].value_counts()\n"
   ]
  },
  {
   "cell_type": "markdown",
   "metadata": {},
   "source": [
    "Pada data ada 5 jenis rumah berdasarkan jarak daratan dengan laut, jika dilihat dari grafiknya di daerah california paling banyak rumah yang jarak ke laut nya itu kurang dari 1 jam, dan yang paling sedikit itu rumah di pulau. dan setau saya di California tidak terdapat pulau."
   ]
  },
  {
   "cell_type": "code",
   "execution_count": 12,
   "metadata": {},
   "outputs": [
    {
     "data": {
      "text/plain": [
       "7223      <1H OCEAN\n",
       "10589     <1H OCEAN\n",
       "5159      <1H OCEAN\n",
       "10591     <1H OCEAN\n",
       "10592     <1H OCEAN\n",
       "            ...    \n",
       "2052     NEAR OCEAN\n",
       "8942     NEAR OCEAN\n",
       "3746     NEAR OCEAN\n",
       "2058     NEAR OCEAN\n",
       "2364     NEAR OCEAN\n",
       "Name: ocean_proximity, Length: 14448, dtype: object"
      ]
     },
     "execution_count": 12,
     "metadata": {},
     "output_type": "execute_result"
    }
   ],
   "source": [
    "df['ocean_proximity'].sort_values()"
   ]
  },
  {
   "cell_type": "code",
   "execution_count": 13,
   "metadata": {},
   "outputs": [
    {
     "data": {
      "text/plain": [
       "Text(0.5, 1.0, 'CLF House Group Location')"
      ]
     },
     "execution_count": 13,
     "metadata": {},
     "output_type": "execute_result"
    },
    {
     "data": {
      "image/png": "[encoded data removed]",
      "text/plain": [
       "<Figure size 720x432 with 1 Axes>"
      ]
     },
     "metadata": {
      "needs_background": "light"
     },
     "output_type": "display_data"
    }
   ],
   "source": [
    "# Plot lokasi 'neighbourhood_group'\n",
    "plt.figure(figsize=(10, 6))\n",
    "sns.scatterplot(df['longitude'], df['latitude'], hue=df['ocean_proximity']).set_title('CLF House Group Location')"
   ]
  },
  {
   "cell_type": "markdown",
   "metadata": {},
   "source": [
    "Berdasarkan scatterplot dapat dilihat bahwa persebaran rumah di pedalaman (Inland) sangat besar. near ocean lumayan banyak tetapi yang berjarak satu jam lebih dari ocean lebih banyak lagi, dan yang dekat dengan teluk hanya di suatu kumpulan (analisa saya mungkin ini seperti cluster yang dibangun dekat teluk), dan orang lebih memilih di Inland dibanding near ocean karena resiko tinggal di dekat laut itu lumayan besar dan sangat berbahaya, di khawatirkan adanya bencana alam tiba - tiba seperti tsunami atau tornado."
   ]
  },
  {
   "cell_type": "code",
   "execution_count": 14,
   "metadata": {},
   "outputs": [
    {
     "data": {
      "text/plain": [
       "ocean_proximity\n",
       "INLAND        6375492.0\n",
       "NEAR BAY      1959837.0\n",
       "<1H OCEAN     9687368.0\n",
       "NEAR OCEAN    2566454.0\n",
       "ISLAND           1522.0\n",
       "Name: population, dtype: float64"
      ]
     },
     "execution_count": 14,
     "metadata": {},
     "output_type": "execute_result"
    }
   ],
   "source": [
    "tot_pop = df.groupby(\"ocean_proximity\", sort=False)[\"population\"].sum().round(2)\n",
    "tot_pop"
   ]
  },
  {
   "cell_type": "code",
   "execution_count": 15,
   "metadata": {},
   "outputs": [
    {
     "data": {
      "text/plain": [
       "Text(0, 0.5, 'Amount')"
      ]
     },
     "execution_count": 15,
     "metadata": {},
     "output_type": "execute_result"
    },
    {
     "data": {
      "image/png": "[encoded data removed]",
      "text/plain": [
       "<Figure size 432x432 with 1 Axes>"
      ]
     },
     "metadata": {
      "needs_background": "light"
     },
     "output_type": "display_data"
    }
   ],
   "source": [
    "tot_pop.plot(kind='bar', figsize=(6, 6), width=0.5)\n",
    "plt.xlabel('ocean_proximity')\n",
    "plt.title('Pict 1. Ocean Proximity')\n",
    "plt.ylabel('Amount')"
   ]
  },
  {
   "cell_type": "markdown",
   "metadata": {},
   "source": [
    "Jumlah populasi di < 1H Ocean pling banyak diantra lainnya, dan jumlah populasi island paling sedikit."
   ]
  },
  {
   "cell_type": "code",
   "execution_count": 16,
   "metadata": {},
   "outputs": [
    {
     "name": "stdout",
     "output_type": "stream",
     "text": [
      "Kolom housing_median_age memiliki nilai skewness: 0.0589291851805334\n"
     ]
    },
    {
     "data": {
      "image/png": "[encoded data removed]",
      "text/plain": [
       "<Figure size 504x504 with 1 Axes>"
      ]
     },
     "metadata": {
      "needs_background": "light"
     },
     "output_type": "display_data"
    }
   ],
   "source": [
    "plt.figure(figsize=(7, 7))\n",
    "sns.distplot(df['housing_median_age'])\n",
    "plt.title('Housing Median Age Plot', size=15, weight='bold');\n",
    "print('Kolom housing_median_age memiliki nilai skewness:',df['housing_median_age'].skew())"
   ]
  },
  {
   "cell_type": "markdown",
   "metadata": {},
   "source": [
    "kalo di liat dari gambar sm nilai skewnessnya kolom housing_median_age terdistribusi secara normal"
   ]
  },
  {
   "cell_type": "code",
   "execution_count": 17,
   "metadata": {},
   "outputs": [
    {
     "name": "stdout",
     "output_type": "stream",
     "text": [
      "Kolom median_house_value memiliki nilai skewness: 0.9817544310070773\n"
     ]
    },
    {
     "data": {
      "image/png": "[encoded data removed]",
      "text/plain": [
       "<Figure size 504x504 with 1 Axes>"
      ]
     },
     "metadata": {
      "needs_background": "light"
     },
     "output_type": "display_data"
    }
   ],
   "source": [
    "plt.figure(figsize=(7, 7))\n",
    "sns.distplot(df['median_house_value'])\n",
    "plt.title('Housing Median Age Plot', size=15, weight='bold');\n",
    "print('Kolom median_house_value memiliki nilai skewness:',df['median_house_value'].skew())"
   ]
  },
  {
   "cell_type": "markdown",
   "metadata": {},
   "source": [
    "Kolom median_house_value dilihat dari gambar tidak terdistribusi normal / skewed"
   ]
  },
  {
   "cell_type": "code",
   "execution_count": 18,
   "metadata": {},
   "outputs": [],
   "source": [
    "expen_house_val= df[df['median_house_value']>499999]"
   ]
  },
  {
   "cell_type": "code",
   "execution_count": 19,
   "metadata": {},
   "outputs": [
    {
     "data": {
      "text/plain": [
       "<1H OCEAN     376\n",
       "NEAR OCEAN    153\n",
       "NEAR BAY      151\n",
       "INLAND         16\n",
       "Name: ocean_proximity, dtype: int64"
      ]
     },
     "execution_count": 19,
     "metadata": {},
     "output_type": "execute_result"
    }
   ],
   "source": [
    "expen_house_val['ocean_proximity'].value_counts()"
   ]
  },
  {
   "cell_type": "markdown",
   "metadata": {},
   "source": [
    "### <strong>Data Preprocessing<strong>\n",
    "\n",
    "##### Bagian ini berisi proses penyiapan data untuk proses pelatihan model, seperti pembagian data menjadi train-dev-test, transformasi data (normalisasi, encoding, dll.), dan proses-proses lain yang dibutuhkan.\n",
    "---"
   ]
  },
  {
   "cell_type": "markdown",
   "metadata": {},
   "source": [
    "#### Data Inference"
   ]
  },
  {
   "cell_type": "code",
   "execution_count": 20,
   "metadata": {},
   "outputs": [
    {
     "name": "stdout",
     "output_type": "stream",
     "text": [
      "Numeric Columns :  ['longitude', 'latitude', 'housing_median_age', 'total_rooms', 'total_bedrooms', 'population', 'households', 'median_income', 'median_house_value']\n",
      "Categorical Columns :  ['ocean_proximity']\n"
     ]
    }
   ],
   "source": [
    "num_columns = df.select_dtypes(include = np.number).columns.tolist()\n",
    "cat_columns = df.select_dtypes(include = ['object']).columns.tolist()\n",
    "\n",
    "print('Numeric Columns : ', num_columns)\n",
    "print('Categorical Columns : ', cat_columns)"
   ]
  },
  {
   "cell_type": "markdown",
   "metadata": {},
   "source": [
    "- <ins>_Get Data Inference_<ins>"
   ]
  },
  {
   "cell_type": "code",
   "execution_count": 21,
   "metadata": {},
   "outputs": [],
   "source": [
    "# Make a variable for data inference\n",
    "df_inf = df.sample(100, random_state=33)"
   ]
  },
  {
   "cell_type": "code",
   "execution_count": 22,
   "metadata": {},
   "outputs": [
    {
     "data": {
      "text/html": [
       "<div>\n",
       "<style scoped>\n",
       "    .dataframe tbody tr th:only-of-type {\n",
       "        vertical-align: middle;\n",
       "    }\n",
       "\n",
       "    .dataframe tbody tr th {\n",
       "        vertical-align: top;\n",
       "    }\n",
       "\n",
       "    .dataframe thead th {\n",
       "        text-align: right;\n",
       "    }\n",
       "</style>\n",
       "<table border=\"1\" class=\"dataframe\">\n",
       "  <thead>\n",
       "    <tr style=\"text-align: right;\">\n",
       "      <th></th>\n",
       "      <th>longitude</th>\n",
       "      <th>latitude</th>\n",
       "      <th>housing_median_age</th>\n",
       "      <th>total_rooms</th>\n",
       "      <th>total_bedrooms</th>\n",
       "      <th>population</th>\n",
       "      <th>households</th>\n",
       "      <th>median_income</th>\n",
       "      <th>ocean_proximity</th>\n",
       "      <th>median_house_value</th>\n",
       "    </tr>\n",
       "  </thead>\n",
       "  <tbody>\n",
       "    <tr>\n",
       "      <th>0</th>\n",
       "      <td>-119.79</td>\n",
       "      <td>36.73</td>\n",
       "      <td>52.0</td>\n",
       "      <td>112.0</td>\n",
       "      <td>28.0</td>\n",
       "      <td>193.0</td>\n",
       "      <td>40.0</td>\n",
       "      <td>1.9750</td>\n",
       "      <td>INLAND</td>\n",
       "      <td>47500.0</td>\n",
       "    </tr>\n",
       "    <tr>\n",
       "      <th>1</th>\n",
       "      <td>-122.21</td>\n",
       "      <td>37.77</td>\n",
       "      <td>43.0</td>\n",
       "      <td>1017.0</td>\n",
       "      <td>328.0</td>\n",
       "      <td>836.0</td>\n",
       "      <td>277.0</td>\n",
       "      <td>2.2604</td>\n",
       "      <td>NEAR BAY</td>\n",
       "      <td>100000.0</td>\n",
       "    </tr>\n",
       "    <tr>\n",
       "      <th>2</th>\n",
       "      <td>-118.04</td>\n",
       "      <td>33.87</td>\n",
       "      <td>17.0</td>\n",
       "      <td>2358.0</td>\n",
       "      <td>396.0</td>\n",
       "      <td>1387.0</td>\n",
       "      <td>364.0</td>\n",
       "      <td>6.2990</td>\n",
       "      <td>&lt;1H OCEAN</td>\n",
       "      <td>285800.0</td>\n",
       "    </tr>\n",
       "    <tr>\n",
       "      <th>3</th>\n",
       "      <td>-118.28</td>\n",
       "      <td>34.06</td>\n",
       "      <td>17.0</td>\n",
       "      <td>2518.0</td>\n",
       "      <td>1196.0</td>\n",
       "      <td>3051.0</td>\n",
       "      <td>1000.0</td>\n",
       "      <td>1.7199</td>\n",
       "      <td>&lt;1H OCEAN</td>\n",
       "      <td>175000.0</td>\n",
       "    </tr>\n",
       "    <tr>\n",
       "      <th>4</th>\n",
       "      <td>-119.81</td>\n",
       "      <td>36.73</td>\n",
       "      <td>50.0</td>\n",
       "      <td>772.0</td>\n",
       "      <td>194.0</td>\n",
       "      <td>606.0</td>\n",
       "      <td>167.0</td>\n",
       "      <td>2.2206</td>\n",
       "      <td>INLAND</td>\n",
       "      <td>59200.0</td>\n",
       "    </tr>\n",
       "  </tbody>\n",
       "</table>\n",
       "</div>"
      ],
      "text/plain": [
       "   longitude  latitude  housing_median_age  total_rooms  total_bedrooms  \\\n",
       "0    -119.79     36.73                52.0        112.0            28.0   \n",
       "1    -122.21     37.77                43.0       1017.0           328.0   \n",
       "2    -118.04     33.87                17.0       2358.0           396.0   \n",
       "3    -118.28     34.06                17.0       2518.0          1196.0   \n",
       "4    -119.81     36.73                50.0        772.0           194.0   \n",
       "\n",
       "   population  households  median_income ocean_proximity  median_house_value  \n",
       "0       193.0        40.0         1.9750          INLAND             47500.0  \n",
       "1       836.0       277.0         2.2604        NEAR BAY            100000.0  \n",
       "2      1387.0       364.0         6.2990       <1H OCEAN            285800.0  \n",
       "3      3051.0      1000.0         1.7199       <1H OCEAN            175000.0  \n",
       "4       606.0       167.0         2.2206          INLAND             59200.0  "
      ]
     },
     "execution_count": 22,
     "metadata": {},
     "output_type": "execute_result"
    }
   ],
   "source": [
    "# Move out the data inference from the all data set\n",
    "df_train_test = df.drop(df_inf.index)\n",
    "df_train_test.head()"
   ]
  },
  {
   "cell_type": "code",
   "execution_count": 23,
   "metadata": {},
   "outputs": [],
   "source": [
    "# Reset index number from data inference and data set\n",
    "df_train_test.reset_index(drop=True, inplace=True) \n",
    "df_inf.reset_index(drop=True, inplace=True)"
   ]
  },
  {
   "cell_type": "markdown",
   "metadata": {},
   "source": [
    "- <ins>_Split the Data; define 'X' and 'y'_<ins>"
   ]
  },
  {
   "cell_type": "code",
   "execution_count": 24,
   "metadata": {},
   "outputs": [],
   "source": [
    "# Move out the target from the data set\n",
    "X = df_train_test.drop(['median_house_value'], axis=1)\n",
    "y = df_train_test['median_house_value']"
   ]
  },
  {
   "cell_type": "code",
   "execution_count": 25,
   "metadata": {},
   "outputs": [
    {
     "name": "stdout",
     "output_type": "stream",
     "text": [
      "(11478, 9)\n",
      "(2870, 9)\n"
     ]
    }
   ],
   "source": [
    "X_train, X_test, y_train, y_test = train_test_split(X, y, test_size=0.20, random_state=33)\n",
    "print(X_train.shape)\n",
    "print(X_test.shape)"
   ]
  },
  {
   "cell_type": "markdown",
   "metadata": {},
   "source": [
    "- <ins>_Feature Selection_<ins>"
   ]
  },
  {
   "cell_type": "code",
   "execution_count": 26,
   "metadata": {},
   "outputs": [
    {
     "data": {
      "text/html": [
       "<div>\n",
       "<style scoped>\n",
       "    .dataframe tbody tr th:only-of-type {\n",
       "        vertical-align: middle;\n",
       "    }\n",
       "\n",
       "    .dataframe tbody tr th {\n",
       "        vertical-align: top;\n",
       "    }\n",
       "\n",
       "    .dataframe thead th {\n",
       "        text-align: right;\n",
       "    }\n",
       "</style>\n",
       "<table border=\"1\" class=\"dataframe\">\n",
       "  <thead>\n",
       "    <tr style=\"text-align: right;\">\n",
       "      <th></th>\n",
       "      <th>longitude</th>\n",
       "      <th>latitude</th>\n",
       "      <th>housing_median_age</th>\n",
       "      <th>total_rooms</th>\n",
       "      <th>total_bedrooms</th>\n",
       "      <th>population</th>\n",
       "      <th>households</th>\n",
       "      <th>median_income</th>\n",
       "      <th>median_house_value</th>\n",
       "    </tr>\n",
       "  </thead>\n",
       "  <tbody>\n",
       "    <tr>\n",
       "      <th>longitude</th>\n",
       "      <td>1.000000</td>\n",
       "      <td>-0.925158</td>\n",
       "      <td>-0.117501</td>\n",
       "      <td>0.057288</td>\n",
       "      <td>0.079528</td>\n",
       "      <td>0.108161</td>\n",
       "      <td>0.064218</td>\n",
       "      <td>-0.010093</td>\n",
       "      <td>-0.045777</td>\n",
       "    </tr>\n",
       "    <tr>\n",
       "      <th>latitude</th>\n",
       "      <td>-0.925158</td>\n",
       "      <td>1.000000</td>\n",
       "      <td>0.020830</td>\n",
       "      <td>-0.048514</td>\n",
       "      <td>-0.076796</td>\n",
       "      <td>-0.117704</td>\n",
       "      <td>-0.080046</td>\n",
       "      <td>-0.085176</td>\n",
       "      <td>-0.143957</td>\n",
       "    </tr>\n",
       "    <tr>\n",
       "      <th>housing_median_age</th>\n",
       "      <td>-0.117501</td>\n",
       "      <td>0.020830</td>\n",
       "      <td>1.000000</td>\n",
       "      <td>-0.367868</td>\n",
       "      <td>-0.329448</td>\n",
       "      <td>-0.299736</td>\n",
       "      <td>-0.312394</td>\n",
       "      <td>-0.120396</td>\n",
       "      <td>0.103863</td>\n",
       "    </tr>\n",
       "    <tr>\n",
       "      <th>total_rooms</th>\n",
       "      <td>0.057288</td>\n",
       "      <td>-0.048514</td>\n",
       "      <td>-0.367868</td>\n",
       "      <td>1.000000</td>\n",
       "      <td>0.931993</td>\n",
       "      <td>0.853460</td>\n",
       "      <td>0.919292</td>\n",
       "      <td>0.199549</td>\n",
       "      <td>0.131972</td>\n",
       "    </tr>\n",
       "    <tr>\n",
       "      <th>total_bedrooms</th>\n",
       "      <td>0.079528</td>\n",
       "      <td>-0.076796</td>\n",
       "      <td>-0.329448</td>\n",
       "      <td>0.931993</td>\n",
       "      <td>1.000000</td>\n",
       "      <td>0.874618</td>\n",
       "      <td>0.978561</td>\n",
       "      <td>-0.004160</td>\n",
       "      <td>0.045915</td>\n",
       "    </tr>\n",
       "    <tr>\n",
       "      <th>population</th>\n",
       "      <td>0.108161</td>\n",
       "      <td>-0.117704</td>\n",
       "      <td>-0.299736</td>\n",
       "      <td>0.853460</td>\n",
       "      <td>0.874618</td>\n",
       "      <td>1.000000</td>\n",
       "      <td>0.905061</td>\n",
       "      <td>0.006284</td>\n",
       "      <td>-0.026183</td>\n",
       "    </tr>\n",
       "    <tr>\n",
       "      <th>households</th>\n",
       "      <td>0.064218</td>\n",
       "      <td>-0.080046</td>\n",
       "      <td>-0.312394</td>\n",
       "      <td>0.919292</td>\n",
       "      <td>0.978561</td>\n",
       "      <td>0.905061</td>\n",
       "      <td>1.000000</td>\n",
       "      <td>0.016365</td>\n",
       "      <td>0.061581</td>\n",
       "    </tr>\n",
       "    <tr>\n",
       "      <th>median_income</th>\n",
       "      <td>-0.010093</td>\n",
       "      <td>-0.085176</td>\n",
       "      <td>-0.120396</td>\n",
       "      <td>0.199549</td>\n",
       "      <td>-0.004160</td>\n",
       "      <td>0.006284</td>\n",
       "      <td>0.016365</td>\n",
       "      <td>1.000000</td>\n",
       "      <td>0.693273</td>\n",
       "    </tr>\n",
       "    <tr>\n",
       "      <th>median_house_value</th>\n",
       "      <td>-0.045777</td>\n",
       "      <td>-0.143957</td>\n",
       "      <td>0.103863</td>\n",
       "      <td>0.131972</td>\n",
       "      <td>0.045915</td>\n",
       "      <td>-0.026183</td>\n",
       "      <td>0.061581</td>\n",
       "      <td>0.693273</td>\n",
       "      <td>1.000000</td>\n",
       "    </tr>\n",
       "  </tbody>\n",
       "</table>\n",
       "</div>"
      ],
      "text/plain": [
       "                    longitude  latitude  housing_median_age  total_rooms  \\\n",
       "longitude            1.000000 -0.925158           -0.117501     0.057288   \n",
       "latitude            -0.925158  1.000000            0.020830    -0.048514   \n",
       "housing_median_age  -0.117501  0.020830            1.000000    -0.367868   \n",
       "total_rooms          0.057288 -0.048514           -0.367868     1.000000   \n",
       "total_bedrooms       0.079528 -0.076796           -0.329448     0.931993   \n",
       "population           0.108161 -0.117704           -0.299736     0.853460   \n",
       "households           0.064218 -0.080046           -0.312394     0.919292   \n",
       "median_income       -0.010093 -0.085176           -0.120396     0.199549   \n",
       "median_house_value  -0.045777 -0.143957            0.103863     0.131972   \n",
       "\n",
       "                    total_bedrooms  population  households  median_income  \\\n",
       "longitude                 0.079528    0.108161    0.064218      -0.010093   \n",
       "latitude                 -0.076796   -0.117704   -0.080046      -0.085176   \n",
       "housing_median_age       -0.329448   -0.299736   -0.312394      -0.120396   \n",
       "total_rooms               0.931993    0.853460    0.919292       0.199549   \n",
       "total_bedrooms            1.000000    0.874618    0.978561      -0.004160   \n",
       "population                0.874618    1.000000    0.905061       0.006284   \n",
       "households                0.978561    0.905061    1.000000       0.016365   \n",
       "median_income            -0.004160    0.006284    0.016365       1.000000   \n",
       "median_house_value        0.045915   -0.026183    0.061581       0.693273   \n",
       "\n",
       "                    median_house_value  \n",
       "longitude                    -0.045777  \n",
       "latitude                     -0.143957  \n",
       "housing_median_age            0.103863  \n",
       "total_rooms                   0.131972  \n",
       "total_bedrooms                0.045915  \n",
       "population                   -0.026183  \n",
       "households                    0.061581  \n",
       "median_income                 0.693273  \n",
       "median_house_value            1.000000  "
      ]
     },
     "execution_count": 26,
     "metadata": {},
     "output_type": "execute_result"
    }
   ],
   "source": [
    "df.corr()"
   ]
  },
  {
   "cell_type": "markdown",
   "metadata": {},
   "source": [
    "Based on correlation the median income give "
   ]
  },
  {
   "cell_type": "markdown",
   "metadata": {},
   "source": [
    "#### Missing Value Handling"
   ]
  },
  {
   "cell_type": "code",
   "execution_count": 27,
   "metadata": {},
   "outputs": [
    {
     "data": {
      "text/plain": [
       "longitude               0\n",
       "latitude                0\n",
       "housing_median_age      0\n",
       "total_rooms             0\n",
       "total_bedrooms        110\n",
       "population              0\n",
       "households              0\n",
       "median_income           0\n",
       "ocean_proximity         0\n",
       "dtype: int64"
      ]
     },
     "execution_count": 27,
     "metadata": {},
     "output_type": "execute_result"
    }
   ],
   "source": [
    "X_train.isna().sum()"
   ]
  },
  {
   "cell_type": "code",
   "execution_count": 28,
   "metadata": {},
   "outputs": [
    {
     "data": {
      "text/plain": [
       "longitude              0\n",
       "latitude               0\n",
       "housing_median_age     0\n",
       "total_rooms            0\n",
       "total_bedrooms        26\n",
       "population             0\n",
       "households             0\n",
       "median_income          0\n",
       "ocean_proximity        0\n",
       "dtype: int64"
      ]
     },
     "execution_count": 28,
     "metadata": {},
     "output_type": "execute_result"
    }
   ],
   "source": [
    "X_test.isna().sum()"
   ]
  },
  {
   "cell_type": "code",
   "execution_count": 29,
   "metadata": {},
   "outputs": [
    {
     "data": {
      "text/plain": [
       "3.3394885498561355"
      ]
     },
     "execution_count": 29,
     "metadata": {},
     "output_type": "execute_result"
    }
   ],
   "source": [
    "X_train['total_bedrooms'].skew()"
   ]
  },
  {
   "cell_type": "code",
   "execution_count": 30,
   "metadata": {},
   "outputs": [],
   "source": [
    "X_train['total_bedrooms'].fillna(X_train['total_bedrooms'].median(), inplace=True)\n",
    "X_test['total_bedrooms'].fillna(X_train['total_bedrooms'].median(), inplace=True)"
   ]
  },
  {
   "cell_type": "markdown",
   "metadata": {},
   "source": [
    "- <ins>_Checking the data and distribution columns_<ins>"
   ]
  },
  {
   "cell_type": "code",
   "execution_count": 31,
   "metadata": {},
   "outputs": [],
   "source": [
    "preprocess_table = pd.DataFrame({'columns' : X_train.describe().columns, 'skew' : X_train.skew(axis=0)})\n",
    "preprocess_table.reset_index(drop=True, inplace=True)\n",
    "\n",
    "preprocess_table['distribution status'] = np.where(preprocess_table['skew'].abs()>0.5, 'Skewed', 'Normal')"
   ]
  },
  {
   "cell_type": "code",
   "execution_count": 32,
   "metadata": {},
   "outputs": [
    {
     "data": {
      "text/html": [
       "<div>\n",
       "<style scoped>\n",
       "    .dataframe tbody tr th:only-of-type {\n",
       "        vertical-align: middle;\n",
       "    }\n",
       "\n",
       "    .dataframe tbody tr th {\n",
       "        vertical-align: top;\n",
       "    }\n",
       "\n",
       "    .dataframe thead th {\n",
       "        text-align: right;\n",
       "    }\n",
       "</style>\n",
       "<table border=\"1\" class=\"dataframe\">\n",
       "  <thead>\n",
       "    <tr style=\"text-align: right;\">\n",
       "      <th></th>\n",
       "      <th>columns</th>\n",
       "      <th>skew</th>\n",
       "      <th>distribution status</th>\n",
       "    </tr>\n",
       "  </thead>\n",
       "  <tbody>\n",
       "    <tr>\n",
       "      <th>0</th>\n",
       "      <td>longitude</td>\n",
       "      <td>-0.302204</td>\n",
       "      <td>Normal</td>\n",
       "    </tr>\n",
       "    <tr>\n",
       "      <th>1</th>\n",
       "      <td>latitude</td>\n",
       "      <td>0.470076</td>\n",
       "      <td>Normal</td>\n",
       "    </tr>\n",
       "    <tr>\n",
       "      <th>2</th>\n",
       "      <td>housing_median_age</td>\n",
       "      <td>0.057010</td>\n",
       "      <td>Normal</td>\n",
       "    </tr>\n",
       "    <tr>\n",
       "      <th>3</th>\n",
       "      <td>total_rooms</td>\n",
       "      <td>3.930220</td>\n",
       "      <td>Skewed</td>\n",
       "    </tr>\n",
       "    <tr>\n",
       "      <th>4</th>\n",
       "      <td>total_bedrooms</td>\n",
       "      <td>3.359640</td>\n",
       "      <td>Skewed</td>\n",
       "    </tr>\n",
       "    <tr>\n",
       "      <th>5</th>\n",
       "      <td>population</td>\n",
       "      <td>5.928408</td>\n",
       "      <td>Skewed</td>\n",
       "    </tr>\n",
       "    <tr>\n",
       "      <th>6</th>\n",
       "      <td>households</td>\n",
       "      <td>3.258300</td>\n",
       "      <td>Skewed</td>\n",
       "    </tr>\n",
       "    <tr>\n",
       "      <th>7</th>\n",
       "      <td>median_income</td>\n",
       "      <td>1.674004</td>\n",
       "      <td>Skewed</td>\n",
       "    </tr>\n",
       "  </tbody>\n",
       "</table>\n",
       "</div>"
      ],
      "text/plain": [
       "              columns      skew distribution status\n",
       "0           longitude -0.302204              Normal\n",
       "1            latitude  0.470076              Normal\n",
       "2  housing_median_age  0.057010              Normal\n",
       "3         total_rooms  3.930220              Skewed\n",
       "4      total_bedrooms  3.359640              Skewed\n",
       "5          population  5.928408              Skewed\n",
       "6          households  3.258300              Skewed\n",
       "7       median_income  1.674004              Skewed"
      ]
     },
     "execution_count": 32,
     "metadata": {},
     "output_type": "execute_result"
    }
   ],
   "source": [
    "preprocess_table"
   ]
  },
  {
   "cell_type": "markdown",
   "metadata": {},
   "source": [
    "- <ins>_Detecting and Handling the outliers_<ins>"
   ]
  },
  {
   "cell_type": "code",
   "execution_count": 33,
   "metadata": {},
   "outputs": [
    {
     "data": {
      "text/html": [
       "<div>\n",
       "<style scoped>\n",
       "    .dataframe tbody tr th:only-of-type {\n",
       "        vertical-align: middle;\n",
       "    }\n",
       "\n",
       "    .dataframe tbody tr th {\n",
       "        vertical-align: top;\n",
       "    }\n",
       "\n",
       "    .dataframe thead th {\n",
       "        text-align: right;\n",
       "    }\n",
       "</style>\n",
       "<table border=\"1\" class=\"dataframe\">\n",
       "  <thead>\n",
       "    <tr style=\"text-align: right;\">\n",
       "      <th></th>\n",
       "      <th>columns</th>\n",
       "      <th>skew</th>\n",
       "      <th>distribution</th>\n",
       "    </tr>\n",
       "  </thead>\n",
       "  <tbody>\n",
       "    <tr>\n",
       "      <th>0</th>\n",
       "      <td>longitude</td>\n",
       "      <td>-0.302204</td>\n",
       "      <td>Normal</td>\n",
       "    </tr>\n",
       "    <tr>\n",
       "      <th>1</th>\n",
       "      <td>latitude</td>\n",
       "      <td>0.470076</td>\n",
       "      <td>Normal</td>\n",
       "    </tr>\n",
       "    <tr>\n",
       "      <th>2</th>\n",
       "      <td>housing_median_age</td>\n",
       "      <td>0.057010</td>\n",
       "      <td>Normal</td>\n",
       "    </tr>\n",
       "    <tr>\n",
       "      <th>3</th>\n",
       "      <td>total_rooms</td>\n",
       "      <td>3.930220</td>\n",
       "      <td>Skew</td>\n",
       "    </tr>\n",
       "    <tr>\n",
       "      <th>4</th>\n",
       "      <td>total_bedrooms</td>\n",
       "      <td>3.359640</td>\n",
       "      <td>Skew</td>\n",
       "    </tr>\n",
       "    <tr>\n",
       "      <th>5</th>\n",
       "      <td>population</td>\n",
       "      <td>5.928408</td>\n",
       "      <td>Skew</td>\n",
       "    </tr>\n",
       "    <tr>\n",
       "      <th>6</th>\n",
       "      <td>households</td>\n",
       "      <td>3.258300</td>\n",
       "      <td>Skew</td>\n",
       "    </tr>\n",
       "    <tr>\n",
       "      <th>7</th>\n",
       "      <td>median_income</td>\n",
       "      <td>1.674004</td>\n",
       "      <td>Skew</td>\n",
       "    </tr>\n",
       "  </tbody>\n",
       "</table>\n",
       "</div>"
      ],
      "text/plain": [
       "              columns      skew distribution\n",
       "0           longitude -0.302204       Normal\n",
       "1            latitude  0.470076       Normal\n",
       "2  housing_median_age  0.057010       Normal\n",
       "3         total_rooms  3.930220         Skew\n",
       "4      total_bedrooms  3.359640         Skew\n",
       "5          population  5.928408         Skew\n",
       "6          households  3.258300         Skew\n",
       "7       median_income  1.674004         Skew"
      ]
     },
     "execution_count": 33,
     "metadata": {},
     "output_type": "execute_result"
    }
   ],
   "source": [
    "X_train_distr = pd.DataFrame({'columns':X_train.describe().columns, 'skew' : X_train.skew(axis=0)})\n",
    "X_train_distr.reset_index(drop=True, inplace=True)\n",
    "X_train_distr['distribution'] = np.where((X_train_distr['skew'] < 0.5) & (X_train_distr['skew'] > - 0.5) , 'Normal', 'Skew')\n",
    "X_train_distr"
   ]
  },
  {
   "cell_type": "markdown",
   "metadata": {},
   "source": [
    "- <ins>_Function to find upper and lower boundaries for normally distributed variables, Calculate the boundaries outside which sit the outliers for a Gaussian distribution_<ins>\n",
    "- <ins>_Since it's skewed, using IQR to handle outliers_<ins>"
   ]
  },
  {
   "cell_type": "code",
   "execution_count": 34,
   "metadata": {},
   "outputs": [],
   "source": [
    "def find_normal_boundaries(df, variable):\n",
    "    upper_boundary = df[variable].mean() + 3 * df[variable].std()\n",
    "    lower_boundary = df[variable].mean() - 3 * df[variable].std()\n",
    "\n",
    "    return upper_boundary, lower_boundary\n",
    "\n",
    "def find_skewed_boundaries(df, variable, distance):\n",
    "    IQR = df[variable].quantile(0.75) - df[variable].quantile(0.25)\n",
    "\n",
    "    lower = df[variable].quantile(0.25) - distance * IQR\n",
    "    upper = df[variable].quantile(0.75) + distance * IQR\n",
    "\n",
    "    return upper, lower"
   ]
  },
  {
   "cell_type": "code",
   "execution_count": 35,
   "metadata": {},
   "outputs": [
    {
     "name": "stdout",
     "output_type": "stream",
     "text": [
      "Boundary Lower and Upper longitude:(-125.58043050411993, -113.53819294944333)\n",
      "==============================\n",
      "Boundary Lower and Upper latitude:(29.20747133312791, 42.04445757434692)\n",
      "==============================\n",
      "Boundary Lower and Upper housing_median_age:(-9.401009765390356, 66.61289336880559)\n",
      "==============================\n",
      "Batas lower dan upper untuk total_rooms:(-1127.625, 5735.375)\n",
      "==============================\n",
      "Batas lower dan upper untuk total_bedrooms:(-229.0, 1171.0)\n",
      "==============================\n",
      "Batas lower dan upper untuk population:(-633.5, 3138.5)\n",
      "==============================\n",
      "Batas lower dan upper untuk households:(-214.0, 1098.0)\n",
      "==============================\n",
      "Batas lower dan upper untuk median_income:(-0.6667375000000004, 7.9573625)\n",
      "==============================\n"
     ]
    }
   ],
   "source": [
    "j = 0\n",
    "outliers={}\n",
    "for i in X_train.describe().columns:\n",
    "    if X_train_distr['distribution'].loc[(X_train_distr['columns']==i)].values[0]== 'Normal':\n",
    "        upper_boundary, lower_boundary = find_normal_boundaries(X_train, i)\n",
    "        print(f\"Boundary Lower and Upper {i}:{lower_boundary, upper_boundary}\")\n",
    "        outliers[f\"outliers{j}\"] = np.where(X_train[i] > upper_boundary, True, np.where(X_train[i] < lower_boundary, True, False))\n",
    "    else:\n",
    "        upper_boundary, lower_boundary = find_skewed_boundaries(X_train, i, 1.5)\n",
    "        print(f\"Batas lower dan upper untuk {i}:{lower_boundary, upper_boundary}\")\n",
    "        outliers[f\"outliers{j}\"] = np.where(X_train[i] > upper_boundary, True, np.where(X_train[i] < lower_boundary, True, False))\n",
    "    print(\"=\"*30)\n",
    "    j+=1"
   ]
  },
  {
   "cell_type": "code",
   "execution_count": 36,
   "metadata": {},
   "outputs": [
    {
     "data": {
      "text/html": [
       "<div>\n",
       "<style scoped>\n",
       "    .dataframe tbody tr th:only-of-type {\n",
       "        vertical-align: middle;\n",
       "    }\n",
       "\n",
       "    .dataframe tbody tr th {\n",
       "        vertical-align: top;\n",
       "    }\n",
       "\n",
       "    .dataframe thead th {\n",
       "        text-align: right;\n",
       "    }\n",
       "</style>\n",
       "<table border=\"1\" class=\"dataframe\">\n",
       "  <thead>\n",
       "    <tr style=\"text-align: right;\">\n",
       "      <th></th>\n",
       "      <th>columns</th>\n",
       "      <th>skew</th>\n",
       "      <th>distribution</th>\n",
       "      <th>trimmed_row</th>\n",
       "      <th>percentage</th>\n",
       "      <th>action</th>\n",
       "    </tr>\n",
       "  </thead>\n",
       "  <tbody>\n",
       "    <tr>\n",
       "      <th>0</th>\n",
       "      <td>longitude</td>\n",
       "      <td>-0.302204</td>\n",
       "      <td>Normal</td>\n",
       "      <td>0.0</td>\n",
       "      <td>0.00</td>\n",
       "      <td>No Action</td>\n",
       "    </tr>\n",
       "    <tr>\n",
       "      <th>1</th>\n",
       "      <td>latitude</td>\n",
       "      <td>0.470076</td>\n",
       "      <td>Normal</td>\n",
       "      <td>0.0</td>\n",
       "      <td>0.00</td>\n",
       "      <td>No Action</td>\n",
       "    </tr>\n",
       "    <tr>\n",
       "      <th>2</th>\n",
       "      <td>housing_median_age</td>\n",
       "      <td>0.057010</td>\n",
       "      <td>Normal</td>\n",
       "      <td>0.0</td>\n",
       "      <td>0.00</td>\n",
       "      <td>No Action</td>\n",
       "    </tr>\n",
       "    <tr>\n",
       "      <th>3</th>\n",
       "      <td>total_rooms</td>\n",
       "      <td>3.930220</td>\n",
       "      <td>Skew</td>\n",
       "      <td>715.0</td>\n",
       "      <td>6.23</td>\n",
       "      <td>Capping/Windsorizer</td>\n",
       "    </tr>\n",
       "    <tr>\n",
       "      <th>4</th>\n",
       "      <td>total_bedrooms</td>\n",
       "      <td>3.359640</td>\n",
       "      <td>Skew</td>\n",
       "      <td>706.0</td>\n",
       "      <td>6.15</td>\n",
       "      <td>Capping/Windsorizer</td>\n",
       "    </tr>\n",
       "    <tr>\n",
       "      <th>5</th>\n",
       "      <td>population</td>\n",
       "      <td>5.928408</td>\n",
       "      <td>Skew</td>\n",
       "      <td>639.0</td>\n",
       "      <td>5.57</td>\n",
       "      <td>Capping/Windsorizer</td>\n",
       "    </tr>\n",
       "    <tr>\n",
       "      <th>6</th>\n",
       "      <td>households</td>\n",
       "      <td>3.258300</td>\n",
       "      <td>Skew</td>\n",
       "      <td>654.0</td>\n",
       "      <td>5.70</td>\n",
       "      <td>Capping/Windsorizer</td>\n",
       "    </tr>\n",
       "    <tr>\n",
       "      <th>7</th>\n",
       "      <td>median_income</td>\n",
       "      <td>1.674004</td>\n",
       "      <td>Skew</td>\n",
       "      <td>388.0</td>\n",
       "      <td>3.38</td>\n",
       "      <td>Trimming</td>\n",
       "    </tr>\n",
       "  </tbody>\n",
       "</table>\n",
       "</div>"
      ],
      "text/plain": [
       "              columns      skew distribution  trimmed_row  percentage  \\\n",
       "0           longitude -0.302204       Normal          0.0        0.00   \n",
       "1            latitude  0.470076       Normal          0.0        0.00   \n",
       "2  housing_median_age  0.057010       Normal          0.0        0.00   \n",
       "3         total_rooms  3.930220         Skew        715.0        6.23   \n",
       "4      total_bedrooms  3.359640         Skew        706.0        6.15   \n",
       "5          population  5.928408         Skew        639.0        5.57   \n",
       "6          households  3.258300         Skew        654.0        5.70   \n",
       "7       median_income  1.674004         Skew        388.0        3.38   \n",
       "\n",
       "                action  \n",
       "0            No Action  \n",
       "1            No Action  \n",
       "2            No Action  \n",
       "3  Capping/Windsorizer  \n",
       "4  Capping/Windsorizer  \n",
       "5  Capping/Windsorizer  \n",
       "6  Capping/Windsorizer  \n",
       "7             Trimming  "
      ]
     },
     "execution_count": 36,
     "metadata": {},
     "output_type": "execute_result"
    }
   ],
   "source": [
    "for i, (k, v) in enumerate(outliers.items()):\n",
    "    X_train_distr_handling= X_train.loc[~outliers[k]]\n",
    "    X_train_distr.loc[i,'trimmed_row'] = X_train.shape[0] - X_train_distr_handling.shape[0]\n",
    "    X_train_distr.loc[i,'percentage'] = np.round(100-(X_train_distr_handling.shape[0]/X_train.shape[0]*100), 2)\n",
    "    X_train_distr.loc[i,'action'] = np.where(X_train_distr.loc[i,'percentage']==0, 'No Action', \n",
    "                                        np.where(X_train_distr.loc[i,'percentage']>5, 'Capping/Windsorizer', 'Trimming'))\n",
    "\n",
    "X_train_distr"
   ]
  },
  {
   "cell_type": "code",
   "execution_count": 37,
   "metadata": {},
   "outputs": [],
   "source": [
    "outliers_tot = outliers['outliers2']\n",
    "for i, (k, v) in enumerate(outliers.items()):\n",
    "    if i in [7]:\n",
    "        outliers_tot += outliers[k]"
   ]
  },
  {
   "cell_type": "code",
   "execution_count": 38,
   "metadata": {},
   "outputs": [
    {
     "name": "stdout",
     "output_type": "stream",
     "text": [
      "Jumlah baris pada X_train SEBELUM di Trimming: 11478\n",
      "Jumlah baris pada X_train SETELAH di Trimming: 11090\n",
      "% Outlier dari Keseluruhan Data: 3.38%\n"
     ]
    }
   ],
   "source": [
    "X_train_trimmed = X_train.loc[~outliers_tot]\n",
    "y_train_trimmed = y_train.loc[~outliers_tot]\n",
    "\n",
    "print(f\"Jumlah baris pada X_train SEBELUM di Trimming: {X_train.shape[0]}\")\n",
    "print(f\"Jumlah baris pada X_train SETELAH di Trimming: {X_train_trimmed.shape[0]}\")\n",
    "print(f\"% Outlier dari Keseluruhan Data: {100-(X_train_trimmed.shape[0]/X_train.shape[0]*100):.2f}%\")"
   ]
  },
  {
   "cell_type": "code",
   "execution_count": 39,
   "metadata": {},
   "outputs": [],
   "source": [
    "# Reset Index\n",
    "\n",
    "X_train_trimmed.reset_index(drop=True, inplace=True)\n",
    "y_train_trimmed.reset_index(drop=True, inplace=True)"
   ]
  },
  {
   "cell_type": "code",
   "execution_count": 40,
   "metadata": {},
   "outputs": [],
   "source": [
    "from feature_engine.outliers import Winsorizer\n",
    "\n",
    "windsoriser = Winsorizer(capping_method='iqr', \n",
    "                          tail='both', \n",
    "                          fold=1.5,\n",
    "                          variables=['total_rooms', 'total_bedrooms', 'population', 'households'])\n",
    "\n",
    "windsoriser.fit(X_train_trimmed)\n",
    "X_train_t = windsoriser.transform(X_train_trimmed)\n"
   ]
  },
  {
   "cell_type": "code",
   "execution_count": 41,
   "metadata": {},
   "outputs": [
    {
     "name": "stdout",
     "output_type": "stream",
     "text": [
      "Left Tail Caps  :  {'total_rooms': -1104.5, 'total_bedrooms': -227.0, 'population': -638.75, 'households': -212.0}\n",
      "Right Tail Caps :  {'total_rooms': 5673.5, 'total_bedrooms': 1173.0, 'population': 3155.25, 'households': 1100.0}\n"
     ]
    }
   ],
   "source": [
    "# Inspect the minimum caps for each variable\n",
    "print('Left Tail Caps  : ', windsoriser.left_tail_caps_)\n",
    "\n",
    "# Iinspect the maximum caps for each variable\n",
    "print('Right Tail Caps : ', windsoriser.right_tail_caps_)"
   ]
  },
  {
   "cell_type": "code",
   "execution_count": 42,
   "metadata": {},
   "outputs": [
    {
     "name": "stdout",
     "output_type": "stream",
     "text": [
      "X_train - Before Capping\n",
      "          longitude      latitude  housing_median_age   total_rooms  \\\n",
      "count  11478.000000  11478.000000        11478.000000  11478.000000   \n",
      "mean    -119.559312     35.625964           28.605942   2638.779753   \n",
      "std        2.007040      2.139498           12.668984   2175.430019   \n",
      "min     -124.350000     32.540000            1.000000      6.000000   \n",
      "25%     -121.790000     33.930000           18.000000   1446.000000   \n",
      "50%     -118.490000     34.260000           29.000000   2124.000000   \n",
      "75%     -118.000000     37.720000           37.000000   3161.750000   \n",
      "max     -114.310000     41.950000           52.000000  32627.000000   \n",
      "\n",
      "       total_bedrooms    population    households  median_income  \n",
      "count    11478.000000  11478.000000  11478.000000   11478.000000  \n",
      "mean       536.621624   1421.671110    498.404252       3.862491  \n",
      "std        418.205644   1152.930785    378.229827       1.900383  \n",
      "min          1.000000      3.000000      1.000000       0.499900  \n",
      "25%        296.000000    781.000000    278.000000       2.567300  \n",
      "50%        435.000000   1161.000000    410.000000       3.538500  \n",
      "75%        646.000000   1724.000000    606.000000       4.723325  \n",
      "max       6445.000000  35682.000000   6082.000000      15.000100  \n",
      "\n",
      "X_train - After Capping\n",
      "          longitude      latitude  housing_median_age   total_rooms  \\\n",
      "count  11090.000000  11090.000000        11090.000000  11090.000000   \n",
      "mean    -119.560308     35.641504           28.624707   2424.178674   \n",
      "std        2.009570      2.149004           12.623419   1390.144692   \n",
      "min     -124.350000     32.540000            1.000000      6.000000   \n",
      "25%     -121.770000     33.930000           18.000000   1437.250000   \n",
      "50%     -118.490000     34.270000           29.000000   2106.000000   \n",
      "75%     -117.990000     37.720000           37.000000   3131.750000   \n",
      "max     -114.310000     41.950000           52.000000   5673.500000   \n",
      "\n",
      "       total_bedrooms    population    households  median_income  \n",
      "count    11090.000000  11090.000000  11090.000000   11090.000000  \n",
      "mean       503.937060   1339.579486    470.641028       3.643698  \n",
      "std        285.810671    769.041166    265.894222       1.476099  \n",
      "min          2.000000      3.000000      2.000000       0.499900  \n",
      "25%        298.000000    784.000000    280.000000       2.538550  \n",
      "50%        435.000000   1167.000000    412.000000       3.472200  \n",
      "75%        648.000000   1732.500000    608.000000       4.569975  \n",
      "max       1173.000000   3155.250000   1100.000000       7.933800  \n"
     ]
    }
   ],
   "source": [
    "print('X_train - Before Capping')\n",
    "print(X_train.describe())\n",
    "print('')\n",
    "print('X_train - After Capping')\n",
    "print(X_train_t.describe())"
   ]
  },
  {
   "cell_type": "code",
   "execution_count": 43,
   "metadata": {},
   "outputs": [],
   "source": [
    "# Function to create histogram and boxplot for each features\n",
    "\n",
    "def diagnostic_plots(df, df_trim, variable):\n",
    "    #Define figure size\n",
    "    plt.figure(figsize=(16,4))\n",
    "\n",
    "    #Histogram\n",
    "    plt.subplot(1, 3, 1)\n",
    "    sns.histplot(df[variable], bins=30, kde=True, color='#006699')\n",
    "    plt.title(f'Histogram of {variable}')\n",
    "\n",
    "    #Boxplot Before\n",
    "    plt.subplot(1,3, 2)\n",
    "    sns.boxplot(y=df[variable])\n",
    "    plt.title(f'Before Handling in {variable}')\n",
    "\n",
    "    #Boxplot After\n",
    "    plt.subplot(1,3, 3)\n",
    "    sns.boxplot(y=df_trim[variable])\n",
    "    plt.title(f'After Handling in {variable}')\n",
    "\n",
    "    plt.show()"
   ]
  },
  {
   "cell_type": "code",
   "execution_count": 44,
   "metadata": {},
   "outputs": [
    {
     "data": {
      "image/png": "[encoded data removed]",
      "text/plain": [
       "<Figure size 1152x288 with 3 Axes>"
      ]
     },
     "metadata": {
      "needs_background": "light"
     },
     "output_type": "display_data"
    },
    {
     "data": {
      "image/png": "[encoded data removed]",
      "text/plain": [
       "<Figure size 1152x288 with 3 Axes>"
      ]
     },
     "metadata": {
      "needs_background": "light"
     },
     "output_type": "display_data"
    },
    {
     "data": {
      "image/png": "[encoded data removed]",
      "text/plain": [
       "<Figure size 1152x288 with 3 Axes>"
      ]
     },
     "metadata": {
      "needs_background": "light"
     },
     "output_type": "display_data"
    },
    {
     "data": {
      "image/png": "[encoded data removed]",
      "text/plain": [
       "<Figure size 1152x288 with 3 Axes>"
      ]
     },
     "metadata": {
      "needs_background": "light"
     },
     "output_type": "display_data"
    },
    {
     "data": {
      "image/png": "[encoded data removed]",
      "text/plain": [
       "<Figure size 1152x288 with 3 Axes>"
      ]
     },
     "metadata": {
      "needs_background": "light"
     },
     "output_type": "display_data"
    },
    {
     "data": {
      "image/png": "[encoded data removed]",
      "text/plain": [
       "<Figure size 1152x288 with 3 Axes>"
      ]
     },
     "metadata": {
      "needs_background": "light"
     },
     "output_type": "display_data"
    },
    {
     "data": {
      "image/png": "[encoded data removed]",
      "text/plain": [
       "<Figure size 1152x288 with 3 Axes>"
      ]
     },
     "metadata": {
      "needs_background": "light"
     },
     "output_type": "display_data"
    },
    {
     "data": {
      "image/png": "[encoded data removed]",
      "text/plain": [
       "<Figure size 1152x288 with 3 Axes>"
      ]
     },
     "metadata": {
      "needs_background": "light"
     },
     "output_type": "display_data"
    }
   ],
   "source": [
    "for i in X_train.describe().columns:\n",
    "    diagnostic_plots(X_train, X_train_t, i)"
   ]
  },
  {
   "cell_type": "markdown",
   "metadata": {},
   "source": [
    "##### Feature Scaling and Feature Encoding"
   ]
  },
  {
   "cell_type": "code",
   "execution_count": 45,
   "metadata": {},
   "outputs": [
    {
     "name": "stdout",
     "output_type": "stream",
     "text": [
      "Numeric Columns :  ['longitude', 'latitude', 'housing_median_age', 'total_rooms', 'total_bedrooms', 'population', 'households', 'median_income']\n",
      "Categorical Columns :  ['ocean_proximity']\n"
     ]
    }
   ],
   "source": [
    "# Get Numerical and Categorical Columns\n",
    "\n",
    "num_columns = X_train_t.select_dtypes(include=np.number).columns.tolist()\n",
    "cat_columns = X_train_t.select_dtypes(include=['object']).columns.tolist()\n",
    "\n",
    "print('Numeric Columns : ', num_columns)\n",
    "print('Categorical Columns : ', cat_columns)"
   ]
  },
  {
   "cell_type": "code",
   "execution_count": 46,
   "metadata": {},
   "outputs": [],
   "source": [
    "# Split on X_train\n",
    "\n",
    "X_train_t_num = X_train_t[num_columns]\n",
    "X_train_t_cat = X_train_t[cat_columns]\n",
    "\n",
    "# Split on X_test\n",
    "\n",
    "X_test_num = X_test[num_columns]\n",
    "X_test_cat = X_test[cat_columns]"
   ]
  },
  {
   "cell_type": "markdown",
   "metadata": {},
   "source": [
    "* Feature Scaling"
   ]
  },
  {
   "cell_type": "code",
   "execution_count": 47,
   "metadata": {},
   "outputs": [],
   "source": [
    "# Feature Scaling\n",
    "\n",
    "from sklearn.preprocessing import StandardScaler\n",
    "\n",
    "scaler = StandardScaler()\n",
    "X_train_t_num_scaled = scaler.fit_transform(X_train_t_num)\n",
    "X_test_num_scaled = scaler.transform(X_test_num)"
   ]
  },
  {
   "cell_type": "markdown",
   "metadata": {},
   "source": [
    "* Feature Encoding"
   ]
  },
  {
   "cell_type": "code",
   "execution_count": 48,
   "metadata": {},
   "outputs": [],
   "source": [
    "from sklearn.preprocessing import OneHotEncoder\n",
    "\n",
    "encoder = OneHotEncoder()\n",
    "X_train_t_cat_encoded = encoder.fit_transform(X_train_t_cat)\n",
    "X_test_cat_encoded = encoder.transform(X_test_cat)"
   ]
  },
  {
   "cell_type": "markdown",
   "metadata": {},
   "source": [
    "* Concate Numerical and Categorical"
   ]
  },
  {
   "cell_type": "code",
   "execution_count": 49,
   "metadata": {},
   "outputs": [],
   "source": [
    "# Untuk model yang memerlukan scaler\n",
    "X_train_final = np.concatenate([X_train_t_num_scaled, X_train_t_cat_encoded.toarray()], axis=1)\n",
    "X_test_final = np.concatenate([X_test_num_scaled, X_test_cat_encoded.toarray()], axis=1)"
   ]
  },
  {
   "cell_type": "code",
   "execution_count": 50,
   "metadata": {},
   "outputs": [
    {
     "data": {
      "text/plain": [
       "array([[ 1.35373768, -1.21992447, -1.39625417, ...,  0.        ,\n",
       "         0.        ,  0.        ],\n",
       "       [-1.40319488,  0.90673821,  1.21805243, ...,  0.        ,\n",
       "         0.        ,  1.        ],\n",
       "       [-0.83588384,  0.32039357, -1.23781135, ...,  0.        ,\n",
       "         0.        ,  0.        ],\n",
       "       ...,\n",
       "       [ 1.32387921, -0.92675216, -1.07936852, ...,  0.        ,\n",
       "         0.        ,  0.        ],\n",
       "       [ 0.67694557, -0.74526453,  0.58428113, ...,  0.        ,\n",
       "         0.        ,  0.        ],\n",
       "       [-1.33850151,  1.00446231,  1.13883101, ...,  0.        ,\n",
       "         1.        ,  0.        ]])"
      ]
     },
     "execution_count": 50,
     "metadata": {},
     "output_type": "execute_result"
    }
   ],
   "source": [
    "X_train_final"
   ]
  },
  {
   "cell_type": "code",
   "execution_count": 51,
   "metadata": {},
   "outputs": [
    {
     "data": {
      "text/plain": [
       "array([[-1.4131477 ,  0.91604526,  0.50505972, ...,  0.        ,\n",
       "         0.        ,  1.        ],\n",
       "       [-1.42807694,  1.00911584,  1.85182372, ...,  0.        ,\n",
       "         1.        ,  0.        ],\n",
       "       [ 0.69685122, -0.68476866,  1.85182372, ...,  0.        ,\n",
       "         0.        ,  0.        ],\n",
       "       ...,\n",
       "       [ 0.12954019,  0.32970063, -0.36637581, ...,  0.        ,\n",
       "         0.        ,  0.        ],\n",
       "       [ 0.4878419 , -0.66615454, -0.12871158, ...,  0.        ,\n",
       "         0.        ,  0.        ],\n",
       "       [-1.02001111,  1.62338165,  0.34661689, ...,  0.        ,\n",
       "         0.        ,  0.        ]])"
      ]
     },
     "execution_count": 51,
     "metadata": {},
     "output_type": "execute_result"
    }
   ],
   "source": [
    "X_test_final"
   ]
  },
  {
   "cell_type": "markdown",
   "metadata": {},
   "source": [
    "### <strong>Model Definition<strong>\n",
    "\n",
    "##### Bagian ini berisi cell untuk mendefinisikan model. Jelaskan alasan menggunakan suatu algoritma/model, hyperparameter yang dipakai, jenis penggunaan metrics yang dipakai, dan hal lain yang terkait dengan model.\n",
    "---"
   ]
  },
  {
   "cell_type": "markdown",
   "metadata": {},
   "source": [
    "Dari dataset ini akan dibuat 5 model sebagai berikut,\n",
    "\n",
    "- Linear Regression\n",
    "- K-Nearest Neighbors\n",
    "- Decision Tree\n",
    "- Random Forest Regressor\n",
    "- XGBoost"
   ]
  },
  {
   "cell_type": "code",
   "execution_count": 52,
   "metadata": {},
   "outputs": [],
   "source": [
    "lr = LinearRegression()\n",
    "knn = KNeighborsRegressor()\n",
    "dt = DecisionTreeRegressor(random_state=25)\n",
    "rf = RandomForestRegressor(random_state=25)\n",
    "xgb = XGBRegressor(random_state=25)"
   ]
  },
  {
   "cell_type": "code",
   "execution_count": 53,
   "metadata": {},
   "outputs": [
    {
     "data": {
      "text/plain": [
       "(11090, 13)"
      ]
     },
     "execution_count": 53,
     "metadata": {},
     "output_type": "execute_result"
    }
   ],
   "source": [
    "X_train_final.shape"
   ]
  },
  {
   "cell_type": "code",
   "execution_count": 54,
   "metadata": {},
   "outputs": [
    {
     "data": {
      "text/plain": [
       "(11478,)"
      ]
     },
     "execution_count": 54,
     "metadata": {},
     "output_type": "execute_result"
    }
   ],
   "source": [
    "y_train.shape"
   ]
  },
  {
   "cell_type": "markdown",
   "metadata": {},
   "source": [
    "#### Model Training\n",
    "\n",
    "Sekarang masing-masing model akan dilatih menggunakan `X_train` dan `y_train`."
   ]
  },
  {
   "cell_type": "code",
   "execution_count": 55,
   "metadata": {},
   "outputs": [
    {
     "name": "stdout",
     "output_type": "stream",
     "text": [
      "5.94 ms ± 140 µs per loop (mean ± std. dev. of 7 runs, 100 loops each)\n",
      "7.6 ms ± 12.4 µs per loop (mean ± std. dev. of 7 runs, 100 loops each)\n",
      "77.6 ms ± 192 µs per loop (mean ± std. dev. of 7 runs, 10 loops each)\n",
      "4.79 s ± 18.2 ms per loop (mean ± std. dev. of 7 runs, 1 loop each)\n",
      "1.44 s ± 45.4 ms per loop (mean ± std. dev. of 7 runs, 1 loop each)\n"
     ]
    }
   ],
   "source": [
    "%timeit lr.fit(X_train_final, y_train_trimmed)\n",
    "%timeit knn.fit(X_train_final, y_train_trimmed)\n",
    "%timeit dt.fit(X_train_final, y_train_trimmed)\n",
    "%timeit rf.fit(X_train_final, y_train_trimmed)\n",
    "%timeit xgb.fit(X_train_final, y_train_trimmed)"
   ]
  },
  {
   "cell_type": "markdown",
   "metadata": {},
   "source": [
    "Jika dilihat dari waktu trainingnya model **Decision Tree** memakan waktu training paling lama, dan model **XGBoost** memakan waktu training paling cepat."
   ]
  },
  {
   "cell_type": "markdown",
   "metadata": {},
   "source": [
    "#### Model Evaluation\n",
    "\n",
    "Pada bagian akan dilakukan evaluasi untuk melihat performa dengan menggunakan $R^2 Score$ dan $Mean Absolute Error$ (MAE) dari masing-masing model. "
   ]
  },
  {
   "cell_type": "markdown",
   "metadata": {},
   "source": [
    "- Linear Regression"
   ]
  },
  {
   "cell_type": "code",
   "execution_count": 56,
   "metadata": {},
   "outputs": [
    {
     "name": "stdout",
     "output_type": "stream",
     "text": [
      "----Training Set----\n",
      "Training Score: 0.61\n",
      "Training Mean Absolute Error (MAE): 48295.77848550874\n",
      "----Testing Set----\n",
      "Validation Score: 0.61\n",
      "Validation Mean Absolute Error (MAE): 51684.98382654528\n",
      "CPU times: user 13.9 ms, sys: 7.99 ms, total: 21.9 ms\n",
      "Wall time: 6.61 ms\n"
     ]
    }
   ],
   "source": [
    "%%time\n",
    "print('----Training Set----')\n",
    "print(f'Training Score: {lr.score(X_train_final, y_train_trimmed):.2f}')\n",
    "print(f'Training Mean Absolute Error (MAE): {mean_absolute_error(y_train_trimmed, lr.predict(X_train_final))}')\n",
    "print('----Testing Set----')\n",
    "print(f'Validation Score: {lr.score(X_test_final, y_test):.2f}')\n",
    "print(f'Validation Mean Absolute Error (MAE): {mean_absolute_error(y_test, lr.predict(X_test_final))}')"
   ]
  },
  {
   "cell_type": "markdown",
   "metadata": {},
   "source": [
    "- KNN"
   ]
  },
  {
   "cell_type": "code",
   "execution_count": 57,
   "metadata": {},
   "outputs": [
    {
     "name": "stdout",
     "output_type": "stream",
     "text": [
      "----Training Set----\n",
      "Training Score: 0.78\n",
      "Training Mean Absolute Error (MAE): 33709.104977457166\n",
      "----Testing Set----\n",
      "Validation Score: 0.68\n",
      "Validation Mean Absolute Error (MAE): 43656.75797909408\n",
      "CPU times: user 790 ms, sys: 131 ms, total: 922 ms\n",
      "Wall time: 585 ms\n"
     ]
    }
   ],
   "source": [
    "%%time\n",
    "print('----Training Set----')\n",
    "print(f'Training Score: {knn.score(X_train_final, y_train_trimmed):.2f}')\n",
    "print(f'Training Mean Absolute Error (MAE): {mean_absolute_error(y_train_trimmed, knn.predict(X_train_final))}')\n",
    "print('----Testing Set----')\n",
    "print(f'Validation Score: {knn.score(X_test_final, y_test):.2f}')\n",
    "print(f'Validation Mean Absolute Error (MAE): {mean_absolute_error(y_test, knn.predict(X_test_final))}')"
   ]
  },
  {
   "cell_type": "markdown",
   "metadata": {},
   "source": [
    "- Decision Tree"
   ]
  },
  {
   "cell_type": "code",
   "execution_count": 58,
   "metadata": {},
   "outputs": [
    {
     "name": "stdout",
     "output_type": "stream",
     "text": [
      "----Training Set----\n",
      "Training Score: 1.00\n",
      "Training Mean Absolute Error (MAE): 0.0\n",
      "----Testing Set----\n",
      "Validation Score: 0.61\n",
      "Validation Mean Absolute Error (MAE): 46054.714634146345\n",
      "CPU times: user 8.72 ms, sys: 1.33 ms, total: 10.1 ms\n",
      "Wall time: 9.44 ms\n"
     ]
    }
   ],
   "source": [
    "%%time\n",
    "print('----Training Set----')\n",
    "print(f'Training Score: {dt.score(X_train_final, y_train_trimmed):.2f}')\n",
    "print(f'Training Mean Absolute Error (MAE): {mean_absolute_error(y_train_trimmed, dt.predict(X_train_final))}')\n",
    "print('----Testing Set----')\n",
    "print(f'Validation Score: {dt.score(X_test_final, y_test):.2f}')\n",
    "print(f'Validation Mean Absolute Error (MAE): {mean_absolute_error(y_test, dt.predict(X_test_final))}')"
   ]
  },
  {
   "cell_type": "markdown",
   "metadata": {},
   "source": [
    "- Random Forest"
   ]
  },
  {
   "cell_type": "code",
   "execution_count": 59,
   "metadata": {},
   "outputs": [
    {
     "name": "stdout",
     "output_type": "stream",
     "text": [
      "----Training Set----\n",
      "Training Score: 0.97\n",
      "Training Mean Absolute Error (MAE): 12290.114679891796\n",
      "----Testing Set----\n",
      "Validation Score: 0.78\n",
      "Validation Mean Absolute Error (MAE): 35217.84148083624\n",
      "CPU times: user 496 ms, sys: 6.57 ms, total: 503 ms\n",
      "Wall time: 509 ms\n"
     ]
    }
   ],
   "source": [
    "%%time\n",
    "print('----Training Set----')\n",
    "print(f'Training Score: {rf.score(X_train_final, y_train_trimmed):.2f}')\n",
    "print(f'Training Mean Absolute Error (MAE): {mean_absolute_error(y_train_trimmed, rf.predict(X_train_final))}')\n",
    "print('----Testing Set----')\n",
    "print(f'Validation Score: {rf.score(X_test_final, y_test):.2f}')\n",
    "print(f'Validation Mean Absolute Error (MAE): {mean_absolute_error(y_test, rf.predict(X_test_final))}')"
   ]
  },
  {
   "cell_type": "markdown",
   "metadata": {},
   "source": [
    "- XGBoost"
   ]
  },
  {
   "cell_type": "code",
   "execution_count": 60,
   "metadata": {},
   "outputs": [
    {
     "name": "stdout",
     "output_type": "stream",
     "text": [
      "----Training Set----\n",
      "Training Score: 0.95\n",
      "Training Mean Absolute Error (MAE): 17604.99595514681\n",
      "----Testing Set----\n",
      "Validation Score: 0.80\n",
      "Validation Mean Absolute Error (MAE): 33434.98681844785\n",
      "CPU times: user 90 ms, sys: 10.1 ms, total: 100 ms\n",
      "Wall time: 36.6 ms\n"
     ]
    }
   ],
   "source": [
    "%%time\n",
    "print('----Training Set----')\n",
    "print(f'Training Score: {xgb.score(X_train_final, y_train_trimmed):.2f}')\n",
    "print(f'Training Mean Absolute Error (MAE): {mean_absolute_error(y_train_trimmed, xgb.predict(X_train_final))}')\n",
    "print('----Testing Set----')\n",
    "print(f'Validation Score: {xgb.score(X_test_final, y_test):.2f}')\n",
    "print(f'Validation Mean Absolute Error (MAE): {mean_absolute_error(y_test, xgb.predict(X_test_final))}')"
   ]
  },
  {
   "cell_type": "markdown",
   "metadata": {},
   "source": [
    "### Model Analysis"
   ]
  },
  {
   "cell_type": "markdown",
   "metadata": {},
   "source": [
    "Dari hasil evaluasi pada 5 model diatas, didapatkan model **Linear Regression** memiliki akurasi paling rendah dengan **Validation score 0.61, MAE 48295.77** dan pada training setnya dan pada testing setnya mendapat **Validation Score 0.61** dan **MAE 51684.98**, walaupun score-score tersebut tergolong bagus namun jika dibandingkan dengan model lainnya **akurasi dari Linear Regression ini yang paling rendah**.\n",
    "\n",
    "Sedangkan model **XGBoost** memiliki akurasi paling tinggi dengan **Validation Score 0.95** dan **MAE 17604.99** pada training setnya dan pada testing setnya mendapat **Validation Score 0.80** dengan **MAE 33434.986**.\n",
    "\n",
    "Jika dilihat dari waktu trainingnya model **Decision Tree** memakan waktu training paling lama, dan model **XGBoost** memakan waktu training paling cepat.\n"
   ]
  },
  {
   "cell_type": "markdown",
   "metadata": {},
   "source": [
    "#### Model Testing (Inference Data)"
   ]
  },
  {
   "cell_type": "markdown",
   "metadata": {},
   "source": [
    "Pada bagian ini masing-masing model akan diuji dengan menggunakan **10 data inference** yang sudah dipisahkan dari training set dan validation set."
   ]
  },
  {
   "cell_type": "code",
   "execution_count": 61,
   "metadata": {},
   "outputs": [
    {
     "data": {
      "text/html": [
       "<div>\n",
       "<style scoped>\n",
       "    .dataframe tbody tr th:only-of-type {\n",
       "        vertical-align: middle;\n",
       "    }\n",
       "\n",
       "    .dataframe tbody tr th {\n",
       "        vertical-align: top;\n",
       "    }\n",
       "\n",
       "    .dataframe thead th {\n",
       "        text-align: right;\n",
       "    }\n",
       "</style>\n",
       "<table border=\"1\" class=\"dataframe\">\n",
       "  <thead>\n",
       "    <tr style=\"text-align: right;\">\n",
       "      <th></th>\n",
       "      <th>longitude</th>\n",
       "      <th>latitude</th>\n",
       "      <th>housing_median_age</th>\n",
       "      <th>total_rooms</th>\n",
       "      <th>total_bedrooms</th>\n",
       "      <th>population</th>\n",
       "      <th>households</th>\n",
       "      <th>median_income</th>\n",
       "      <th>ocean_proximity</th>\n",
       "      <th>median_house_value</th>\n",
       "    </tr>\n",
       "  </thead>\n",
       "  <tbody>\n",
       "    <tr>\n",
       "      <th>0</th>\n",
       "      <td>-118.18</td>\n",
       "      <td>33.93</td>\n",
       "      <td>31.0</td>\n",
       "      <td>1516.0</td>\n",
       "      <td>400.0</td>\n",
       "      <td>1820.0</td>\n",
       "      <td>398.0</td>\n",
       "      <td>2.1641</td>\n",
       "      <td>&lt;1H OCEAN</td>\n",
       "      <td>122900.0</td>\n",
       "    </tr>\n",
       "    <tr>\n",
       "      <th>1</th>\n",
       "      <td>-118.25</td>\n",
       "      <td>33.93</td>\n",
       "      <td>42.0</td>\n",
       "      <td>763.0</td>\n",
       "      <td>191.0</td>\n",
       "      <td>754.0</td>\n",
       "      <td>174.0</td>\n",
       "      <td>2.0486</td>\n",
       "      <td>&lt;1H OCEAN</td>\n",
       "      <td>101800.0</td>\n",
       "    </tr>\n",
       "    <tr>\n",
       "      <th>2</th>\n",
       "      <td>-118.30</td>\n",
       "      <td>33.98</td>\n",
       "      <td>48.0</td>\n",
       "      <td>1998.0</td>\n",
       "      <td>410.0</td>\n",
       "      <td>1176.0</td>\n",
       "      <td>382.0</td>\n",
       "      <td>3.0455</td>\n",
       "      <td>&lt;1H OCEAN</td>\n",
       "      <td>102400.0</td>\n",
       "    </tr>\n",
       "    <tr>\n",
       "      <th>3</th>\n",
       "      <td>-118.20</td>\n",
       "      <td>33.82</td>\n",
       "      <td>34.0</td>\n",
       "      <td>2807.0</td>\n",
       "      <td>768.0</td>\n",
       "      <td>2217.0</td>\n",
       "      <td>744.0</td>\n",
       "      <td>2.4286</td>\n",
       "      <td>NEAR OCEAN</td>\n",
       "      <td>204800.0</td>\n",
       "    </tr>\n",
       "    <tr>\n",
       "      <th>4</th>\n",
       "      <td>-120.15</td>\n",
       "      <td>39.36</td>\n",
       "      <td>9.0</td>\n",
       "      <td>2254.0</td>\n",
       "      <td>400.0</td>\n",
       "      <td>694.0</td>\n",
       "      <td>243.0</td>\n",
       "      <td>5.6856</td>\n",
       "      <td>INLAND</td>\n",
       "      <td>138100.0</td>\n",
       "    </tr>\n",
       "    <tr>\n",
       "      <th>...</th>\n",
       "      <td>...</td>\n",
       "      <td>...</td>\n",
       "      <td>...</td>\n",
       "      <td>...</td>\n",
       "      <td>...</td>\n",
       "      <td>...</td>\n",
       "      <td>...</td>\n",
       "      <td>...</td>\n",
       "      <td>...</td>\n",
       "      <td>...</td>\n",
       "    </tr>\n",
       "    <tr>\n",
       "      <th>95</th>\n",
       "      <td>-117.38</td>\n",
       "      <td>34.08</td>\n",
       "      <td>11.0</td>\n",
       "      <td>5684.0</td>\n",
       "      <td>1139.0</td>\n",
       "      <td>3095.0</td>\n",
       "      <td>1036.0</td>\n",
       "      <td>3.6875</td>\n",
       "      <td>INLAND</td>\n",
       "      <td>112600.0</td>\n",
       "    </tr>\n",
       "    <tr>\n",
       "      <th>96</th>\n",
       "      <td>-118.34</td>\n",
       "      <td>34.18</td>\n",
       "      <td>45.0</td>\n",
       "      <td>3566.0</td>\n",
       "      <td>701.0</td>\n",
       "      <td>1601.0</td>\n",
       "      <td>653.0</td>\n",
       "      <td>3.8668</td>\n",
       "      <td>&lt;1H OCEAN</td>\n",
       "      <td>232000.0</td>\n",
       "    </tr>\n",
       "    <tr>\n",
       "      <th>97</th>\n",
       "      <td>-118.98</td>\n",
       "      <td>35.38</td>\n",
       "      <td>39.0</td>\n",
       "      <td>1497.0</td>\n",
       "      <td>383.0</td>\n",
       "      <td>1182.0</td>\n",
       "      <td>355.0</td>\n",
       "      <td>1.0648</td>\n",
       "      <td>INLAND</td>\n",
       "      <td>50000.0</td>\n",
       "    </tr>\n",
       "    <tr>\n",
       "      <th>98</th>\n",
       "      <td>-117.90</td>\n",
       "      <td>33.76</td>\n",
       "      <td>26.0</td>\n",
       "      <td>2678.0</td>\n",
       "      <td>702.0</td>\n",
       "      <td>3262.0</td>\n",
       "      <td>685.0</td>\n",
       "      <td>3.6953</td>\n",
       "      <td>&lt;1H OCEAN</td>\n",
       "      <td>176800.0</td>\n",
       "    </tr>\n",
       "    <tr>\n",
       "      <th>99</th>\n",
       "      <td>-118.86</td>\n",
       "      <td>34.20</td>\n",
       "      <td>32.0</td>\n",
       "      <td>2399.0</td>\n",
       "      <td>384.0</td>\n",
       "      <td>1199.0</td>\n",
       "      <td>390.0</td>\n",
       "      <td>4.1250</td>\n",
       "      <td>&lt;1H OCEAN</td>\n",
       "      <td>264600.0</td>\n",
       "    </tr>\n",
       "  </tbody>\n",
       "</table>\n",
       "<p>100 rows × 10 columns</p>\n",
       "</div>"
      ],
      "text/plain": [
       "    longitude  latitude  housing_median_age  total_rooms  total_bedrooms  \\\n",
       "0     -118.18     33.93                31.0       1516.0           400.0   \n",
       "1     -118.25     33.93                42.0        763.0           191.0   \n",
       "2     -118.30     33.98                48.0       1998.0           410.0   \n",
       "3     -118.20     33.82                34.0       2807.0           768.0   \n",
       "4     -120.15     39.36                 9.0       2254.0           400.0   \n",
       "..        ...       ...                 ...          ...             ...   \n",
       "95    -117.38     34.08                11.0       5684.0          1139.0   \n",
       "96    -118.34     34.18                45.0       3566.0           701.0   \n",
       "97    -118.98     35.38                39.0       1497.0           383.0   \n",
       "98    -117.90     33.76                26.0       2678.0           702.0   \n",
       "99    -118.86     34.20                32.0       2399.0           384.0   \n",
       "\n",
       "    population  households  median_income ocean_proximity  median_house_value  \n",
       "0       1820.0       398.0         2.1641       <1H OCEAN            122900.0  \n",
       "1        754.0       174.0         2.0486       <1H OCEAN            101800.0  \n",
       "2       1176.0       382.0         3.0455       <1H OCEAN            102400.0  \n",
       "3       2217.0       744.0         2.4286      NEAR OCEAN            204800.0  \n",
       "4        694.0       243.0         5.6856          INLAND            138100.0  \n",
       "..         ...         ...            ...             ...                 ...  \n",
       "95      3095.0      1036.0         3.6875          INLAND            112600.0  \n",
       "96      1601.0       653.0         3.8668       <1H OCEAN            232000.0  \n",
       "97      1182.0       355.0         1.0648          INLAND             50000.0  \n",
       "98      3262.0       685.0         3.6953       <1H OCEAN            176800.0  \n",
       "99      1199.0       390.0         4.1250       <1H OCEAN            264600.0  \n",
       "\n",
       "[100 rows x 10 columns]"
      ]
     },
     "execution_count": 61,
     "metadata": {},
     "output_type": "execute_result"
    }
   ],
   "source": [
    "inference = df_inf.reset_index(drop=True)\n",
    "inference"
   ]
  },
  {
   "cell_type": "markdown",
   "metadata": {},
   "source": [
    "#### Inference Preprocessing\n",
    "\n",
    "Sebeleum data inference ini dapat digunakan untuk diprediksi, data inference ini akan **dilakukan preprocessing sama seperti pada data testing**."
   ]
  },
  {
   "cell_type": "code",
   "execution_count": 62,
   "metadata": {},
   "outputs": [],
   "source": [
    "# Split Numerical and Categorical Features\n",
    "inference_num = inference[num_columns]\n",
    "inference_cat = inference[cat_columns]\n",
    "\n",
    "# Scale Numerical Features\n",
    "inference_num_scaled = scaler.transform(inference_num)\n",
    "\n",
    "# Encode Categorical Features\n",
    "inference_cat_encoded = encoder.transform(inference_cat)\n",
    "\n",
    "# Concatenate Numerical and Categorical Features\n",
    "inference_final = np.concatenate([inference_num_scaled, inference_cat_encoded.toarray()], axis=1)"
   ]
  },
  {
   "cell_type": "markdown",
   "metadata": {},
   "source": [
    "#### Infernce Prediction\n",
    "\n",
    "Setelah data inference melalui preprocessing, sekarang melakukan prediksi pada data inference pada setiap model."
   ]
  },
  {
   "cell_type": "code",
   "execution_count": 63,
   "metadata": {},
   "outputs": [
    {
     "data": {
      "text/html": [
       "<div>\n",
       "<style scoped>\n",
       "    .dataframe tbody tr th:only-of-type {\n",
       "        vertical-align: middle;\n",
       "    }\n",
       "\n",
       "    .dataframe tbody tr th {\n",
       "        vertical-align: top;\n",
       "    }\n",
       "\n",
       "    .dataframe thead th {\n",
       "        text-align: right;\n",
       "    }\n",
       "</style>\n",
       "<table border=\"1\" class=\"dataframe\">\n",
       "  <thead>\n",
       "    <tr style=\"text-align: right;\">\n",
       "      <th></th>\n",
       "      <th>longitude</th>\n",
       "      <th>latitude</th>\n",
       "      <th>housing_median_age</th>\n",
       "      <th>total_rooms</th>\n",
       "      <th>total_bedrooms</th>\n",
       "      <th>population</th>\n",
       "      <th>households</th>\n",
       "      <th>median_income</th>\n",
       "      <th>ocean_proximity</th>\n",
       "      <th>median_house_value</th>\n",
       "    </tr>\n",
       "  </thead>\n",
       "  <tbody>\n",
       "    <tr>\n",
       "      <th>0</th>\n",
       "      <td>-118.18</td>\n",
       "      <td>33.93</td>\n",
       "      <td>31.0</td>\n",
       "      <td>1516.0</td>\n",
       "      <td>400.0</td>\n",
       "      <td>1820.0</td>\n",
       "      <td>398.0</td>\n",
       "      <td>2.1641</td>\n",
       "      <td>&lt;1H OCEAN</td>\n",
       "      <td>122900.0</td>\n",
       "    </tr>\n",
       "    <tr>\n",
       "      <th>1</th>\n",
       "      <td>-118.25</td>\n",
       "      <td>33.93</td>\n",
       "      <td>42.0</td>\n",
       "      <td>763.0</td>\n",
       "      <td>191.0</td>\n",
       "      <td>754.0</td>\n",
       "      <td>174.0</td>\n",
       "      <td>2.0486</td>\n",
       "      <td>&lt;1H OCEAN</td>\n",
       "      <td>101800.0</td>\n",
       "    </tr>\n",
       "    <tr>\n",
       "      <th>2</th>\n",
       "      <td>-118.30</td>\n",
       "      <td>33.98</td>\n",
       "      <td>48.0</td>\n",
       "      <td>1998.0</td>\n",
       "      <td>410.0</td>\n",
       "      <td>1176.0</td>\n",
       "      <td>382.0</td>\n",
       "      <td>3.0455</td>\n",
       "      <td>&lt;1H OCEAN</td>\n",
       "      <td>102400.0</td>\n",
       "    </tr>\n",
       "    <tr>\n",
       "      <th>3</th>\n",
       "      <td>-118.20</td>\n",
       "      <td>33.82</td>\n",
       "      <td>34.0</td>\n",
       "      <td>2807.0</td>\n",
       "      <td>768.0</td>\n",
       "      <td>2217.0</td>\n",
       "      <td>744.0</td>\n",
       "      <td>2.4286</td>\n",
       "      <td>NEAR OCEAN</td>\n",
       "      <td>204800.0</td>\n",
       "    </tr>\n",
       "    <tr>\n",
       "      <th>4</th>\n",
       "      <td>-120.15</td>\n",
       "      <td>39.36</td>\n",
       "      <td>9.0</td>\n",
       "      <td>2254.0</td>\n",
       "      <td>400.0</td>\n",
       "      <td>694.0</td>\n",
       "      <td>243.0</td>\n",
       "      <td>5.6856</td>\n",
       "      <td>INLAND</td>\n",
       "      <td>138100.0</td>\n",
       "    </tr>\n",
       "    <tr>\n",
       "      <th>...</th>\n",
       "      <td>...</td>\n",
       "      <td>...</td>\n",
       "      <td>...</td>\n",
       "      <td>...</td>\n",
       "      <td>...</td>\n",
       "      <td>...</td>\n",
       "      <td>...</td>\n",
       "      <td>...</td>\n",
       "      <td>...</td>\n",
       "      <td>...</td>\n",
       "    </tr>\n",
       "    <tr>\n",
       "      <th>95</th>\n",
       "      <td>-117.38</td>\n",
       "      <td>34.08</td>\n",
       "      <td>11.0</td>\n",
       "      <td>5684.0</td>\n",
       "      <td>1139.0</td>\n",
       "      <td>3095.0</td>\n",
       "      <td>1036.0</td>\n",
       "      <td>3.6875</td>\n",
       "      <td>INLAND</td>\n",
       "      <td>112600.0</td>\n",
       "    </tr>\n",
       "    <tr>\n",
       "      <th>96</th>\n",
       "      <td>-118.34</td>\n",
       "      <td>34.18</td>\n",
       "      <td>45.0</td>\n",
       "      <td>3566.0</td>\n",
       "      <td>701.0</td>\n",
       "      <td>1601.0</td>\n",
       "      <td>653.0</td>\n",
       "      <td>3.8668</td>\n",
       "      <td>&lt;1H OCEAN</td>\n",
       "      <td>232000.0</td>\n",
       "    </tr>\n",
       "    <tr>\n",
       "      <th>97</th>\n",
       "      <td>-118.98</td>\n",
       "      <td>35.38</td>\n",
       "      <td>39.0</td>\n",
       "      <td>1497.0</td>\n",
       "      <td>383.0</td>\n",
       "      <td>1182.0</td>\n",
       "      <td>355.0</td>\n",
       "      <td>1.0648</td>\n",
       "      <td>INLAND</td>\n",
       "      <td>50000.0</td>\n",
       "    </tr>\n",
       "    <tr>\n",
       "      <th>98</th>\n",
       "      <td>-117.90</td>\n",
       "      <td>33.76</td>\n",
       "      <td>26.0</td>\n",
       "      <td>2678.0</td>\n",
       "      <td>702.0</td>\n",
       "      <td>3262.0</td>\n",
       "      <td>685.0</td>\n",
       "      <td>3.6953</td>\n",
       "      <td>&lt;1H OCEAN</td>\n",
       "      <td>176800.0</td>\n",
       "    </tr>\n",
       "    <tr>\n",
       "      <th>99</th>\n",
       "      <td>-118.86</td>\n",
       "      <td>34.20</td>\n",
       "      <td>32.0</td>\n",
       "      <td>2399.0</td>\n",
       "      <td>384.0</td>\n",
       "      <td>1199.0</td>\n",
       "      <td>390.0</td>\n",
       "      <td>4.1250</td>\n",
       "      <td>&lt;1H OCEAN</td>\n",
       "      <td>264600.0</td>\n",
       "    </tr>\n",
       "  </tbody>\n",
       "</table>\n",
       "<p>100 rows × 10 columns</p>\n",
       "</div>"
      ],
      "text/plain": [
       "    longitude  latitude  housing_median_age  total_rooms  total_bedrooms  \\\n",
       "0     -118.18     33.93                31.0       1516.0           400.0   \n",
       "1     -118.25     33.93                42.0        763.0           191.0   \n",
       "2     -118.30     33.98                48.0       1998.0           410.0   \n",
       "3     -118.20     33.82                34.0       2807.0           768.0   \n",
       "4     -120.15     39.36                 9.0       2254.0           400.0   \n",
       "..        ...       ...                 ...          ...             ...   \n",
       "95    -117.38     34.08                11.0       5684.0          1139.0   \n",
       "96    -118.34     34.18                45.0       3566.0           701.0   \n",
       "97    -118.98     35.38                39.0       1497.0           383.0   \n",
       "98    -117.90     33.76                26.0       2678.0           702.0   \n",
       "99    -118.86     34.20                32.0       2399.0           384.0   \n",
       "\n",
       "    population  households  median_income ocean_proximity  median_house_value  \n",
       "0       1820.0       398.0         2.1641       <1H OCEAN            122900.0  \n",
       "1        754.0       174.0         2.0486       <1H OCEAN            101800.0  \n",
       "2       1176.0       382.0         3.0455       <1H OCEAN            102400.0  \n",
       "3       2217.0       744.0         2.4286      NEAR OCEAN            204800.0  \n",
       "4        694.0       243.0         5.6856          INLAND            138100.0  \n",
       "..         ...         ...            ...             ...                 ...  \n",
       "95      3095.0      1036.0         3.6875          INLAND            112600.0  \n",
       "96      1601.0       653.0         3.8668       <1H OCEAN            232000.0  \n",
       "97      1182.0       355.0         1.0648          INLAND             50000.0  \n",
       "98      3262.0       685.0         3.6953       <1H OCEAN            176800.0  \n",
       "99      1199.0       390.0         4.1250       <1H OCEAN            264600.0  \n",
       "\n",
       "[100 rows x 10 columns]"
      ]
     },
     "execution_count": 63,
     "metadata": {},
     "output_type": "execute_result"
    }
   ],
   "source": [
    "inference"
   ]
  },
  {
   "cell_type": "code",
   "execution_count": 64,
   "metadata": {},
   "outputs": [
    {
     "data": {
      "text/html": [
       "<div>\n",
       "<style scoped>\n",
       "    .dataframe tbody tr th:only-of-type {\n",
       "        vertical-align: middle;\n",
       "    }\n",
       "\n",
       "    .dataframe tbody tr th {\n",
       "        vertical-align: top;\n",
       "    }\n",
       "\n",
       "    .dataframe thead th {\n",
       "        text-align: right;\n",
       "    }\n",
       "</style>\n",
       "<table border=\"1\" class=\"dataframe\">\n",
       "  <thead>\n",
       "    <tr style=\"text-align: right;\">\n",
       "      <th></th>\n",
       "      <th>longitude</th>\n",
       "      <th>latitude</th>\n",
       "      <th>housing_median_age</th>\n",
       "      <th>total_rooms</th>\n",
       "      <th>total_bedrooms</th>\n",
       "      <th>population</th>\n",
       "      <th>households</th>\n",
       "      <th>median_income</th>\n",
       "      <th>ocean_proximity</th>\n",
       "    </tr>\n",
       "  </thead>\n",
       "  <tbody>\n",
       "    <tr>\n",
       "      <th>0</th>\n",
       "      <td>-118.18</td>\n",
       "      <td>33.93</td>\n",
       "      <td>31.0</td>\n",
       "      <td>1516.0</td>\n",
       "      <td>400.0</td>\n",
       "      <td>1820.0</td>\n",
       "      <td>398.0</td>\n",
       "      <td>2.1641</td>\n",
       "      <td>&lt;1H OCEAN</td>\n",
       "    </tr>\n",
       "    <tr>\n",
       "      <th>1</th>\n",
       "      <td>-118.25</td>\n",
       "      <td>33.93</td>\n",
       "      <td>42.0</td>\n",
       "      <td>763.0</td>\n",
       "      <td>191.0</td>\n",
       "      <td>754.0</td>\n",
       "      <td>174.0</td>\n",
       "      <td>2.0486</td>\n",
       "      <td>&lt;1H OCEAN</td>\n",
       "    </tr>\n",
       "    <tr>\n",
       "      <th>2</th>\n",
       "      <td>-118.30</td>\n",
       "      <td>33.98</td>\n",
       "      <td>48.0</td>\n",
       "      <td>1998.0</td>\n",
       "      <td>410.0</td>\n",
       "      <td>1176.0</td>\n",
       "      <td>382.0</td>\n",
       "      <td>3.0455</td>\n",
       "      <td>&lt;1H OCEAN</td>\n",
       "    </tr>\n",
       "    <tr>\n",
       "      <th>3</th>\n",
       "      <td>-118.20</td>\n",
       "      <td>33.82</td>\n",
       "      <td>34.0</td>\n",
       "      <td>2807.0</td>\n",
       "      <td>768.0</td>\n",
       "      <td>2217.0</td>\n",
       "      <td>744.0</td>\n",
       "      <td>2.4286</td>\n",
       "      <td>NEAR OCEAN</td>\n",
       "    </tr>\n",
       "    <tr>\n",
       "      <th>4</th>\n",
       "      <td>-120.15</td>\n",
       "      <td>39.36</td>\n",
       "      <td>9.0</td>\n",
       "      <td>2254.0</td>\n",
       "      <td>400.0</td>\n",
       "      <td>694.0</td>\n",
       "      <td>243.0</td>\n",
       "      <td>5.6856</td>\n",
       "      <td>INLAND</td>\n",
       "    </tr>\n",
       "    <tr>\n",
       "      <th>...</th>\n",
       "      <td>...</td>\n",
       "      <td>...</td>\n",
       "      <td>...</td>\n",
       "      <td>...</td>\n",
       "      <td>...</td>\n",
       "      <td>...</td>\n",
       "      <td>...</td>\n",
       "      <td>...</td>\n",
       "      <td>...</td>\n",
       "    </tr>\n",
       "    <tr>\n",
       "      <th>95</th>\n",
       "      <td>-117.38</td>\n",
       "      <td>34.08</td>\n",
       "      <td>11.0</td>\n",
       "      <td>5684.0</td>\n",
       "      <td>1139.0</td>\n",
       "      <td>3095.0</td>\n",
       "      <td>1036.0</td>\n",
       "      <td>3.6875</td>\n",
       "      <td>INLAND</td>\n",
       "    </tr>\n",
       "    <tr>\n",
       "      <th>96</th>\n",
       "      <td>-118.34</td>\n",
       "      <td>34.18</td>\n",
       "      <td>45.0</td>\n",
       "      <td>3566.0</td>\n",
       "      <td>701.0</td>\n",
       "      <td>1601.0</td>\n",
       "      <td>653.0</td>\n",
       "      <td>3.8668</td>\n",
       "      <td>&lt;1H OCEAN</td>\n",
       "    </tr>\n",
       "    <tr>\n",
       "      <th>97</th>\n",
       "      <td>-118.98</td>\n",
       "      <td>35.38</td>\n",
       "      <td>39.0</td>\n",
       "      <td>1497.0</td>\n",
       "      <td>383.0</td>\n",
       "      <td>1182.0</td>\n",
       "      <td>355.0</td>\n",
       "      <td>1.0648</td>\n",
       "      <td>INLAND</td>\n",
       "    </tr>\n",
       "    <tr>\n",
       "      <th>98</th>\n",
       "      <td>-117.90</td>\n",
       "      <td>33.76</td>\n",
       "      <td>26.0</td>\n",
       "      <td>2678.0</td>\n",
       "      <td>702.0</td>\n",
       "      <td>3262.0</td>\n",
       "      <td>685.0</td>\n",
       "      <td>3.6953</td>\n",
       "      <td>&lt;1H OCEAN</td>\n",
       "    </tr>\n",
       "    <tr>\n",
       "      <th>99</th>\n",
       "      <td>-118.86</td>\n",
       "      <td>34.20</td>\n",
       "      <td>32.0</td>\n",
       "      <td>2399.0</td>\n",
       "      <td>384.0</td>\n",
       "      <td>1199.0</td>\n",
       "      <td>390.0</td>\n",
       "      <td>4.1250</td>\n",
       "      <td>&lt;1H OCEAN</td>\n",
       "    </tr>\n",
       "  </tbody>\n",
       "</table>\n",
       "<p>100 rows × 9 columns</p>\n",
       "</div>"
      ],
      "text/plain": [
       "    longitude  latitude  housing_median_age  total_rooms  total_bedrooms  \\\n",
       "0     -118.18     33.93                31.0       1516.0           400.0   \n",
       "1     -118.25     33.93                42.0        763.0           191.0   \n",
       "2     -118.30     33.98                48.0       1998.0           410.0   \n",
       "3     -118.20     33.82                34.0       2807.0           768.0   \n",
       "4     -120.15     39.36                 9.0       2254.0           400.0   \n",
       "..        ...       ...                 ...          ...             ...   \n",
       "95    -117.38     34.08                11.0       5684.0          1139.0   \n",
       "96    -118.34     34.18                45.0       3566.0           701.0   \n",
       "97    -118.98     35.38                39.0       1497.0           383.0   \n",
       "98    -117.90     33.76                26.0       2678.0           702.0   \n",
       "99    -118.86     34.20                32.0       2399.0           384.0   \n",
       "\n",
       "    population  households  median_income ocean_proximity  \n",
       "0       1820.0       398.0         2.1641       <1H OCEAN  \n",
       "1        754.0       174.0         2.0486       <1H OCEAN  \n",
       "2       1176.0       382.0         3.0455       <1H OCEAN  \n",
       "3       2217.0       744.0         2.4286      NEAR OCEAN  \n",
       "4        694.0       243.0         5.6856          INLAND  \n",
       "..         ...         ...            ...             ...  \n",
       "95      3095.0      1036.0         3.6875          INLAND  \n",
       "96      1601.0       653.0         3.8668       <1H OCEAN  \n",
       "97      1182.0       355.0         1.0648          INLAND  \n",
       "98      3262.0       685.0         3.6953       <1H OCEAN  \n",
       "99      1199.0       390.0         4.1250       <1H OCEAN  \n",
       "\n",
       "[100 rows x 9 columns]"
      ]
     },
     "execution_count": 64,
     "metadata": {},
     "output_type": "execute_result"
    }
   ],
   "source": [
    "X_inf = inference.drop(['median_house_value'], axis=1)\n",
    "y_inf = inference['median_house_value']\n",
    "X_inf"
   ]
  },
  {
   "cell_type": "code",
   "execution_count": 65,
   "metadata": {},
   "outputs": [
    {
     "data": {
      "text/plain": [
       "longitude             0\n",
       "latitude              0\n",
       "housing_median_age    0\n",
       "total_rooms           0\n",
       "total_bedrooms        1\n",
       "population            0\n",
       "households            0\n",
       "median_income         0\n",
       "ocean_proximity       0\n",
       "dtype: int64"
      ]
     },
     "execution_count": 65,
     "metadata": {},
     "output_type": "execute_result"
    }
   ],
   "source": [
    "X_inf.isna().sum()"
   ]
  },
  {
   "cell_type": "code",
   "execution_count": 66,
   "metadata": {},
   "outputs": [
    {
     "data": {
      "text/plain": [
       "1.9119003314779246"
      ]
     },
     "execution_count": 66,
     "metadata": {},
     "output_type": "execute_result"
    }
   ],
   "source": [
    "X_inf['total_bedrooms'].skew()"
   ]
  },
  {
   "cell_type": "code",
   "execution_count": 67,
   "metadata": {},
   "outputs": [],
   "source": [
    "X_inf['total_bedrooms'].fillna(X_inf['total_bedrooms'].median(), inplace=True)"
   ]
  },
  {
   "cell_type": "code",
   "execution_count": 68,
   "metadata": {},
   "outputs": [],
   "source": [
    "# Split Numerical and Categorical Columns\n",
    "\n",
    "df_inf_num = X_inf[num_columns]\n",
    "df_inf_cat = X_inf[cat_columns]"
   ]
  },
  {
   "cell_type": "code",
   "execution_count": 69,
   "metadata": {},
   "outputs": [],
   "source": [
    "df_inf_num_scaled = scaler.transform(df_inf_num)\n",
    "df_inf_cat_encoded = encoder.transform(df_inf_cat)"
   ]
  },
  {
   "cell_type": "code",
   "execution_count": 70,
   "metadata": {},
   "outputs": [],
   "source": [
    "df_inf_final = np.concatenate([df_inf_num_scaled, df_inf_cat_encoded.toarray()], axis=1)"
   ]
  },
  {
   "cell_type": "code",
   "execution_count": 71,
   "metadata": {},
   "outputs": [],
   "source": [
    "#y_pred_inf_lr = lr.predict(df_inf)\n",
    "#y_pred_inf_knn = knn.predict(inference)\n",
    "y_pred_inf_dt = dt.predict(df_inf_final)\n",
    "#y_pred_inf_rf = rf.predict(inference)\n",
    "y_pred_inf_xgb = xgb.predict(df_inf_final)"
   ]
  },
  {
   "cell_type": "code",
   "execution_count": 72,
   "metadata": {},
   "outputs": [
    {
     "data": {
      "text/html": [
       "<div>\n",
       "<style scoped>\n",
       "    .dataframe tbody tr th:only-of-type {\n",
       "        vertical-align: middle;\n",
       "    }\n",
       "\n",
       "    .dataframe tbody tr th {\n",
       "        vertical-align: top;\n",
       "    }\n",
       "\n",
       "    .dataframe thead th {\n",
       "        text-align: right;\n",
       "    }\n",
       "</style>\n",
       "<table border=\"1\" class=\"dataframe\">\n",
       "  <thead>\n",
       "    <tr style=\"text-align: right;\">\n",
       "      <th></th>\n",
       "      <th>median_harga</th>\n",
       "    </tr>\n",
       "  </thead>\n",
       "  <tbody>\n",
       "    <tr>\n",
       "      <th>0</th>\n",
       "      <td>133154.062500</td>\n",
       "    </tr>\n",
       "    <tr>\n",
       "      <th>1</th>\n",
       "      <td>91692.945312</td>\n",
       "    </tr>\n",
       "    <tr>\n",
       "      <th>2</th>\n",
       "      <td>115014.437500</td>\n",
       "    </tr>\n",
       "    <tr>\n",
       "      <th>3</th>\n",
       "      <td>159800.015625</td>\n",
       "    </tr>\n",
       "    <tr>\n",
       "      <th>4</th>\n",
       "      <td>220916.484375</td>\n",
       "    </tr>\n",
       "    <tr>\n",
       "      <th>...</th>\n",
       "      <td>...</td>\n",
       "    </tr>\n",
       "    <tr>\n",
       "      <th>95</th>\n",
       "      <td>138616.781250</td>\n",
       "    </tr>\n",
       "    <tr>\n",
       "      <th>96</th>\n",
       "      <td>270388.781250</td>\n",
       "    </tr>\n",
       "    <tr>\n",
       "      <th>97</th>\n",
       "      <td>48166.628906</td>\n",
       "    </tr>\n",
       "    <tr>\n",
       "      <th>98</th>\n",
       "      <td>167149.046875</td>\n",
       "    </tr>\n",
       "    <tr>\n",
       "      <th>99</th>\n",
       "      <td>221163.109375</td>\n",
       "    </tr>\n",
       "  </tbody>\n",
       "</table>\n",
       "<p>100 rows × 1 columns</p>\n",
       "</div>"
      ],
      "text/plain": [
       "     median_harga\n",
       "0   133154.062500\n",
       "1    91692.945312\n",
       "2   115014.437500\n",
       "3   159800.015625\n",
       "4   220916.484375\n",
       "..            ...\n",
       "95  138616.781250\n",
       "96  270388.781250\n",
       "97   48166.628906\n",
       "98  167149.046875\n",
       "99  221163.109375\n",
       "\n",
       "[100 rows x 1 columns]"
      ]
     },
     "execution_count": 72,
     "metadata": {},
     "output_type": "execute_result"
    }
   ],
   "source": [
    "y_pred_inf_xgb_frame = pd.DataFrame(y_pred_inf_xgb, columns=['median_harga'])\n",
    "y_pred_inf_xgb_frame"
   ]
  },
  {
   "cell_type": "markdown",
   "metadata": {},
   "source": [
    "##### Kesimpulan analysis"
   ]
  },
  {
   "cell_type": "markdown",
   "metadata": {},
   "source": [
    "Pada project ini dataset yang saya gunakan adalah California Housing, Dataset ini adalah versi modifikasi dari dataset California Housing yang tersedia dari halaman Luís Torgo (University of Porto). Luís Torgo memperolehnya dari repositori StatLib (yang sekarang ditutup).\n",
    "\n",
    "Dataset ini muncul dalam makalah 1997 berjudul Sparse Spatial Autoregressions oleh Pace, R. Kelley dan Ronald Barry, yang diterbitkan dalam jurnal Statistics and Probability Letters. Mereka membangunnya menggunakan data sensus California 1990. Ini berisi satu baris per kelompok blok sensus. Grup blok adalah unit geografis terkecil tempat Biro Sensus AS menerbitkan data sampel (grup blok biasanya memiliki populasi 600 hingga 3.000 orang).\n",
    "\n",
    "Dataset dalam direktori ini hampir identik dengan aslinya, dengan dua perbedaan:\n",
    "137 nilai dihapus secara acak dari kolom total_bedrooms, ocean_proximity telah ditambahkan, yang menunjukkan apakah setiap cluster blok berada di dekat laut, dekat area Teluk, pedalaman atau di sebuah pulau? apa yang harus dilakukan dengan data kategorikal?\n",
    "\n",
    "Data set terdiri dari 14448 baris dan 10 kolom, dengan dua tipe data, float64 sebanyak 9 kolom dan object 1 kolom.. \n",
    "\n",
    "Keterangan Dataset sebagai berikut:\n",
    "\n",
    "1. longitude: A measure of how far west a house is; a higher value is farther west\n",
    "\n",
    "2. latitude: A measure of how far north a house is; a higher value is farther north\n",
    "\n",
    "3. housingMedianAge: Median age of a house within a block; a lower number is a newer building\n",
    "\n",
    "4. totalRooms: Total number of rooms within a block\n",
    "\n",
    "5. totalBedrooms: Total number of bedrooms within a block\n",
    "\n",
    "6. population: Total number of people residing within a block\n",
    "\n",
    "7. households: Total number of households, a group of people residing within a home unit, for a block\n",
    "\n",
    "8. medianIncome: Median income for households within a block of houses (measured in tens of thousands of US Dollars)\n",
    "\n",
    "9. oceanProximity: Location of the house w.r.t ocean/sea\n",
    "\n",
    "10. medianHouseValue: Median house value for households within a block (measured in US Dollars)\n",
    "\n",
    "Missing Value terdapat pada kolom 'total_bedrooms' sebanyak 137, dan ini menghilangkan 0.95% data pada kolom ini.\n",
    "\n",
    "Saya melakukan beberapa data vizualization, dan mengambil kesimpulan sebagai berikut:\n",
    "\n",
    "- Pada data ada 5 jenis rumah berdasarkan jarak daratan dengan laut, jika dilihat dari grafiknya di daerah california paling banyak rumah yang jarak ke laut nya itu kurang dari 1 jam, dan yang paling sedikit itu rumah di pulau. dan setau saya di California tidak terdapat pulau.\n",
    "\n",
    "- Berdasarkan scatterplot dapat dilihat bahwa persebaran rumah di pedalaman (Inland) sangat besar. near ocean lumayan banyak tetapi yang berjarak satu jam lebih dari ocean lebih banyak lagi, dan yang dekat dengan teluk hanya di suatu kumpulan (analisa saya mungkin ini seperti cluster yang dibangun dekat teluk), dan orang lebih memilih di Inland dibanding near ocean karena resiko tinggal di dekat laut itu lumayan besar dan sangat berbahaya, di khawatirkan adanya bencana alam tiba - tiba seperti tsunami atau tornado.\n",
    "\n",
    "- Jumlah populasi di < 1H Ocean pling banyak diantra lainnya, dan jumlah populasi island paling sedikit.\n",
    "\n",
    "- Jika di liat dari gambar dan nilai skewnessnya kolom housing_median_age terdistribusi secara normal.\n",
    "\n",
    "Setelah itu baru melakukan data preprocessing, untuk proses pelatihan model, seperti pembagian data menjadi train-dev-test, transformasi data (normalisasi, encoding, dll.), dan proses-proses lain yang dibutuhkan. Pertama melakukan data inference, feature selection, menghandle missing value pada kolom total_bedrooms dengan menggunakan median, lalu baru memeriksa outlier pada data, \n",
    "\n",
    "columns\t                skew distribution\n",
    "\n",
    "- longitude\t            -0.302204\tNormal\n",
    "- latitude\t            0.470076\tNormal\n",
    "- housing_median_age\t0.057010\tNormal\n",
    "- total_rooms\t        3.930220\tSkew\n",
    "- total_bedrooms\t    3.359640\tSkew\n",
    "- population\t        5.928408\tSkew\n",
    "- households\t        3.258300\tSkew\n",
    "- median_income\t        1.674004\tSkew\n",
    "\n",
    "Setelah melihat skew atau normal distribusi datanya, baru dapat melakukan handling outlier,\n",
    "\n",
    "\n",
    "columns\t                  skew\t\tdistribution    trimmed_row\t  percentage\t     action\n",
    "- longitude\t      \t\t-0.302204\t   Normal\t       0.0\t        0.00\t        No Action\n",
    "- latitude\t\t\t\t0.470076\t   Normal\t\t   0.0\t        0.00\t\t\tNo Action\n",
    "- housing_median_age\t0.057010\t   Normal\t\t   0.0\t        0.00\t\t\tNo Action\n",
    "- total_rooms\t\t\t3.930220\t\tSkew\t\t   715.0\t    6.23\t    Capping/Windsorizer\n",
    "- total_bedrooms\t\t3.359640\t\tSkew\t\t   706.0\t    6.15\t    Capping/Windsorizer\n",
    "- population\t\t\t5.928408\t\tSkew\t\t   639.0\t    5.57\t    Capping/Windsorizer\n",
    "- households\t\t\t3.258300\t\tSkew\t\t   654.0\t    5.70\t    Capping/Windsorizer\n",
    "- median_income\t\t\t1.674004\t\tSkew\t\t   388.0\t    3.38\t        Trimming\n",
    "\n",
    "\n",
    "Pada proses modeling, dari dataset ini saya membuat 5 model sebagai berikut,\n",
    "\n",
    "- Linear Regression\n",
    "- K-Nearest Neighbors\n",
    "- Decision Tree\n",
    "- Random Forest Regressor\n",
    "- XGBoost\n",
    "\n",
    "Dari hasil evaluasi pada 5 model diatas, didapatkan model **Linear Regression** memiliki akurasi paling rendah dengan **Validation score 0.61, MAE 48295.77** dan pada training setnya dan pada testing setnya mendapat **Validation Score 0.61** dan **MAE 51684.98**, walaupun score-score tersebut tergolong bagus namun jika dibandingkan dengan model lainnya **akurasi dari Linear Regression ini yang paling rendah**.\n",
    "\n",
    "Sedangkan model **XGBoost** memiliki akurasi paling tinggi dengan **Validation Score 0.95** dan **MAE 17604.99** pada training setnya dan pada testing setnya mendapat **Validation Score 0.80** dengan **MAE 33434.986**.\n",
    "\n",
    "Jika dilihat dari waktu trainingnya model **Decision Tree** memakan waktu training paling lama, dan model **XGBoost** memakan waktu training paling cepat.\n",
    "\n",
    "\n"
   ]
  }
 ],
 "metadata": {
  "kernelspec": {
   "display_name": "Python 3.9.12 ('base')",
   "language": "python",
   "name": "python3"
  },
  "language_info": {
   "codemirror_mode": {
    "name": "ipython",
    "version": 3
   },
   "file_extension": ".py",
   "mimetype": "text/x-python",
   "name": "python",
   "nbconvert_exporter": "python",
   "pygments_lexer": "ipython3",
   "version": "3.9.12"
  },
  "orig_nbformat": 4,
  "vscode": {
   "interpreter": {
    "hash": "74a5c95dddfe502c417b8be25df9a2b0b624ffe0ac9741929882f409451b42b7"
   }
  }
 },
 "nbformat": 4,
 "nbformat_minor": 2
}
