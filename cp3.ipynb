{
 "cells": [
  {
   "cell_type": "code",
   "execution_count": 162,
   "metadata": {},
   "outputs": [
    {
     "name": "stdout",
     "output_type": "stream",
     "text": [
      "Requirement already satisfied: numpy in /Users/anitaantono/opt/anaconda3/lib/python3.9/site-packages (1.21.5)\n"
     ]
    }
   ],
   "source": [
    "!pip install numpy"
   ]
  },
  {
   "cell_type": "code",
   "execution_count": 163,
   "metadata": {},
   "outputs": [
    {
     "name": "stdout",
     "output_type": "stream",
     "text": [
      "Requirement already satisfied: category_encoders in /Users/anitaantono/opt/anaconda3/lib/python3.9/site-packages (2.5.1.post0)\n",
      "Requirement already satisfied: pandas>=1.0.5 in /Users/anitaantono/opt/anaconda3/lib/python3.9/site-packages (from category_encoders) (1.4.2)\n",
      "Requirement already satisfied: scipy>=1.0.0 in /Users/anitaantono/opt/anaconda3/lib/python3.9/site-packages (from category_encoders) (1.7.3)\n",
      "Requirement already satisfied: patsy>=0.5.1 in /Users/anitaantono/opt/anaconda3/lib/python3.9/site-packages (from category_encoders) (0.5.2)\n",
      "Requirement already satisfied: statsmodels>=0.9.0 in /Users/anitaantono/opt/anaconda3/lib/python3.9/site-packages (from category_encoders) (0.13.2)\n",
      "Requirement already satisfied: numpy>=1.14.0 in /Users/anitaantono/opt/anaconda3/lib/python3.9/site-packages (from category_encoders) (1.21.5)\n",
      "Requirement already satisfied: scikit-learn>=0.20.0 in /Users/anitaantono/opt/anaconda3/lib/python3.9/site-packages (from category_encoders) (1.0.2)\n",
      "Requirement already satisfied: python-dateutil>=2.8.1 in /Users/anitaantono/opt/anaconda3/lib/python3.9/site-packages (from pandas>=1.0.5->category_encoders) (2.8.2)\n",
      "Requirement already satisfied: pytz>=2020.1 in /Users/anitaantono/opt/anaconda3/lib/python3.9/site-packages (from pandas>=1.0.5->category_encoders) (2021.3)\n",
      "Requirement already satisfied: six in /Users/anitaantono/opt/anaconda3/lib/python3.9/site-packages (from patsy>=0.5.1->category_encoders) (1.16.0)\n",
      "Requirement already satisfied: joblib>=0.11 in /Users/anitaantono/opt/anaconda3/lib/python3.9/site-packages (from scikit-learn>=0.20.0->category_encoders) (1.1.0)\n",
      "Requirement already satisfied: threadpoolctl>=2.0.0 in /Users/anitaantono/opt/anaconda3/lib/python3.9/site-packages (from scikit-learn>=0.20.0->category_encoders) (2.2.0)\n",
      "Requirement already satisfied: packaging>=21.3 in /Users/anitaantono/opt/anaconda3/lib/python3.9/site-packages (from statsmodels>=0.9.0->category_encoders) (21.3)\n",
      "Requirement already satisfied: pyparsing!=3.0.5,>=2.0.2 in /Users/anitaantono/opt/anaconda3/lib/python3.9/site-packages (from packaging>=21.3->statsmodels>=0.9.0->category_encoders) (3.0.4)\n"
     ]
    }
   ],
   "source": [
    "!pip install category_encoders"
   ]
  },
  {
   "cell_type": "code",
   "execution_count": 164,
   "metadata": {},
   "outputs": [
    {
     "name": "stdout",
     "output_type": "stream",
     "text": [
      "Requirement already satisfied: sklearn in /Users/anitaantono/opt/anaconda3/lib/python3.9/site-packages (0.0)\n",
      "Requirement already satisfied: scikit-learn in /Users/anitaantono/opt/anaconda3/lib/python3.9/site-packages (from sklearn) (1.0.2)\n",
      "Requirement already satisfied: scipy>=1.1.0 in /Users/anitaantono/opt/anaconda3/lib/python3.9/site-packages (from scikit-learn->sklearn) (1.7.3)\n",
      "Requirement already satisfied: numpy>=1.14.6 in /Users/anitaantono/opt/anaconda3/lib/python3.9/site-packages (from scikit-learn->sklearn) (1.21.5)\n",
      "Requirement already satisfied: threadpoolctl>=2.0.0 in /Users/anitaantono/opt/anaconda3/lib/python3.9/site-packages (from scikit-learn->sklearn) (2.2.0)\n",
      "Requirement already satisfied: joblib>=0.11 in /Users/anitaantono/opt/anaconda3/lib/python3.9/site-packages (from scikit-learn->sklearn) (1.1.0)\n"
     ]
    }
   ],
   "source": [
    "!pip install sklearn"
   ]
  },
  {
   "cell_type": "code",
   "execution_count": 165,
   "metadata": {},
   "outputs": [
    {
     "name": "stdout",
     "output_type": "stream",
     "text": [
      "Requirement already satisfied: xgboost in /Users/anitaantono/opt/anaconda3/lib/python3.9/site-packages (1.6.2)\n",
      "Requirement already satisfied: numpy in /Users/anitaantono/opt/anaconda3/lib/python3.9/site-packages (from xgboost) (1.21.5)\n",
      "Requirement already satisfied: scipy in /Users/anitaantono/opt/anaconda3/lib/python3.9/site-packages (from xgboost) (1.7.3)\n"
     ]
    }
   ],
   "source": [
    "!pip install xgboost"
   ]
  },
  {
   "cell_type": "markdown",
   "metadata": {},
   "source": [
    "# 1. Import Libraries"
   ]
  },
  {
   "cell_type": "code",
   "execution_count": 166,
   "metadata": {},
   "outputs": [],
   "source": [
    "import pandas as pd \n",
    "import numpy as np\n",
    "import matplotlib.pyplot as plt\n",
    "import seaborn as sns\n",
    "import xgboost as xgb\n",
    "\n",
    "import warnings\n",
    "warnings.filterwarnings('ignore')\n",
    "\n",
    "from sklearn.model_selection import train_test_split, cross_val_score, RandomizedSearchCV, GridSearchCV, KFold\n",
    "\n",
    "import category_encoders as ce\n",
    "from sklearn.preprocessing import OneHotEncoder\n",
    "from sklearn.compose import ColumnTransformer\n",
    "from sklearn.pipeline import Pipeline\n",
    "\n",
    "from sklearn.linear_model import LinearRegression\n",
    "from sklearn.neighbors import KNeighborsRegressor\n",
    "from sklearn.tree import DecisionTreeRegressor\n",
    "from sklearn.ensemble import RandomForestRegressor\n",
    "from xgboost import XGBRegressor\n",
    "from sklearn.compose import TransformedTargetRegressor\n",
    "from sklearn.preprocessing import StandardScaler\n",
    "\n",
    "from sklearn.metrics import r2_score, mean_squared_error, mean_absolute_error, mean_absolute_percentage_error"
   ]
  },
  {
   "cell_type": "markdown",
   "metadata": {},
   "source": [
    "# 2. Data Loading"
   ]
  },
  {
   "cell_type": "code",
   "execution_count": 167,
   "metadata": {},
   "outputs": [],
   "source": [
    "df= pd.read_csv('data_california_house (1).csv')"
   ]
  },
  {
   "cell_type": "code",
   "execution_count": 168,
   "metadata": {},
   "outputs": [
    {
     "data": {
      "text/html": [
       "<div>\n",
       "<style scoped>\n",
       "    .dataframe tbody tr th:only-of-type {\n",
       "        vertical-align: middle;\n",
       "    }\n",
       "\n",
       "    .dataframe tbody tr th {\n",
       "        vertical-align: top;\n",
       "    }\n",
       "\n",
       "    .dataframe thead th {\n",
       "        text-align: right;\n",
       "    }\n",
       "</style>\n",
       "<table border=\"1\" class=\"dataframe\">\n",
       "  <thead>\n",
       "    <tr style=\"text-align: right;\">\n",
       "      <th></th>\n",
       "      <th>longitude</th>\n",
       "      <th>latitude</th>\n",
       "      <th>housing_median_age</th>\n",
       "      <th>total_rooms</th>\n",
       "      <th>total_bedrooms</th>\n",
       "      <th>population</th>\n",
       "      <th>households</th>\n",
       "      <th>median_income</th>\n",
       "      <th>ocean_proximity</th>\n",
       "      <th>median_house_value</th>\n",
       "    </tr>\n",
       "  </thead>\n",
       "  <tbody>\n",
       "    <tr>\n",
       "      <th>0</th>\n",
       "      <td>-119.79</td>\n",
       "      <td>36.73</td>\n",
       "      <td>52.0</td>\n",
       "      <td>112.0</td>\n",
       "      <td>28.0</td>\n",
       "      <td>193.0</td>\n",
       "      <td>40.0</td>\n",
       "      <td>1.9750</td>\n",
       "      <td>INLAND</td>\n",
       "      <td>47500.0</td>\n",
       "    </tr>\n",
       "    <tr>\n",
       "      <th>1</th>\n",
       "      <td>-122.21</td>\n",
       "      <td>37.77</td>\n",
       "      <td>43.0</td>\n",
       "      <td>1017.0</td>\n",
       "      <td>328.0</td>\n",
       "      <td>836.0</td>\n",
       "      <td>277.0</td>\n",
       "      <td>2.2604</td>\n",
       "      <td>NEAR BAY</td>\n",
       "      <td>100000.0</td>\n",
       "    </tr>\n",
       "    <tr>\n",
       "      <th>2</th>\n",
       "      <td>-118.04</td>\n",
       "      <td>33.87</td>\n",
       "      <td>17.0</td>\n",
       "      <td>2358.0</td>\n",
       "      <td>396.0</td>\n",
       "      <td>1387.0</td>\n",
       "      <td>364.0</td>\n",
       "      <td>6.2990</td>\n",
       "      <td>&lt;1H OCEAN</td>\n",
       "      <td>285800.0</td>\n",
       "    </tr>\n",
       "    <tr>\n",
       "      <th>3</th>\n",
       "      <td>-118.28</td>\n",
       "      <td>34.06</td>\n",
       "      <td>17.0</td>\n",
       "      <td>2518.0</td>\n",
       "      <td>1196.0</td>\n",
       "      <td>3051.0</td>\n",
       "      <td>1000.0</td>\n",
       "      <td>1.7199</td>\n",
       "      <td>&lt;1H OCEAN</td>\n",
       "      <td>175000.0</td>\n",
       "    </tr>\n",
       "    <tr>\n",
       "      <th>4</th>\n",
       "      <td>-119.81</td>\n",
       "      <td>36.73</td>\n",
       "      <td>50.0</td>\n",
       "      <td>772.0</td>\n",
       "      <td>194.0</td>\n",
       "      <td>606.0</td>\n",
       "      <td>167.0</td>\n",
       "      <td>2.2206</td>\n",
       "      <td>INLAND</td>\n",
       "      <td>59200.0</td>\n",
       "    </tr>\n",
       "    <tr>\n",
       "      <th>...</th>\n",
       "      <td>...</td>\n",
       "      <td>...</td>\n",
       "      <td>...</td>\n",
       "      <td>...</td>\n",
       "      <td>...</td>\n",
       "      <td>...</td>\n",
       "      <td>...</td>\n",
       "      <td>...</td>\n",
       "      <td>...</td>\n",
       "      <td>...</td>\n",
       "    </tr>\n",
       "    <tr>\n",
       "      <th>14443</th>\n",
       "      <td>-121.26</td>\n",
       "      <td>38.27</td>\n",
       "      <td>20.0</td>\n",
       "      <td>1314.0</td>\n",
       "      <td>229.0</td>\n",
       "      <td>712.0</td>\n",
       "      <td>219.0</td>\n",
       "      <td>4.4125</td>\n",
       "      <td>INLAND</td>\n",
       "      <td>144600.0</td>\n",
       "    </tr>\n",
       "    <tr>\n",
       "      <th>14444</th>\n",
       "      <td>-120.89</td>\n",
       "      <td>37.48</td>\n",
       "      <td>27.0</td>\n",
       "      <td>1118.0</td>\n",
       "      <td>195.0</td>\n",
       "      <td>647.0</td>\n",
       "      <td>209.0</td>\n",
       "      <td>2.9135</td>\n",
       "      <td>INLAND</td>\n",
       "      <td>159400.0</td>\n",
       "    </tr>\n",
       "    <tr>\n",
       "      <th>14445</th>\n",
       "      <td>-121.90</td>\n",
       "      <td>36.58</td>\n",
       "      <td>31.0</td>\n",
       "      <td>1431.0</td>\n",
       "      <td>NaN</td>\n",
       "      <td>704.0</td>\n",
       "      <td>393.0</td>\n",
       "      <td>3.1977</td>\n",
       "      <td>NEAR OCEAN</td>\n",
       "      <td>289300.0</td>\n",
       "    </tr>\n",
       "    <tr>\n",
       "      <th>14446</th>\n",
       "      <td>-117.93</td>\n",
       "      <td>33.62</td>\n",
       "      <td>34.0</td>\n",
       "      <td>2125.0</td>\n",
       "      <td>498.0</td>\n",
       "      <td>1052.0</td>\n",
       "      <td>468.0</td>\n",
       "      <td>5.6315</td>\n",
       "      <td>&lt;1H OCEAN</td>\n",
       "      <td>484600.0</td>\n",
       "    </tr>\n",
       "    <tr>\n",
       "      <th>14447</th>\n",
       "      <td>-115.56</td>\n",
       "      <td>32.80</td>\n",
       "      <td>15.0</td>\n",
       "      <td>1171.0</td>\n",
       "      <td>328.0</td>\n",
       "      <td>1024.0</td>\n",
       "      <td>298.0</td>\n",
       "      <td>1.3882</td>\n",
       "      <td>INLAND</td>\n",
       "      <td>69400.0</td>\n",
       "    </tr>\n",
       "  </tbody>\n",
       "</table>\n",
       "<p>14448 rows × 10 columns</p>\n",
       "</div>"
      ],
      "text/plain": [
       "       longitude  latitude  housing_median_age  total_rooms  total_bedrooms  \\\n",
       "0        -119.79     36.73                52.0        112.0            28.0   \n",
       "1        -122.21     37.77                43.0       1017.0           328.0   \n",
       "2        -118.04     33.87                17.0       2358.0           396.0   \n",
       "3        -118.28     34.06                17.0       2518.0          1196.0   \n",
       "4        -119.81     36.73                50.0        772.0           194.0   \n",
       "...          ...       ...                 ...          ...             ...   \n",
       "14443    -121.26     38.27                20.0       1314.0           229.0   \n",
       "14444    -120.89     37.48                27.0       1118.0           195.0   \n",
       "14445    -121.90     36.58                31.0       1431.0             NaN   \n",
       "14446    -117.93     33.62                34.0       2125.0           498.0   \n",
       "14447    -115.56     32.80                15.0       1171.0           328.0   \n",
       "\n",
       "       population  households  median_income ocean_proximity  \\\n",
       "0           193.0        40.0         1.9750          INLAND   \n",
       "1           836.0       277.0         2.2604        NEAR BAY   \n",
       "2          1387.0       364.0         6.2990       <1H OCEAN   \n",
       "3          3051.0      1000.0         1.7199       <1H OCEAN   \n",
       "4           606.0       167.0         2.2206          INLAND   \n",
       "...           ...         ...            ...             ...   \n",
       "14443       712.0       219.0         4.4125          INLAND   \n",
       "14444       647.0       209.0         2.9135          INLAND   \n",
       "14445       704.0       393.0         3.1977      NEAR OCEAN   \n",
       "14446      1052.0       468.0         5.6315       <1H OCEAN   \n",
       "14447      1024.0       298.0         1.3882          INLAND   \n",
       "\n",
       "       median_house_value  \n",
       "0                 47500.0  \n",
       "1                100000.0  \n",
       "2                285800.0  \n",
       "3                175000.0  \n",
       "4                 59200.0  \n",
       "...                   ...  \n",
       "14443            144600.0  \n",
       "14444            159400.0  \n",
       "14445            289300.0  \n",
       "14446            484600.0  \n",
       "14447             69400.0  \n",
       "\n",
       "[14448 rows x 10 columns]"
      ]
     },
     "execution_count": 168,
     "metadata": {},
     "output_type": "execute_result"
    }
   ],
   "source": [
    "df"
   ]
  },
  {
   "cell_type": "code",
   "execution_count": 169,
   "metadata": {},
   "outputs": [
    {
     "name": "stdout",
     "output_type": "stream",
     "text": [
      "<class 'pandas.core.frame.DataFrame'>\n",
      "RangeIndex: 14448 entries, 0 to 14447\n",
      "Data columns (total 10 columns):\n",
      " #   Column              Non-Null Count  Dtype  \n",
      "---  ------              --------------  -----  \n",
      " 0   longitude           14448 non-null  float64\n",
      " 1   latitude            14448 non-null  float64\n",
      " 2   housing_median_age  14448 non-null  float64\n",
      " 3   total_rooms         14448 non-null  float64\n",
      " 4   total_bedrooms      14311 non-null  float64\n",
      " 5   population          14448 non-null  float64\n",
      " 6   households          14448 non-null  float64\n",
      " 7   median_income       14448 non-null  float64\n",
      " 8   ocean_proximity     14448 non-null  object \n",
      " 9   median_house_value  14448 non-null  float64\n",
      "dtypes: float64(9), object(1)\n",
      "memory usage: 1.1+ MB\n"
     ]
    }
   ],
   "source": [
    "df.info()"
   ]
  },
  {
   "cell_type": "code",
   "execution_count": 170,
   "metadata": {},
   "outputs": [
    {
     "data": {
      "text/html": [
       "<div>\n",
       "<style scoped>\n",
       "    .dataframe tbody tr th:only-of-type {\n",
       "        vertical-align: middle;\n",
       "    }\n",
       "\n",
       "    .dataframe tbody tr th {\n",
       "        vertical-align: top;\n",
       "    }\n",
       "\n",
       "    .dataframe thead th {\n",
       "        text-align: right;\n",
       "    }\n",
       "</style>\n",
       "<table border=\"1\" class=\"dataframe\">\n",
       "  <thead>\n",
       "    <tr style=\"text-align: right;\">\n",
       "      <th></th>\n",
       "      <th>longitude</th>\n",
       "      <th>latitude</th>\n",
       "      <th>housing_median_age</th>\n",
       "      <th>total_rooms</th>\n",
       "      <th>total_bedrooms</th>\n",
       "      <th>population</th>\n",
       "      <th>households</th>\n",
       "      <th>median_income</th>\n",
       "      <th>median_house_value</th>\n",
       "    </tr>\n",
       "  </thead>\n",
       "  <tbody>\n",
       "    <tr>\n",
       "      <th>count</th>\n",
       "      <td>14448.000000</td>\n",
       "      <td>14448.000000</td>\n",
       "      <td>14448.000000</td>\n",
       "      <td>14448.000000</td>\n",
       "      <td>14311.000000</td>\n",
       "      <td>14448.000000</td>\n",
       "      <td>14448.000000</td>\n",
       "      <td>14448.000000</td>\n",
       "      <td>14448.000000</td>\n",
       "    </tr>\n",
       "    <tr>\n",
       "      <th>mean</th>\n",
       "      <td>-119.566647</td>\n",
       "      <td>35.630093</td>\n",
       "      <td>28.618702</td>\n",
       "      <td>2640.132683</td>\n",
       "      <td>538.260709</td>\n",
       "      <td>1425.157323</td>\n",
       "      <td>499.508929</td>\n",
       "      <td>3.866667</td>\n",
       "      <td>206824.624516</td>\n",
       "    </tr>\n",
       "    <tr>\n",
       "      <th>std</th>\n",
       "      <td>2.006587</td>\n",
       "      <td>2.140121</td>\n",
       "      <td>12.596694</td>\n",
       "      <td>2191.612441</td>\n",
       "      <td>423.577544</td>\n",
       "      <td>1149.580157</td>\n",
       "      <td>383.098390</td>\n",
       "      <td>1.891158</td>\n",
       "      <td>115365.476182</td>\n",
       "    </tr>\n",
       "    <tr>\n",
       "      <th>min</th>\n",
       "      <td>-124.350000</td>\n",
       "      <td>32.540000</td>\n",
       "      <td>1.000000</td>\n",
       "      <td>2.000000</td>\n",
       "      <td>1.000000</td>\n",
       "      <td>3.000000</td>\n",
       "      <td>1.000000</td>\n",
       "      <td>0.499900</td>\n",
       "      <td>14999.000000</td>\n",
       "    </tr>\n",
       "    <tr>\n",
       "      <th>25%</th>\n",
       "      <td>-121.800000</td>\n",
       "      <td>33.930000</td>\n",
       "      <td>18.000000</td>\n",
       "      <td>1451.000000</td>\n",
       "      <td>295.000000</td>\n",
       "      <td>784.000000</td>\n",
       "      <td>279.000000</td>\n",
       "      <td>2.570600</td>\n",
       "      <td>119600.000000</td>\n",
       "    </tr>\n",
       "    <tr>\n",
       "      <th>50%</th>\n",
       "      <td>-118.490000</td>\n",
       "      <td>34.260000</td>\n",
       "      <td>29.000000</td>\n",
       "      <td>2125.000000</td>\n",
       "      <td>435.000000</td>\n",
       "      <td>1165.000000</td>\n",
       "      <td>410.000000</td>\n",
       "      <td>3.539100</td>\n",
       "      <td>180000.000000</td>\n",
       "    </tr>\n",
       "    <tr>\n",
       "      <th>75%</th>\n",
       "      <td>-118.000000</td>\n",
       "      <td>37.710000</td>\n",
       "      <td>37.000000</td>\n",
       "      <td>3148.000000</td>\n",
       "      <td>647.000000</td>\n",
       "      <td>1724.000000</td>\n",
       "      <td>604.000000</td>\n",
       "      <td>4.736100</td>\n",
       "      <td>263900.000000</td>\n",
       "    </tr>\n",
       "    <tr>\n",
       "      <th>max</th>\n",
       "      <td>-114.310000</td>\n",
       "      <td>41.950000</td>\n",
       "      <td>52.000000</td>\n",
       "      <td>32627.000000</td>\n",
       "      <td>6445.000000</td>\n",
       "      <td>35682.000000</td>\n",
       "      <td>6082.000000</td>\n",
       "      <td>15.000100</td>\n",
       "      <td>500001.000000</td>\n",
       "    </tr>\n",
       "  </tbody>\n",
       "</table>\n",
       "</div>"
      ],
      "text/plain": [
       "          longitude      latitude  housing_median_age   total_rooms  \\\n",
       "count  14448.000000  14448.000000        14448.000000  14448.000000   \n",
       "mean    -119.566647     35.630093           28.618702   2640.132683   \n",
       "std        2.006587      2.140121           12.596694   2191.612441   \n",
       "min     -124.350000     32.540000            1.000000      2.000000   \n",
       "25%     -121.800000     33.930000           18.000000   1451.000000   \n",
       "50%     -118.490000     34.260000           29.000000   2125.000000   \n",
       "75%     -118.000000     37.710000           37.000000   3148.000000   \n",
       "max     -114.310000     41.950000           52.000000  32627.000000   \n",
       "\n",
       "       total_bedrooms    population    households  median_income  \\\n",
       "count    14311.000000  14448.000000  14448.000000   14448.000000   \n",
       "mean       538.260709   1425.157323    499.508929       3.866667   \n",
       "std        423.577544   1149.580157    383.098390       1.891158   \n",
       "min          1.000000      3.000000      1.000000       0.499900   \n",
       "25%        295.000000    784.000000    279.000000       2.570600   \n",
       "50%        435.000000   1165.000000    410.000000       3.539100   \n",
       "75%        647.000000   1724.000000    604.000000       4.736100   \n",
       "max       6445.000000  35682.000000   6082.000000      15.000100   \n",
       "\n",
       "       median_house_value  \n",
       "count        14448.000000  \n",
       "mean        206824.624516  \n",
       "std         115365.476182  \n",
       "min          14999.000000  \n",
       "25%         119600.000000  \n",
       "50%         180000.000000  \n",
       "75%         263900.000000  \n",
       "max         500001.000000  "
      ]
     },
     "execution_count": 170,
     "metadata": {},
     "output_type": "execute_result"
    }
   ],
   "source": [
    "df.describe()"
   ]
  },
  {
   "cell_type": "markdown",
   "metadata": {},
   "source": [
    "# 3. EDA"
   ]
  },
  {
   "cell_type": "code",
   "execution_count": 171,
   "metadata": {},
   "outputs": [
    {
     "data": {
      "text/plain": [
       "<1H OCEAN     6369\n",
       "INLAND        4576\n",
       "NEAR OCEAN    1879\n",
       "NEAR BAY      1622\n",
       "ISLAND           2\n",
       "Name: ocean_proximity, dtype: int64"
      ]
     },
     "execution_count": 171,
     "metadata": {},
     "output_type": "execute_result"
    },
    {
     "data": {
      "image/png": "[encoded data removed]",
      "text/plain": [
       "<Figure size 432x432 with 1 Axes>"
      ]
     },
     "metadata": {
      "needs_background": "light"
     },
     "output_type": "display_data"
    }
   ],
   "source": [
    "df['ocean_proximity'].value_counts().plot(kind='bar', figsize=(6, 6), width=0.5, color=['green','red','blue','pink','yellow'])\n",
    "plt.xlabel('ocean_proximity')\n",
    "plt.title('Pict 1. Ocean Proximity')\n",
    "plt.ylabel('Amount')\n",
    "\n",
    "df['ocean_proximity'].value_counts()\n"
   ]
  },
  {
   "cell_type": "markdown",
   "metadata": {},
   "source": [
    "Pada data ada 5 jenis rumah berdasarkan jarak daratan dengan laut, jika dilihat dari grafiknya di daerah california paling banyak rumah yang jarak ke luatnya kurang dari 1 jam, dan yang paling sedikit itu rumah di pulau. emng california ada pulau? aneh"
   ]
  },
  {
   "cell_type": "code",
   "execution_count": 172,
   "metadata": {},
   "outputs": [
    {
     "data": {
      "text/plain": [
       "Text(0.5, 1.0, 'CLF House Group Location')"
      ]
     },
     "execution_count": 172,
     "metadata": {},
     "output_type": "execute_result"
    },
    {
     "data": {
      "image/png": "[encoded data removed]",
      "text/plain": [
       "<Figure size 720x432 with 1 Axes>"
      ]
     },
     "metadata": {
      "needs_background": "light"
     },
     "output_type": "display_data"
    }
   ],
   "source": [
    "# Plot lokasi 'neighbourhood_group'\n",
    "plt.figure(figsize=(10, 6))\n",
    "sns.scatterplot(df['longitude'], df['latitude'], hue=df['ocean_proximity']).set_title('CLF House Group Location')"
   ]
  },
  {
   "cell_type": "markdown",
   "metadata": {},
   "source": [
    "Berdasarkan scatterplot dapat dilohat bahwa persebaran rumah di pedalaman (Inland) sangat besar."
   ]
  },
  {
   "cell_type": "code",
   "execution_count": 173,
   "metadata": {},
   "outputs": [
    {
     "data": {
      "text/plain": [
       "ocean_proximity\n",
       "INLAND        6375492.0\n",
       "NEAR BAY      1959837.0\n",
       "<1H OCEAN     9687368.0\n",
       "NEAR OCEAN    2566454.0\n",
       "ISLAND           1522.0\n",
       "Name: population, dtype: float64"
      ]
     },
     "execution_count": 173,
     "metadata": {},
     "output_type": "execute_result"
    }
   ],
   "source": [
    "tot_pop = df.groupby(\"ocean_proximity\", sort=False)[\"population\"].sum().round(2)\n",
    "tot_pop"
   ]
  },
  {
   "cell_type": "code",
   "execution_count": 174,
   "metadata": {},
   "outputs": [
    {
     "data": {
      "text/plain": [
       "Text(0, 0.5, 'Amount')"
      ]
     },
     "execution_count": 174,
     "metadata": {},
     "output_type": "execute_result"
    },
    {
     "data": {
      "image/png": "[encoded data removed]",
      "text/plain": [
       "<Figure size 432x432 with 1 Axes>"
      ]
     },
     "metadata": {
      "needs_background": "light"
     },
     "output_type": "display_data"
    }
   ],
   "source": [
    "tot_pop.plot(kind='bar', figsize=(6, 6), width=0.5)\n",
    "plt.xlabel('ocean_proximity')\n",
    "plt.title('Pict 1. Ocean Proximity')\n",
    "plt.ylabel('Amount')"
   ]
  },
  {
   "cell_type": "markdown",
   "metadata": {},
   "source": [
    "Jumlah populasi di < 1H Ocean pling banyak diantra lainnya, dan jumlah populasi island paling sedikit."
   ]
  },
  {
   "cell_type": "code",
   "execution_count": 175,
   "metadata": {},
   "outputs": [
    {
     "name": "stdout",
     "output_type": "stream",
     "text": [
      "Kolom housing_median_age memiliki nilai skewness: 0.0589291851805334\n"
     ]
    },
    {
     "data": {
      "image/png": "[encoded data removed]",
      "text/plain": [
       "<Figure size 504x504 with 1 Axes>"
      ]
     },
     "metadata": {
      "needs_background": "light"
     },
     "output_type": "display_data"
    }
   ],
   "source": [
    "plt.figure(figsize=(7, 7))\n",
    "sns.distplot(df['housing_median_age'])\n",
    "plt.title('Housing Median Age Plot', size=15, weight='bold');\n",
    "print('Kolom housing_median_age memiliki nilai skewness:',df['housing_median_age'].skew())"
   ]
  },
  {
   "cell_type": "markdown",
   "metadata": {},
   "source": [
    "kalo di liat dari gambar sm nilai skewnessnya kolom housing_median_age terdistribusi secara normal"
   ]
  },
  {
   "cell_type": "code",
   "execution_count": 176,
   "metadata": {},
   "outputs": [
    {
     "name": "stdout",
     "output_type": "stream",
     "text": [
      "Kolom median_house_value memiliki nilai skewness: 0.9817544310070773\n"
     ]
    },
    {
     "data": {
      "image/png": "[encoded data removed]",
      "text/plain": [
       "<Figure size 504x504 with 1 Axes>"
      ]
     },
     "metadata": {
      "needs_background": "light"
     },
     "output_type": "display_data"
    }
   ],
   "source": [
    "plt.figure(figsize=(7, 7))\n",
    "sns.distplot(df['median_house_value'])\n",
    "plt.title('Housing Median Age Plot', size=15, weight='bold');\n",
    "print('Kolom median_house_value memiliki nilai skewness:',df['median_house_value'].skew())"
   ]
  },
  {
   "cell_type": "code",
   "execution_count": 177,
   "metadata": {},
   "outputs": [],
   "source": [
    "expen_house_val= df[df['median_house_value']>499999]"
   ]
  },
  {
   "cell_type": "code",
   "execution_count": 178,
   "metadata": {},
   "outputs": [
    {
     "data": {
      "text/plain": [
       "<1H OCEAN     376\n",
       "NEAR OCEAN    153\n",
       "NEAR BAY      151\n",
       "INLAND         16\n",
       "Name: ocean_proximity, dtype: int64"
      ]
     },
     "execution_count": 178,
     "metadata": {},
     "output_type": "execute_result"
    }
   ],
   "source": [
    "expen_house_val['ocean_proximity'].value_counts()"
   ]
  },
  {
   "cell_type": "markdown",
   "metadata": {},
   "source": [
    "# Data Preprocess"
   ]
  },
  {
   "cell_type": "markdown",
   "metadata": {},
   "source": [
    "## Get The Data Inference"
   ]
  },
  {
   "cell_type": "code",
   "execution_count": 179,
   "metadata": {},
   "outputs": [],
   "source": [
    "# Make a variable for data inference\n",
    "df_inf = df.sample(100, random_state=33)"
   ]
  },
  {
   "cell_type": "code",
   "execution_count": 180,
   "metadata": {},
   "outputs": [
    {
     "data": {
      "text/html": [
       "<div>\n",
       "<style scoped>\n",
       "    .dataframe tbody tr th:only-of-type {\n",
       "        vertical-align: middle;\n",
       "    }\n",
       "\n",
       "    .dataframe tbody tr th {\n",
       "        vertical-align: top;\n",
       "    }\n",
       "\n",
       "    .dataframe thead th {\n",
       "        text-align: right;\n",
       "    }\n",
       "</style>\n",
       "<table border=\"1\" class=\"dataframe\">\n",
       "  <thead>\n",
       "    <tr style=\"text-align: right;\">\n",
       "      <th></th>\n",
       "      <th>longitude</th>\n",
       "      <th>latitude</th>\n",
       "      <th>housing_median_age</th>\n",
       "      <th>total_rooms</th>\n",
       "      <th>total_bedrooms</th>\n",
       "      <th>population</th>\n",
       "      <th>households</th>\n",
       "      <th>median_income</th>\n",
       "      <th>ocean_proximity</th>\n",
       "      <th>median_house_value</th>\n",
       "    </tr>\n",
       "  </thead>\n",
       "  <tbody>\n",
       "    <tr>\n",
       "      <th>0</th>\n",
       "      <td>-119.79</td>\n",
       "      <td>36.73</td>\n",
       "      <td>52.0</td>\n",
       "      <td>112.0</td>\n",
       "      <td>28.0</td>\n",
       "      <td>193.0</td>\n",
       "      <td>40.0</td>\n",
       "      <td>1.9750</td>\n",
       "      <td>INLAND</td>\n",
       "      <td>47500.0</td>\n",
       "    </tr>\n",
       "    <tr>\n",
       "      <th>1</th>\n",
       "      <td>-122.21</td>\n",
       "      <td>37.77</td>\n",
       "      <td>43.0</td>\n",
       "      <td>1017.0</td>\n",
       "      <td>328.0</td>\n",
       "      <td>836.0</td>\n",
       "      <td>277.0</td>\n",
       "      <td>2.2604</td>\n",
       "      <td>NEAR BAY</td>\n",
       "      <td>100000.0</td>\n",
       "    </tr>\n",
       "    <tr>\n",
       "      <th>2</th>\n",
       "      <td>-118.04</td>\n",
       "      <td>33.87</td>\n",
       "      <td>17.0</td>\n",
       "      <td>2358.0</td>\n",
       "      <td>396.0</td>\n",
       "      <td>1387.0</td>\n",
       "      <td>364.0</td>\n",
       "      <td>6.2990</td>\n",
       "      <td>&lt;1H OCEAN</td>\n",
       "      <td>285800.0</td>\n",
       "    </tr>\n",
       "    <tr>\n",
       "      <th>3</th>\n",
       "      <td>-118.28</td>\n",
       "      <td>34.06</td>\n",
       "      <td>17.0</td>\n",
       "      <td>2518.0</td>\n",
       "      <td>1196.0</td>\n",
       "      <td>3051.0</td>\n",
       "      <td>1000.0</td>\n",
       "      <td>1.7199</td>\n",
       "      <td>&lt;1H OCEAN</td>\n",
       "      <td>175000.0</td>\n",
       "    </tr>\n",
       "    <tr>\n",
       "      <th>4</th>\n",
       "      <td>-119.81</td>\n",
       "      <td>36.73</td>\n",
       "      <td>50.0</td>\n",
       "      <td>772.0</td>\n",
       "      <td>194.0</td>\n",
       "      <td>606.0</td>\n",
       "      <td>167.0</td>\n",
       "      <td>2.2206</td>\n",
       "      <td>INLAND</td>\n",
       "      <td>59200.0</td>\n",
       "    </tr>\n",
       "  </tbody>\n",
       "</table>\n",
       "</div>"
      ],
      "text/plain": [
       "   longitude  latitude  housing_median_age  total_rooms  total_bedrooms  \\\n",
       "0    -119.79     36.73                52.0        112.0            28.0   \n",
       "1    -122.21     37.77                43.0       1017.0           328.0   \n",
       "2    -118.04     33.87                17.0       2358.0           396.0   \n",
       "3    -118.28     34.06                17.0       2518.0          1196.0   \n",
       "4    -119.81     36.73                50.0        772.0           194.0   \n",
       "\n",
       "   population  households  median_income ocean_proximity  median_house_value  \n",
       "0       193.0        40.0         1.9750          INLAND             47500.0  \n",
       "1       836.0       277.0         2.2604        NEAR BAY            100000.0  \n",
       "2      1387.0       364.0         6.2990       <1H OCEAN            285800.0  \n",
       "3      3051.0      1000.0         1.7199       <1H OCEAN            175000.0  \n",
       "4       606.0       167.0         2.2206          INLAND             59200.0  "
      ]
     },
     "execution_count": 180,
     "metadata": {},
     "output_type": "execute_result"
    }
   ],
   "source": [
    "# Move out the data inference from the all data set\n",
    "df_train_test = df.drop(df_inf.index)\n",
    "df_train_test.head()"
   ]
  },
  {
   "cell_type": "code",
   "execution_count": 181,
   "metadata": {},
   "outputs": [],
   "source": [
    "# Reset index number from data inference and data set\n",
    "df_train_test.reset_index(drop=True, inplace=True) \n",
    "df_inf.reset_index(drop=True, inplace=True)"
   ]
  },
  {
   "cell_type": "markdown",
   "metadata": {},
   "source": [
    "## Split the Data"
   ]
  },
  {
   "cell_type": "code",
   "execution_count": 182,
   "metadata": {},
   "outputs": [],
   "source": [
    "# Move out the target from the data set\n",
    "X = df_train_test.drop(['median_house_value'], axis=1)\n",
    "y = df_train_test['median_house_value']"
   ]
  },
  {
   "cell_type": "code",
   "execution_count": 183,
   "metadata": {},
   "outputs": [
    {
     "name": "stdout",
     "output_type": "stream",
     "text": [
      "(11478, 9)\n",
      "(2870, 9)\n"
     ]
    }
   ],
   "source": [
    "X_train, X_test, y_train, y_test = train_test_split(X, y, test_size=0.20, random_state=33)\n",
    "print(X_train.shape)\n",
    "print(X_test.shape)"
   ]
  },
  {
   "cell_type": "markdown",
   "metadata": {},
   "source": [
    "## Feature Selection"
   ]
  },
  {
   "cell_type": "code",
   "execution_count": 184,
   "metadata": {},
   "outputs": [
    {
     "data": {
      "text/html": [
       "<div>\n",
       "<style scoped>\n",
       "    .dataframe tbody tr th:only-of-type {\n",
       "        vertical-align: middle;\n",
       "    }\n",
       "\n",
       "    .dataframe tbody tr th {\n",
       "        vertical-align: top;\n",
       "    }\n",
       "\n",
       "    .dataframe thead th {\n",
       "        text-align: right;\n",
       "    }\n",
       "</style>\n",
       "<table border=\"1\" class=\"dataframe\">\n",
       "  <thead>\n",
       "    <tr style=\"text-align: right;\">\n",
       "      <th></th>\n",
       "      <th>longitude</th>\n",
       "      <th>latitude</th>\n",
       "      <th>housing_median_age</th>\n",
       "      <th>total_rooms</th>\n",
       "      <th>total_bedrooms</th>\n",
       "      <th>population</th>\n",
       "      <th>households</th>\n",
       "      <th>median_income</th>\n",
       "      <th>median_house_value</th>\n",
       "    </tr>\n",
       "  </thead>\n",
       "  <tbody>\n",
       "    <tr>\n",
       "      <th>longitude</th>\n",
       "      <td>1.000000</td>\n",
       "      <td>-0.925158</td>\n",
       "      <td>-0.117501</td>\n",
       "      <td>0.057288</td>\n",
       "      <td>0.079528</td>\n",
       "      <td>0.108161</td>\n",
       "      <td>0.064218</td>\n",
       "      <td>-0.010093</td>\n",
       "      <td>-0.045777</td>\n",
       "    </tr>\n",
       "    <tr>\n",
       "      <th>latitude</th>\n",
       "      <td>-0.925158</td>\n",
       "      <td>1.000000</td>\n",
       "      <td>0.020830</td>\n",
       "      <td>-0.048514</td>\n",
       "      <td>-0.076796</td>\n",
       "      <td>-0.117704</td>\n",
       "      <td>-0.080046</td>\n",
       "      <td>-0.085176</td>\n",
       "      <td>-0.143957</td>\n",
       "    </tr>\n",
       "    <tr>\n",
       "      <th>housing_median_age</th>\n",
       "      <td>-0.117501</td>\n",
       "      <td>0.020830</td>\n",
       "      <td>1.000000</td>\n",
       "      <td>-0.367868</td>\n",
       "      <td>-0.329448</td>\n",
       "      <td>-0.299736</td>\n",
       "      <td>-0.312394</td>\n",
       "      <td>-0.120396</td>\n",
       "      <td>0.103863</td>\n",
       "    </tr>\n",
       "    <tr>\n",
       "      <th>total_rooms</th>\n",
       "      <td>0.057288</td>\n",
       "      <td>-0.048514</td>\n",
       "      <td>-0.367868</td>\n",
       "      <td>1.000000</td>\n",
       "      <td>0.931993</td>\n",
       "      <td>0.853460</td>\n",
       "      <td>0.919292</td>\n",
       "      <td>0.199549</td>\n",
       "      <td>0.131972</td>\n",
       "    </tr>\n",
       "    <tr>\n",
       "      <th>total_bedrooms</th>\n",
       "      <td>0.079528</td>\n",
       "      <td>-0.076796</td>\n",
       "      <td>-0.329448</td>\n",
       "      <td>0.931993</td>\n",
       "      <td>1.000000</td>\n",
       "      <td>0.874618</td>\n",
       "      <td>0.978561</td>\n",
       "      <td>-0.004160</td>\n",
       "      <td>0.045915</td>\n",
       "    </tr>\n",
       "    <tr>\n",
       "      <th>population</th>\n",
       "      <td>0.108161</td>\n",
       "      <td>-0.117704</td>\n",
       "      <td>-0.299736</td>\n",
       "      <td>0.853460</td>\n",
       "      <td>0.874618</td>\n",
       "      <td>1.000000</td>\n",
       "      <td>0.905061</td>\n",
       "      <td>0.006284</td>\n",
       "      <td>-0.026183</td>\n",
       "    </tr>\n",
       "    <tr>\n",
       "      <th>households</th>\n",
       "      <td>0.064218</td>\n",
       "      <td>-0.080046</td>\n",
       "      <td>-0.312394</td>\n",
       "      <td>0.919292</td>\n",
       "      <td>0.978561</td>\n",
       "      <td>0.905061</td>\n",
       "      <td>1.000000</td>\n",
       "      <td>0.016365</td>\n",
       "      <td>0.061581</td>\n",
       "    </tr>\n",
       "    <tr>\n",
       "      <th>median_income</th>\n",
       "      <td>-0.010093</td>\n",
       "      <td>-0.085176</td>\n",
       "      <td>-0.120396</td>\n",
       "      <td>0.199549</td>\n",
       "      <td>-0.004160</td>\n",
       "      <td>0.006284</td>\n",
       "      <td>0.016365</td>\n",
       "      <td>1.000000</td>\n",
       "      <td>0.693273</td>\n",
       "    </tr>\n",
       "    <tr>\n",
       "      <th>median_house_value</th>\n",
       "      <td>-0.045777</td>\n",
       "      <td>-0.143957</td>\n",
       "      <td>0.103863</td>\n",
       "      <td>0.131972</td>\n",
       "      <td>0.045915</td>\n",
       "      <td>-0.026183</td>\n",
       "      <td>0.061581</td>\n",
       "      <td>0.693273</td>\n",
       "      <td>1.000000</td>\n",
       "    </tr>\n",
       "  </tbody>\n",
       "</table>\n",
       "</div>"
      ],
      "text/plain": [
       "                    longitude  latitude  housing_median_age  total_rooms  \\\n",
       "longitude            1.000000 -0.925158           -0.117501     0.057288   \n",
       "latitude            -0.925158  1.000000            0.020830    -0.048514   \n",
       "housing_median_age  -0.117501  0.020830            1.000000    -0.367868   \n",
       "total_rooms          0.057288 -0.048514           -0.367868     1.000000   \n",
       "total_bedrooms       0.079528 -0.076796           -0.329448     0.931993   \n",
       "population           0.108161 -0.117704           -0.299736     0.853460   \n",
       "households           0.064218 -0.080046           -0.312394     0.919292   \n",
       "median_income       -0.010093 -0.085176           -0.120396     0.199549   \n",
       "median_house_value  -0.045777 -0.143957            0.103863     0.131972   \n",
       "\n",
       "                    total_bedrooms  population  households  median_income  \\\n",
       "longitude                 0.079528    0.108161    0.064218      -0.010093   \n",
       "latitude                 -0.076796   -0.117704   -0.080046      -0.085176   \n",
       "housing_median_age       -0.329448   -0.299736   -0.312394      -0.120396   \n",
       "total_rooms               0.931993    0.853460    0.919292       0.199549   \n",
       "total_bedrooms            1.000000    0.874618    0.978561      -0.004160   \n",
       "population                0.874618    1.000000    0.905061       0.006284   \n",
       "households                0.978561    0.905061    1.000000       0.016365   \n",
       "median_income            -0.004160    0.006284    0.016365       1.000000   \n",
       "median_house_value        0.045915   -0.026183    0.061581       0.693273   \n",
       "\n",
       "                    median_house_value  \n",
       "longitude                    -0.045777  \n",
       "latitude                     -0.143957  \n",
       "housing_median_age            0.103863  \n",
       "total_rooms                   0.131972  \n",
       "total_bedrooms                0.045915  \n",
       "population                   -0.026183  \n",
       "households                    0.061581  \n",
       "median_income                 0.693273  \n",
       "median_house_value            1.000000  "
      ]
     },
     "execution_count": 184,
     "metadata": {},
     "output_type": "execute_result"
    }
   ],
   "source": [
    "df.corr()"
   ]
  },
  {
   "cell_type": "markdown",
   "metadata": {},
   "source": [
    "Based on correlation the median income give "
   ]
  },
  {
   "cell_type": "markdown",
   "metadata": {},
   "source": [
    "## Outliers Handling"
   ]
  },
  {
   "cell_type": "code",
   "execution_count": 185,
   "metadata": {},
   "outputs": [
    {
     "data": {
      "text/html": [
       "<div>\n",
       "<style scoped>\n",
       "    .dataframe tbody tr th:only-of-type {\n",
       "        vertical-align: middle;\n",
       "    }\n",
       "\n",
       "    .dataframe tbody tr th {\n",
       "        vertical-align: top;\n",
       "    }\n",
       "\n",
       "    .dataframe thead th {\n",
       "        text-align: right;\n",
       "    }\n",
       "</style>\n",
       "<table border=\"1\" class=\"dataframe\">\n",
       "  <thead>\n",
       "    <tr style=\"text-align: right;\">\n",
       "      <th></th>\n",
       "      <th>columns</th>\n",
       "      <th>skew</th>\n",
       "      <th>distribution</th>\n",
       "    </tr>\n",
       "  </thead>\n",
       "  <tbody>\n",
       "    <tr>\n",
       "      <th>0</th>\n",
       "      <td>longitude</td>\n",
       "      <td>-0.302204</td>\n",
       "      <td>Normal</td>\n",
       "    </tr>\n",
       "    <tr>\n",
       "      <th>1</th>\n",
       "      <td>latitude</td>\n",
       "      <td>0.470076</td>\n",
       "      <td>Normal</td>\n",
       "    </tr>\n",
       "    <tr>\n",
       "      <th>2</th>\n",
       "      <td>housing_median_age</td>\n",
       "      <td>0.057010</td>\n",
       "      <td>Normal</td>\n",
       "    </tr>\n",
       "    <tr>\n",
       "      <th>3</th>\n",
       "      <td>total_rooms</td>\n",
       "      <td>3.930220</td>\n",
       "      <td>Skew</td>\n",
       "    </tr>\n",
       "    <tr>\n",
       "      <th>4</th>\n",
       "      <td>total_bedrooms</td>\n",
       "      <td>3.339489</td>\n",
       "      <td>Skew</td>\n",
       "    </tr>\n",
       "    <tr>\n",
       "      <th>5</th>\n",
       "      <td>population</td>\n",
       "      <td>5.928408</td>\n",
       "      <td>Skew</td>\n",
       "    </tr>\n",
       "    <tr>\n",
       "      <th>6</th>\n",
       "      <td>households</td>\n",
       "      <td>3.258300</td>\n",
       "      <td>Skew</td>\n",
       "    </tr>\n",
       "    <tr>\n",
       "      <th>7</th>\n",
       "      <td>median_income</td>\n",
       "      <td>1.674004</td>\n",
       "      <td>Skew</td>\n",
       "    </tr>\n",
       "  </tbody>\n",
       "</table>\n",
       "</div>"
      ],
      "text/plain": [
       "              columns      skew distribution\n",
       "0           longitude -0.302204       Normal\n",
       "1            latitude  0.470076       Normal\n",
       "2  housing_median_age  0.057010       Normal\n",
       "3         total_rooms  3.930220         Skew\n",
       "4      total_bedrooms  3.339489         Skew\n",
       "5          population  5.928408         Skew\n",
       "6          households  3.258300         Skew\n",
       "7       median_income  1.674004         Skew"
      ]
     },
     "execution_count": 185,
     "metadata": {},
     "output_type": "execute_result"
    }
   ],
   "source": [
    "X_train_distr = pd.DataFrame({'columns':X_train.describe().columns, 'skew' : X_train.skew(axis=0)})\n",
    "X_train_distr.reset_index(drop=True, inplace=True)\n",
    "X_train_distr['distribution'] = np.where((X_train_distr['skew'] < 0.5) & (X_train_distr['skew'] > - 0.5) , 'Normal', 'Skew')\n",
    "X_train_distr"
   ]
  },
  {
   "cell_type": "code",
   "execution_count": 186,
   "metadata": {},
   "outputs": [],
   "source": [
    "def find_normal_boundaries(df, variable):\n",
    "    upper_boundary = df[variable].mean() + 3 * df[variable].std()\n",
    "    lower_boundary = df[variable].mean() - 3 * df[variable].std()\n",
    "\n",
    "    return upper_boundary, lower_boundary\n",
    "\n",
    "def find_skewed_boundaries(df, variable, distance):\n",
    "    IQR = df[variable].quantile(0.75) - df[variable].quantile(0.25)\n",
    "\n",
    "    lower = df[variable].quantile(0.25) - distance * IQR\n",
    "    upper = df[variable].quantile(0.75) + distance * IQR\n",
    "\n",
    "    return upper, lower"
   ]
  },
  {
   "cell_type": "code",
   "execution_count": 187,
   "metadata": {},
   "outputs": [
    {
     "name": "stdout",
     "output_type": "stream",
     "text": [
      "Boundary Lower and Upper longitude:(-125.58043050411993, -113.53819294944333)\n",
      "==============================\n",
      "Boundary Lower and Upper latitude:(29.20747133312791, 42.04445757434692)\n",
      "==============================\n",
      "Boundary Lower and Upper housing_median_age:(-9.401009765390356, 66.61289336880559)\n",
      "==============================\n",
      "Batas lower dan upper untuk total_rooms:(-1127.625, 5735.375)\n",
      "==============================\n",
      "Batas lower dan upper untuk total_bedrooms:(-234.5, 1177.5)\n",
      "==============================\n",
      "Batas lower dan upper untuk population:(-633.5, 3138.5)\n",
      "==============================\n",
      "Batas lower dan upper untuk households:(-214.0, 1098.0)\n",
      "==============================\n",
      "Batas lower dan upper untuk median_income:(-0.6667375000000004, 7.9573625)\n",
      "==============================\n"
     ]
    }
   ],
   "source": [
    "j = 0\n",
    "outliers={}\n",
    "for i in X_train.describe().columns:\n",
    "    if X_train_distr['distribution'].loc[(X_train_distr['columns']==i)].values[0]== 'Normal':\n",
    "        upper_boundary, lower_boundary = find_normal_boundaries(X_train, i)\n",
    "        print(f\"Boundary Lower and Upper {i}:{lower_boundary, upper_boundary}\")\n",
    "        outliers[f\"outliers{j}\"] = np.where(X_train[i] > upper_boundary, True, np.where(X_train[i] < lower_boundary, True, False))\n",
    "    else:\n",
    "        upper_boundary, lower_boundary = find_skewed_boundaries(X_train, i, 1.5)\n",
    "        print(f\"Batas lower dan upper untuk {i}:{lower_boundary, upper_boundary}\")\n",
    "        outliers[f\"outliers{j}\"] = np.where(X_train[i] > upper_boundary, True, np.where(X_train[i] < lower_boundary, True, False))\n",
    "    print(\"=\"*30)\n",
    "    j+=1"
   ]
  },
  {
   "cell_type": "code",
   "execution_count": 188,
   "metadata": {},
   "outputs": [
    {
     "data": {
      "text/html": [
       "<div>\n",
       "<style scoped>\n",
       "    .dataframe tbody tr th:only-of-type {\n",
       "        vertical-align: middle;\n",
       "    }\n",
       "\n",
       "    .dataframe tbody tr th {\n",
       "        vertical-align: top;\n",
       "    }\n",
       "\n",
       "    .dataframe thead th {\n",
       "        text-align: right;\n",
       "    }\n",
       "</style>\n",
       "<table border=\"1\" class=\"dataframe\">\n",
       "  <thead>\n",
       "    <tr style=\"text-align: right;\">\n",
       "      <th></th>\n",
       "      <th>columns</th>\n",
       "      <th>skew</th>\n",
       "      <th>distribution</th>\n",
       "      <th>trimmed_row</th>\n",
       "      <th>percentage</th>\n",
       "      <th>action</th>\n",
       "    </tr>\n",
       "  </thead>\n",
       "  <tbody>\n",
       "    <tr>\n",
       "      <th>0</th>\n",
       "      <td>longitude</td>\n",
       "      <td>-0.302204</td>\n",
       "      <td>Normal</td>\n",
       "      <td>0.0</td>\n",
       "      <td>0.00</td>\n",
       "      <td>No Action</td>\n",
       "    </tr>\n",
       "    <tr>\n",
       "      <th>1</th>\n",
       "      <td>latitude</td>\n",
       "      <td>0.470076</td>\n",
       "      <td>Normal</td>\n",
       "      <td>0.0</td>\n",
       "      <td>0.00</td>\n",
       "      <td>No Action</td>\n",
       "    </tr>\n",
       "    <tr>\n",
       "      <th>2</th>\n",
       "      <td>housing_median_age</td>\n",
       "      <td>0.057010</td>\n",
       "      <td>Normal</td>\n",
       "      <td>0.0</td>\n",
       "      <td>0.00</td>\n",
       "      <td>No Action</td>\n",
       "    </tr>\n",
       "    <tr>\n",
       "      <th>3</th>\n",
       "      <td>total_rooms</td>\n",
       "      <td>3.930220</td>\n",
       "      <td>Skew</td>\n",
       "      <td>715.0</td>\n",
       "      <td>6.23</td>\n",
       "      <td>Capping/Windsorizer</td>\n",
       "    </tr>\n",
       "    <tr>\n",
       "      <th>4</th>\n",
       "      <td>total_bedrooms</td>\n",
       "      <td>3.339489</td>\n",
       "      <td>Skew</td>\n",
       "      <td>702.0</td>\n",
       "      <td>6.12</td>\n",
       "      <td>Capping/Windsorizer</td>\n",
       "    </tr>\n",
       "    <tr>\n",
       "      <th>5</th>\n",
       "      <td>population</td>\n",
       "      <td>5.928408</td>\n",
       "      <td>Skew</td>\n",
       "      <td>639.0</td>\n",
       "      <td>5.57</td>\n",
       "      <td>Capping/Windsorizer</td>\n",
       "    </tr>\n",
       "    <tr>\n",
       "      <th>6</th>\n",
       "      <td>households</td>\n",
       "      <td>3.258300</td>\n",
       "      <td>Skew</td>\n",
       "      <td>654.0</td>\n",
       "      <td>5.70</td>\n",
       "      <td>Capping/Windsorizer</td>\n",
       "    </tr>\n",
       "    <tr>\n",
       "      <th>7</th>\n",
       "      <td>median_income</td>\n",
       "      <td>1.674004</td>\n",
       "      <td>Skew</td>\n",
       "      <td>388.0</td>\n",
       "      <td>3.38</td>\n",
       "      <td>Trimming</td>\n",
       "    </tr>\n",
       "  </tbody>\n",
       "</table>\n",
       "</div>"
      ],
      "text/plain": [
       "              columns      skew distribution  trimmed_row  percentage  \\\n",
       "0           longitude -0.302204       Normal          0.0        0.00   \n",
       "1            latitude  0.470076       Normal          0.0        0.00   \n",
       "2  housing_median_age  0.057010       Normal          0.0        0.00   \n",
       "3         total_rooms  3.930220         Skew        715.0        6.23   \n",
       "4      total_bedrooms  3.339489         Skew        702.0        6.12   \n",
       "5          population  5.928408         Skew        639.0        5.57   \n",
       "6          households  3.258300         Skew        654.0        5.70   \n",
       "7       median_income  1.674004         Skew        388.0        3.38   \n",
       "\n",
       "                action  \n",
       "0            No Action  \n",
       "1            No Action  \n",
       "2            No Action  \n",
       "3  Capping/Windsorizer  \n",
       "4  Capping/Windsorizer  \n",
       "5  Capping/Windsorizer  \n",
       "6  Capping/Windsorizer  \n",
       "7             Trimming  "
      ]
     },
     "execution_count": 188,
     "metadata": {},
     "output_type": "execute_result"
    }
   ],
   "source": [
    "for i, (k, v) in enumerate(outliers.items()):\n",
    "    X_train_distr_handling= X_train.loc[~outliers[k]]\n",
    "    X_train_distr.loc[i,'trimmed_row'] = X_train.shape[0] - X_train_distr_handling.shape[0]\n",
    "    X_train_distr.loc[i,'percentage'] = np.round(100-(X_train_distr_handling.shape[0]/X_train.shape[0]*100), 2)\n",
    "    X_train_distr.loc[i,'action'] = np.where(X_train_distr.loc[i,'percentage']==0, 'No Action', \n",
    "                                        np.where(X_train_distr.loc[i,'percentage']>5, 'Capping/Windsorizer', 'Trimming'))\n",
    "\n",
    "X_train_distr"
   ]
  },
  {
   "cell_type": "code",
   "execution_count": 189,
   "metadata": {},
   "outputs": [],
   "source": [
    "outliers_tot = outliers['outliers2']\n",
    "for i, (k, v) in enumerate(outliers.items()):\n",
    "    if i in [7]:\n",
    "        outliers_tot += outliers[k]"
   ]
  },
  {
   "cell_type": "code",
   "execution_count": 190,
   "metadata": {},
   "outputs": [
    {
     "name": "stdout",
     "output_type": "stream",
     "text": [
      "Jumlah baris pada X_train SEBELUM di Trimming: 11478\n",
      "Jumlah baris pada X_train SETELAH di Trimming: 11090\n",
      "% Outlier dari Keseluruhan Data: 3.38%\n"
     ]
    }
   ],
   "source": [
    "X_train_trimmed = X_train.loc[~outliers_tot]\n",
    "y_train_trimmed = y_train.loc[~outliers_tot]\n",
    "\n",
    "print(f\"Jumlah baris pada X_train SEBELUM di Trimming: {X_train.shape[0]}\")\n",
    "print(f\"Jumlah baris pada X_train SETELAH di Trimming: {X_train_trimmed.shape[0]}\")\n",
    "print(f\"% Outlier dari Keseluruhan Data: {100-(X_train_trimmed.shape[0]/X_train.shape[0]*100):.2f}%\")"
   ]
  },
  {
   "cell_type": "code",
   "execution_count": 191,
   "metadata": {},
   "outputs": [],
   "source": [
    "def diagnostic_plots(df, variable):\n",
    "    # Define figure size\n",
    "    plt.figure(figsize=(16, 4))\n",
    "\n",
    "    # Histogram\n",
    "    plt.subplot(1, 2, 1)\n",
    "    sns.histplot(df[variable], bins=30)\n",
    "    plt.title('Histogram')\n",
    "\n",
    "    # Boxplot\n",
    "    plt.subplot(1, 2, 2)\n",
    "    sns.boxplot(y=df[variable])\n",
    "    plt.title('Boxplot')\n",
    "\n",
    "    plt.show()"
   ]
  },
  {
   "cell_type": "code",
   "execution_count": 192,
   "metadata": {},
   "outputs": [
    {
     "name": "stdout",
     "output_type": "stream",
     "text": [
      "median_income - Before Trimming\n"
     ]
    },
    {
     "data": {
      "image/png": "[encoded data removed]",
      "text/plain": [
       "<Figure size 1152x288 with 2 Axes>"
      ]
     },
     "metadata": {
      "needs_background": "light"
     },
     "output_type": "display_data"
    },
    {
     "name": "stdout",
     "output_type": "stream",
     "text": [
      "\n",
      "median_income - After Trimming\n"
     ]
    },
    {
     "data": {
      "image/png": "[encoded data removed]",
      "text/plain": [
       "<Figure size 1152x288 with 2 Axes>"
      ]
     },
     "metadata": {
      "needs_background": "light"
     },
     "output_type": "display_data"
    }
   ],
   "source": [
    "print('median_income - Before Trimming')\n",
    "diagnostic_plots(X_train, 'median_income')\n",
    "print('\\nmedian_income - After Trimming')\n",
    "diagnostic_plots(X_train_trimmed, 'median_income')"
   ]
  },
  {
   "cell_type": "markdown",
   "metadata": {},
   "source": [
    "## Missing value Handling"
   ]
  },
  {
   "cell_type": "code",
   "execution_count": 193,
   "metadata": {},
   "outputs": [
    {
     "data": {
      "text/plain": [
       "longitude               0\n",
       "latitude                0\n",
       "housing_median_age      0\n",
       "total_rooms             0\n",
       "total_bedrooms        105\n",
       "population              0\n",
       "households              0\n",
       "median_income           0\n",
       "ocean_proximity         0\n",
       "dtype: int64"
      ]
     },
     "execution_count": 193,
     "metadata": {},
     "output_type": "execute_result"
    }
   ],
   "source": [
    "X_train_trimmed.isna().sum()"
   ]
  },
  {
   "cell_type": "code",
   "execution_count": 194,
   "metadata": {},
   "outputs": [
    {
     "data": {
      "text/plain": [
       "longitude              0\n",
       "latitude               0\n",
       "housing_median_age     0\n",
       "total_rooms            0\n",
       "total_bedrooms        26\n",
       "population             0\n",
       "households             0\n",
       "median_income          0\n",
       "ocean_proximity        0\n",
       "dtype: int64"
      ]
     },
     "execution_count": 194,
     "metadata": {},
     "output_type": "execute_result"
    }
   ],
   "source": [
    "X_test.isna().sum()"
   ]
  },
  {
   "cell_type": "code",
   "execution_count": 195,
   "metadata": {},
   "outputs": [
    {
     "data": {
      "text/plain": [
       "3.319279849230474"
      ]
     },
     "execution_count": 195,
     "metadata": {},
     "output_type": "execute_result"
    }
   ],
   "source": [
    "X_train_trimmed['total_bedrooms'].skew()"
   ]
  },
  {
   "cell_type": "code",
   "execution_count": 196,
   "metadata": {},
   "outputs": [],
   "source": [
    "X_train_trimmed['total_bedrooms'].fillna(X_train_trimmed['total_bedrooms'].median(), inplace=True)\n",
    "X_test['total_bedrooms'].fillna(X_train_trimmed['total_bedrooms'].median(), inplace=True)"
   ]
  },
  {
   "cell_type": "markdown",
   "metadata": {},
   "source": [
    "## Splitting Columns (Numerical Columns and Categorical Columns)"
   ]
  },
  {
   "cell_type": "code",
   "execution_count": 197,
   "metadata": {},
   "outputs": [
    {
     "name": "stdout",
     "output_type": "stream",
     "text": [
      "Numeric Columns :  ['longitude', 'latitude', 'housing_median_age', 'total_rooms', 'total_bedrooms', 'population', 'households', 'median_income']\n",
      "Categorical Columns :  ['ocean_proximity']\n"
     ]
    }
   ],
   "source": [
    "# Get Numerical and Categorical Columns\n",
    "\n",
    "num_columns = X_train_trimmed.select_dtypes(include=np.number).columns.tolist()\n",
    "cat_columns = X_train_trimmed.select_dtypes(include=['object']).columns.tolist()\n",
    "\n",
    "print('Numeric Columns : ', num_columns)\n",
    "print('Categorical Columns : ', cat_columns)"
   ]
  },
  {
   "cell_type": "code",
   "execution_count": 198,
   "metadata": {},
   "outputs": [],
   "source": [
    "# Split on X_train\n",
    "\n",
    "X_train_trimmed_num = X_train_trimmed[num_columns]\n",
    "X_train_trimmed_cat = X_train_trimmed[cat_columns]\n",
    "\n",
    "# Split on X_test\n",
    "\n",
    "X_test_num = X_test[num_columns]\n",
    "X_test_cat = X_test[cat_columns]"
   ]
  },
  {
   "cell_type": "code",
   "execution_count": 199,
   "metadata": {},
   "outputs": [],
   "source": [
    "# Feature Scaling\n",
    "\n",
    "from sklearn.preprocessing import StandardScaler\n",
    "\n",
    "scaler = StandardScaler()\n",
    "X_train_trimmed_num_scaled = scaler.fit_transform(X_train_trimmed_num)\n",
    "X_test_num_scaled = scaler.transform(X_test_num)"
   ]
  },
  {
   "cell_type": "code",
   "execution_count": 200,
   "metadata": {},
   "outputs": [],
   "source": [
    "from sklearn.preprocessing import OneHotEncoder\n",
    "\n",
    "encoder = OneHotEncoder()\n",
    "X_train_trimmed_cat_encoded = encoder.fit_transform(X_train_trimmed_cat)\n",
    "X_test_cat_encoded = encoder.transform(X_test_cat)"
   ]
  },
  {
   "cell_type": "code",
   "execution_count": 201,
   "metadata": {},
   "outputs": [],
   "source": [
    "# Untuk model yang memerlukan scaler\n",
    "X_train_final = np.concatenate([X_train_trimmed_num_scaled, X_train_trimmed_cat_encoded.toarray()], axis=1)\n",
    "X_test_final = np.concatenate([X_test_num_scaled, X_test_cat_encoded.toarray()], axis=1)"
   ]
  },
  {
   "cell_type": "markdown",
   "metadata": {},
   "source": [
    "# Modeling"
   ]
  },
  {
   "cell_type": "code",
   "execution_count": 202,
   "metadata": {},
   "outputs": [],
   "source": [
    "lr = LinearRegression()\n",
    "knn = KNeighborsRegressor()\n",
    "dt = DecisionTreeRegressor(random_state=1)\n",
    "rf = RandomForestRegressor(random_state=1)\n",
    "xgb = XGBRegressor(random_state=1)"
   ]
  },
  {
   "cell_type": "code",
   "execution_count": 203,
   "metadata": {},
   "outputs": [
    {
     "data": {
      "text/plain": [
       "(11090, 13)"
      ]
     },
     "execution_count": 203,
     "metadata": {},
     "output_type": "execute_result"
    }
   ],
   "source": [
    "X_train_final.shape"
   ]
  },
  {
   "cell_type": "code",
   "execution_count": 204,
   "metadata": {},
   "outputs": [
    {
     "data": {
      "text/plain": [
       "(11478,)"
      ]
     },
     "execution_count": 204,
     "metadata": {},
     "output_type": "execute_result"
    }
   ],
   "source": [
    "y_train.shape"
   ]
  },
  {
   "cell_type": "code",
   "execution_count": 205,
   "metadata": {},
   "outputs": [
    {
     "name": "stdout",
     "output_type": "stream",
     "text": [
      "4.63 ms ± 129 µs per loop (mean ± std. dev. of 7 runs, 100 loops each)\n",
      "7.31 ms ± 19.1 µs per loop (mean ± std. dev. of 7 runs, 100 loops each)\n",
      "76.5 ms ± 85.7 µs per loop (mean ± std. dev. of 7 runs, 10 loops each)\n",
      "4.75 s ± 35 ms per loop (mean ± std. dev. of 7 runs, 1 loop each)\n",
      "1 s ± 89.4 ms per loop (mean ± std. dev. of 7 runs, 1 loop each)\n"
     ]
    }
   ],
   "source": [
    "%timeit lr.fit(X_train_final, y_train_trimmed)\n",
    "%timeit knn.fit(X_train_final, y_train_trimmed)\n",
    "%timeit dt.fit(X_train_final, y_train_trimmed)\n",
    "%timeit rf.fit(X_train_final, y_train_trimmed)\n",
    "%timeit xgb.fit(X_train_final, y_train_trimmed)"
   ]
  },
  {
   "cell_type": "code",
   "execution_count": 206,
   "metadata": {},
   "outputs": [
    {
     "name": "stdout",
     "output_type": "stream",
     "text": [
      "----Training Set----\n",
      "Training Score: 0.59\n",
      "Training Mean Absolute Error (MAE): 49121.63033061556\n",
      "----Testing Set----\n",
      "Validation Score: 0.62\n",
      "Validation Mean Absolute Error (MAE): 51185.14649701923\n",
      "CPU times: user 9.26 ms, sys: 6.04 ms, total: 15.3 ms\n",
      "Wall time: 4.59 ms\n"
     ]
    }
   ],
   "source": [
    "%%time\n",
    "print('----Training Set----')\n",
    "print(f'Training Score: {lr.score(X_train_final, y_train_trimmed):.2f}')\n",
    "print(f'Training Mean Absolute Error (MAE): {mean_absolute_error(y_train_trimmed, lr.predict(X_train_final))}')\n",
    "print('----Testing Set----')\n",
    "print(f'Validation Score: {lr.score(X_test_final, y_test):.2f}')\n",
    "print(f'Validation Mean Absolute Error (MAE): {mean_absolute_error(y_test, lr.predict(X_test_final))}')"
   ]
  },
  {
   "cell_type": "code",
   "execution_count": 207,
   "metadata": {},
   "outputs": [
    {
     "name": "stdout",
     "output_type": "stream",
     "text": [
      "----Training Set----\n",
      "Training Score: 0.78\n",
      "Training Mean Absolute Error (MAE): 33831.60248872858\n",
      "----Testing Set----\n",
      "Validation Score: 0.68\n",
      "Validation Mean Absolute Error (MAE): 43815.412961672475\n",
      "CPU times: user 1.01 s, sys: 205 ms, total: 1.22 s\n",
      "Wall time: 664 ms\n"
     ]
    }
   ],
   "source": [
    "%%time\n",
    "print('----Training Set----')\n",
    "print(f'Training Score: {knn.score(X_train_final, y_train_trimmed):.2f}')\n",
    "print(f'Training Mean Absolute Error (MAE): {mean_absolute_error(y_train_trimmed, knn.predict(X_train_final))}')\n",
    "print('----Testing Set----')\n",
    "print(f'Validation Score: {knn.score(X_test_final, y_test):.2f}')\n",
    "print(f'Validation Mean Absolute Error (MAE): {mean_absolute_error(y_test, knn.predict(X_test_final))}')"
   ]
  },
  {
   "cell_type": "code",
   "execution_count": 208,
   "metadata": {},
   "outputs": [
    {
     "name": "stdout",
     "output_type": "stream",
     "text": [
      "----Training Set----\n",
      "Training Score: 1.00\n",
      "Training Mean Absolute Error (MAE): 0.0\n",
      "----Testing Set----\n",
      "Validation Score: 0.60\n",
      "Validation Mean Absolute Error (MAE): 46143.008362369335\n",
      "CPU times: user 7.54 ms, sys: 1.49 ms, total: 9.02 ms\n",
      "Wall time: 8.77 ms\n"
     ]
    }
   ],
   "source": [
    "%%time\n",
    "print('----Training Set----')\n",
    "print(f'Training Score: {dt.score(X_train_final, y_train_trimmed):.2f}')\n",
    "print(f'Training Mean Absolute Error (MAE): {mean_absolute_error(y_train_trimmed, dt.predict(X_train_final))}')\n",
    "print('----Testing Set----')\n",
    "print(f'Validation Score: {dt.score(X_test_final, y_test):.2f}')\n",
    "print(f'Validation Mean Absolute Error (MAE): {mean_absolute_error(y_test, dt.predict(X_test_final))}')"
   ]
  },
  {
   "cell_type": "code",
   "execution_count": 209,
   "metadata": {},
   "outputs": [
    {
     "name": "stdout",
     "output_type": "stream",
     "text": [
      "----Training Set----\n",
      "Training Score: 0.97\n",
      "Training Mean Absolute Error (MAE): 12320.645972948603\n",
      "----Testing Set----\n",
      "Validation Score: 0.78\n",
      "Validation Mean Absolute Error (MAE): 35123.22231358885\n",
      "CPU times: user 460 ms, sys: 5.36 ms, total: 466 ms\n",
      "Wall time: 464 ms\n"
     ]
    }
   ],
   "source": [
    "%%time\n",
    "print('----Training Set----')\n",
    "print(f'Training Score: {rf.score(X_train_final, y_train_trimmed):.2f}')\n",
    "print(f'Training Mean Absolute Error (MAE): {mean_absolute_error(y_train_trimmed, rf.predict(X_train_final))}')\n",
    "print('----Testing Set----')\n",
    "print(f'Validation Score: {rf.score(X_test_final, y_test):.2f}')\n",
    "print(f'Validation Mean Absolute Error (MAE): {mean_absolute_error(y_test, rf.predict(X_test_final))}')"
   ]
  },
  {
   "cell_type": "code",
   "execution_count": 210,
   "metadata": {},
   "outputs": [
    {
     "name": "stdout",
     "output_type": "stream",
     "text": [
      "----Training Set----\n",
      "Training Score: 0.94\n",
      "Training Mean Absolute Error (MAE): 18255.33301380044\n",
      "----Testing Set----\n",
      "Validation Score: 0.80\n",
      "Validation Mean Absolute Error (MAE): 33259.6850888774\n",
      "CPU times: user 101 ms, sys: 16.8 ms, total: 118 ms\n",
      "Wall time: 27.4 ms\n"
     ]
    }
   ],
   "source": [
    "%%time\n",
    "print('----Training Set----')\n",
    "print(f'Training Score: {xgb.score(X_train_final, y_train_trimmed):.2f}')\n",
    "print(f'Training Mean Absolute Error (MAE): {mean_absolute_error(y_train_trimmed, xgb.predict(X_train_final))}')\n",
    "print('----Testing Set----')\n",
    "print(f'Validation Score: {xgb.score(X_test_final, y_test):.2f}')\n",
    "print(f'Validation Mean Absolute Error (MAE): {mean_absolute_error(y_test, xgb.predict(X_test_final))}')"
   ]
  },
  {
   "cell_type": "markdown",
   "metadata": {},
   "source": [
    "##### Kesimpulan analakysis"
   ]
  },
  {
   "cell_type": "markdown",
   "metadata": {},
   "source": [
    "Model Xgost adalah paling b ik. Meskipun underfittimg, namun nilai MAE menunjukkan yang paling kecil diantara lainnya."
   ]
  }
 ],
 "metadata": {
  "kernelspec": {
   "display_name": "Python 3.9.12 ('base')",
   "language": "python",
   "name": "python3"
  },
  "language_info": {
   "codemirror_mode": {
    "name": "ipython",
    "version": 3
   },
   "file_extension": ".py",
   "mimetype": "text/x-python",
   "name": "python",
   "nbconvert_exporter": "python",
   "pygments_lexer": "ipython3",
   "version": "3.9.12"
  },
  "orig_nbformat": 4,
  "vscode": {
   "interpreter": {
    "hash": "74a5c95dddfe502c417b8be25df9a2b0b624ffe0ac9741929882f409451b42b7"
   }
  }
 },
 "nbformat": 4,
 "nbformat_minor": 2
}
